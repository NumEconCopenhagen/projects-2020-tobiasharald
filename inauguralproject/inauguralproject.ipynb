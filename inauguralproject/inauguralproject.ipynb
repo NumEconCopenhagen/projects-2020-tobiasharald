{
 "cells": [
  {
   "cell_type": "markdown",
   "metadata": {},
   "source": [
    "# Inaugural Project"
   ]
  },
  {
   "cell_type": "markdown",
   "metadata": {},
   "source": [
    "> **Note the following:** \n",
    "> 1. This is an example of how to structure your **inaugural project**.\n",
    "> 1. Remember the general advice on structuring and commenting your code from [lecture 5](https://numeconcopenhagen.netlify.com/lectures/Workflow_and_debugging).\n",
    "> 1. Remember this [guide](https://www.markdownguide.org/basic-syntax/) on markdown and (a bit of) latex.\n",
    "> 1. Turn on automatic numbering by clicking on the small icon on top of the table of contents in the left sidebar.\n",
    "> 1. The `inauguralproject.py` file includes a function which can be used multiple times in this notebook."
   ]
  },
  {
   "cell_type": "markdown",
   "metadata": {},
   "source": [
    "Imports and set magics:"
   ]
  },
  {
   "cell_type": "code",
   "execution_count": 1,
   "metadata": {},
   "outputs": [],
   "source": [
    "import numpy as np\n",
    "\n",
    "# autoreload modules when code is run\n",
    "%load_ext autoreload\n",
    "%autoreload 2\n",
    "\n",
    "# local modules\n",
    "import inauguralproject\n",
    "\n",
    "# SELV\n",
    "import itertools as it\n",
    "import scipy\n",
    "from scipy import optimize \n",
    "\n",
    "%matplotlib inline\n",
    "import matplotlib.pyplot as plt\n",
    "plt.style.use('seaborn')"
   ]
  },
  {
   "cell_type": "markdown",
   "metadata": {
    "toc-hr-collapsed": true
   },
   "source": [
    "# Question 1"
   ]
  },
  {
   "cell_type": "markdown",
   "metadata": {},
   "source": [
    "BRIEFLY EXPLAIN HOW YOU SOLVE THE MODEL."
   ]
  },
  {
   "cell_type": "code",
   "execution_count": 106,
   "metadata": {},
   "outputs": [],
   "source": [
    "##We define the function"
   ]
  },
  {
   "cell_type": "code",
   "execution_count": 5,
   "metadata": {},
   "outputs": [],
   "source": [
    "# We define the variables, where we set w=1, in order to try the code.\n",
    "m = 1\n",
    "w = 1\n",
    "v = 10\n",
    "e = 0.3\n",
    "tau_0 = 0.4\n",
    "tau_1 = 0.1\n",
    "k = 0.4\n",
    "\n",
    "# We define the utility function:\n",
    "def utility(c,l,v,e):\n",
    "    u = np.log(c) - v*(l**(1+(1/e))/(1+(1/e)))\n",
    "    return u\n",
    "\n",
    "# We define the constraint\n",
    "def constraint(m,w,l,tau_0,tau_1,k):\n",
    "    x = m + w*l - (tau_0*w*l + tau_1*np.max(w*l-k,0))\n",
    "    return x\n",
    "\n",
    "# We define the consumption choice as a function of the constraint\n",
    "def choice(l,w,e,v,tau_0,tau_1,k,m):\n",
    "    c = constraint(m,w,l,tau_0,tau_1,k)\n",
    "    return -utility(c,l,v,e)\n",
    "\n",
    "# We define the function in order to determine the laboursupply and consumption optimizing output\n",
    "def optimizer(w,e,v,tau_0,tau_1,k,m,do_print=False):\n",
    "    result = optimize.minimize_scalar(choice, method='bounded',bounds=(0,1), args=(w,e,v,tau_0,tau_1,k,m))\n",
    "    \n",
    "    l_opt = result.x\n",
    "    c_opt = constraint(m,w,l_opt,tau_0,tau_1,k)\n",
    "    u_opt = utility(c_opt,l_opt,v,e)\n",
    "    \n",
    "    if do_print:\n",
    "        print(f'l_opt = {l_opt:4f}')\n",
    "        print(f'c_opt = {c_opt:4f}')\n",
    "        print(f'u_opt = {u_opt:4f}')\n",
    "    return l_opt,c_opt,u_opt"
   ]
  },
  {
   "cell_type": "markdown",
   "metadata": {},
   "source": [
    "# Question 2"
   ]
  },
  {
   "cell_type": "markdown",
   "metadata": {},
   "source": [
    "ADD ANSWER."
   ]
  },
  {
   "cell_type": "code",
   "execution_count": 9,
   "metadata": {},
   "outputs": [
    {
     "name": "stdout",
     "output_type": "stream",
     "text": "l_opt = 0.382463\nc_opt = 1.231232\nu_opt = 0.172172\n"
    },
    {
     "data": {
      "text/plain": "(0.3824630518597855, 1.2312315259298927, 0.17217235004531845)"
     },
     "execution_count": 9,
     "metadata": {},
     "output_type": "execute_result"
    }
   ],
   "source": [
    "#We run the optimization with w=1 to find the average parameters.\n",
    "optimizer(w,e,v,tau_0,tau_1,k,m,do_print=True)"
   ]
  },
  {
   "cell_type": "code",
   "execution_count": 11,
   "metadata": {},
   "outputs": [
    {
     "name": "stdout",
     "output_type": "stream",
     "text": "0.3824630518597855\n1.2312315259298927\n0.17217235004531845\n"
    }
   ],
   "source": [
    "l_opt=optimizer(w,e,v,tau_0,tau_1,k,m)[0]\n",
    "print(l_opt)\n",
    "c_opt=optimizer(w,e,v,tau_0,tau_1,k,m)[1]\n",
    "print(c_opt)\n",
    "u_opt=optimizer(w,e,v,tau_0,tau_1,k,m)[2]\n",
    "print(u_opt)"
   ]
  },
  {
   "cell_type": "code",
   "execution_count": 12,
   "metadata": {},
   "outputs": [
    {
     "data": {
      "image/png": "[encoded data removed]",
      "image/svg+xml": "<?xml version=\"1.0\" encoding=\"utf-8\" standalone=\"no\"?>\n<!DOCTYPE svg PUBLIC \"-//W3C//DTD SVG 1.1//EN\"\n  \"http://www.w3.org/Graphics/SVG/1.1/DTD/svg11.dtd\">\n<!-- Created with matplotlib (http://matplotlib.org/) -->\n<svg height=\"486.722188pt\" version=\"1.1\" viewBox=\"0 0 499.65 486.722188\" width=\"499.65pt\" xmlns=\"http://www.w3.org/2000/svg\" xmlns:xlink=\"http://www.w3.org/1999/xlink\">\n <defs>\n  <style type=\"text/css\">\n*{stroke-linecap:butt;stroke-linejoin:round;}\n  </style>\n </defs>\n <g id=\"figure_1\">\n  <g id=\"patch_1\">\n   <path d=\"M 0 486.722188 \nL 499.65 486.722188 \nL 499.65 0 \nL 0 0 \nz\n\" style=\"fill:none;\"/>\n  </g>\n  <g id=\"axes_1\">\n   <g id=\"patch_2\">\n    <path d=\"M 46.05 445.658906 \nL 492.45 445.658906 \nL 492.45 10.778906 \nL 46.05 10.778906 \nz\n\" style=\"fill:#eaeaf2;\"/>\n   </g>\n   <g id=\"matplotlib.axis_1\">\n    <g id=\"xtick_1\">\n     <g id=\"line2d_1\">\n      <path clip-path=\"url(#p986ae1f765)\" d=\"M 90.69 445.658906 \nL 90.69 10.778906 \n\" style=\"fill:none;stroke:#ffffff;stroke-linecap:round;\"/>\n     </g>\n     <g id=\"line2d_2\"/>\n     <g id=\"text_1\">\n      <!-- 0.6 -->\n      <defs>\n       <path d=\"M 4.15625 35.296875 \nQ 4.15625 48 6.765625 55.734375 \nQ 9.375 63.484375 14.515625 67.671875 \nQ 19.671875 71.875 27.484375 71.875 \nQ 33.25 71.875 37.59375 69.546875 \nQ 41.9375 67.234375 44.765625 62.859375 \nQ 47.609375 58.5 49.21875 52.21875 \nQ 50.828125 45.953125 50.828125 35.296875 \nQ 50.828125 22.703125 48.234375 14.96875 \nQ 45.65625 7.234375 40.5 3 \nQ 35.359375 -1.21875 27.484375 -1.21875 \nQ 17.140625 -1.21875 11.234375 6.203125 \nQ 4.15625 15.140625 4.15625 35.296875 \nz\nM 13.1875 35.296875 \nQ 13.1875 17.671875 17.3125 11.828125 \nQ 21.4375 6 27.484375 6 \nQ 33.546875 6 37.671875 11.859375 \nQ 41.796875 17.71875 41.796875 35.296875 \nQ 41.796875 52.984375 37.671875 58.78125 \nQ 33.546875 64.59375 27.390625 64.59375 \nQ 21.34375 64.59375 17.71875 59.46875 \nQ 13.1875 52.9375 13.1875 35.296875 \nz\n\" id=\"ArialMT-30\"/>\n       <path d=\"M 9.078125 0 \nL 9.078125 10.015625 \nL 19.09375 10.015625 \nL 19.09375 0 \nz\n\" id=\"ArialMT-2e\"/>\n       <path d=\"M 49.75 54.046875 \nL 41.015625 53.375 \nQ 39.84375 58.546875 37.703125 60.890625 \nQ 34.125 64.65625 28.90625 64.65625 \nQ 24.703125 64.65625 21.53125 62.3125 \nQ 17.390625 59.28125 14.984375 53.46875 \nQ 12.59375 47.65625 12.5 36.921875 \nQ 15.671875 41.75 20.265625 44.09375 \nQ 24.859375 46.4375 29.890625 46.4375 \nQ 38.671875 46.4375 44.84375 39.96875 \nQ 51.03125 33.5 51.03125 23.25 \nQ 51.03125 16.5 48.125 10.71875 \nQ 45.21875 4.9375 40.140625 1.859375 \nQ 35.0625 -1.21875 28.609375 -1.21875 \nQ 17.625 -1.21875 10.6875 6.859375 \nQ 3.765625 14.9375 3.765625 33.5 \nQ 3.765625 54.25 11.421875 63.671875 \nQ 18.109375 71.875 29.4375 71.875 \nQ 37.890625 71.875 43.28125 67.140625 \nQ 48.6875 62.40625 49.75 54.046875 \nz\nM 13.875 23.1875 \nQ 13.875 18.65625 15.796875 14.5 \nQ 17.71875 10.359375 21.1875 8.171875 \nQ 24.65625 6 28.46875 6 \nQ 34.03125 6 38.03125 10.484375 \nQ 42.046875 14.984375 42.046875 22.703125 \nQ 42.046875 30.125 38.078125 34.390625 \nQ 34.125 38.671875 28.125 38.671875 \nQ 22.171875 38.671875 18.015625 34.390625 \nQ 13.875 30.125 13.875 23.1875 \nz\n\" id=\"ArialMT-36\"/>\n      </defs>\n      <g style=\"fill:#262626;\" transform=\"translate(83.74 459.816719)scale(0.1 -0.1)\">\n       <use xlink:href=\"#ArialMT-30\"/>\n       <use x=\"55.615234\" xlink:href=\"#ArialMT-2e\"/>\n       <use x=\"83.398438\" xlink:href=\"#ArialMT-36\"/>\n      </g>\n     </g>\n    </g>\n    <g id=\"xtick_2\">\n     <g id=\"line2d_3\">\n      <path clip-path=\"url(#p986ae1f765)\" d=\"M 179.97 445.658906 \nL 179.97 10.778906 \n\" style=\"fill:none;stroke:#ffffff;stroke-linecap:round;\"/>\n     </g>\n     <g id=\"line2d_4\"/>\n     <g id=\"text_2\">\n      <!-- 0.8 -->\n      <defs>\n       <path d=\"M 17.671875 38.8125 \nQ 12.203125 40.828125 9.5625 44.53125 \nQ 6.9375 48.25 6.9375 53.421875 \nQ 6.9375 61.234375 12.546875 66.546875 \nQ 18.171875 71.875 27.484375 71.875 \nQ 36.859375 71.875 42.578125 66.421875 \nQ 48.296875 60.984375 48.296875 53.171875 \nQ 48.296875 48.1875 45.671875 44.5 \nQ 43.0625 40.828125 37.75 38.8125 \nQ 44.34375 36.671875 47.78125 31.875 \nQ 51.21875 27.09375 51.21875 20.453125 \nQ 51.21875 11.28125 44.71875 5.03125 \nQ 38.234375 -1.21875 27.640625 -1.21875 \nQ 17.046875 -1.21875 10.546875 5.046875 \nQ 4.046875 11.328125 4.046875 20.703125 \nQ 4.046875 27.6875 7.59375 32.390625 \nQ 11.140625 37.109375 17.671875 38.8125 \nz\nM 15.921875 53.71875 \nQ 15.921875 48.640625 19.1875 45.40625 \nQ 22.46875 42.1875 27.6875 42.1875 \nQ 32.765625 42.1875 36.015625 45.375 \nQ 39.265625 48.578125 39.265625 53.21875 \nQ 39.265625 58.0625 35.90625 61.359375 \nQ 32.5625 64.65625 27.59375 64.65625 \nQ 22.5625 64.65625 19.234375 61.421875 \nQ 15.921875 58.203125 15.921875 53.71875 \nz\nM 13.09375 20.65625 \nQ 13.09375 16.890625 14.875 13.375 \nQ 16.65625 9.859375 20.171875 7.921875 \nQ 23.6875 6 27.734375 6 \nQ 34.03125 6 38.125 10.046875 \nQ 42.234375 14.109375 42.234375 20.359375 \nQ 42.234375 26.703125 38.015625 30.859375 \nQ 33.796875 35.015625 27.4375 35.015625 \nQ 21.234375 35.015625 17.15625 30.90625 \nQ 13.09375 26.8125 13.09375 20.65625 \nz\n\" id=\"ArialMT-38\"/>\n      </defs>\n      <g style=\"fill:#262626;\" transform=\"translate(173.02 459.816719)scale(0.1 -0.1)\">\n       <use xlink:href=\"#ArialMT-30\"/>\n       <use x=\"55.615234\" xlink:href=\"#ArialMT-2e\"/>\n       <use x=\"83.398438\" xlink:href=\"#ArialMT-38\"/>\n      </g>\n     </g>\n    </g>\n    <g id=\"xtick_3\">\n     <g id=\"line2d_5\">\n      <path clip-path=\"url(#p986ae1f765)\" d=\"M 269.25 445.658906 \nL 269.25 10.778906 \n\" style=\"fill:none;stroke:#ffffff;stroke-linecap:round;\"/>\n     </g>\n     <g id=\"line2d_6\"/>\n     <g id=\"text_3\">\n      <!-- 1.0 -->\n      <defs>\n       <path d=\"M 37.25 0 \nL 28.46875 0 \nL 28.46875 56 \nQ 25.296875 52.984375 20.140625 49.953125 \nQ 14.984375 46.921875 10.890625 45.40625 \nL 10.890625 53.90625 \nQ 18.265625 57.375 23.78125 62.296875 \nQ 29.296875 67.234375 31.59375 71.875 \nL 37.25 71.875 \nz\n\" id=\"ArialMT-31\"/>\n      </defs>\n      <g style=\"fill:#262626;\" transform=\"translate(262.3 459.816719)scale(0.1 -0.1)\">\n       <use xlink:href=\"#ArialMT-31\"/>\n       <use x=\"55.615234\" xlink:href=\"#ArialMT-2e\"/>\n       <use x=\"83.398438\" xlink:href=\"#ArialMT-30\"/>\n      </g>\n     </g>\n    </g>\n    <g id=\"xtick_4\">\n     <g id=\"line2d_7\">\n      <path clip-path=\"url(#p986ae1f765)\" d=\"M 358.53 445.658906 \nL 358.53 10.778906 \n\" style=\"fill:none;stroke:#ffffff;stroke-linecap:round;\"/>\n     </g>\n     <g id=\"line2d_8\"/>\n     <g id=\"text_4\">\n      <!-- 1.2 -->\n      <defs>\n       <path d=\"M 50.34375 8.453125 \nL 50.34375 0 \nL 3.03125 0 \nQ 2.9375 3.171875 4.046875 6.109375 \nQ 5.859375 10.9375 9.828125 15.625 \nQ 13.8125 20.3125 21.34375 26.46875 \nQ 33.015625 36.03125 37.109375 41.625 \nQ 41.21875 47.21875 41.21875 52.203125 \nQ 41.21875 57.421875 37.46875 61 \nQ 33.734375 64.59375 27.734375 64.59375 \nQ 21.390625 64.59375 17.578125 60.78125 \nQ 13.765625 56.984375 13.71875 50.25 \nL 4.6875 51.171875 \nQ 5.609375 61.28125 11.65625 66.578125 \nQ 17.71875 71.875 27.9375 71.875 \nQ 38.234375 71.875 44.234375 66.15625 \nQ 50.25 60.453125 50.25 52 \nQ 50.25 47.703125 48.484375 43.546875 \nQ 46.734375 39.40625 42.65625 34.8125 \nQ 38.578125 30.21875 29.109375 22.21875 \nQ 21.1875 15.578125 18.9375 13.203125 \nQ 16.703125 10.84375 15.234375 8.453125 \nz\n\" id=\"ArialMT-32\"/>\n      </defs>\n      <g style=\"fill:#262626;\" transform=\"translate(351.58 459.816719)scale(0.1 -0.1)\">\n       <use xlink:href=\"#ArialMT-31\"/>\n       <use x=\"55.615234\" xlink:href=\"#ArialMT-2e\"/>\n       <use x=\"83.398438\" xlink:href=\"#ArialMT-32\"/>\n      </g>\n     </g>\n    </g>\n    <g id=\"xtick_5\">\n     <g id=\"line2d_9\">\n      <path clip-path=\"url(#p986ae1f765)\" d=\"M 447.81 445.658906 \nL 447.81 10.778906 \n\" style=\"fill:none;stroke:#ffffff;stroke-linecap:round;\"/>\n     </g>\n     <g id=\"line2d_10\"/>\n     <g id=\"text_5\">\n      <!-- 1.4 -->\n      <defs>\n       <path d=\"M 32.328125 0 \nL 32.328125 17.140625 \nL 1.265625 17.140625 \nL 1.265625 25.203125 \nL 33.9375 71.578125 \nL 41.109375 71.578125 \nL 41.109375 25.203125 \nL 50.78125 25.203125 \nL 50.78125 17.140625 \nL 41.109375 17.140625 \nL 41.109375 0 \nz\nM 32.328125 25.203125 \nL 32.328125 57.46875 \nL 9.90625 25.203125 \nz\n\" id=\"ArialMT-34\"/>\n      </defs>\n      <g style=\"fill:#262626;\" transform=\"translate(440.86 459.816719)scale(0.1 -0.1)\">\n       <use xlink:href=\"#ArialMT-31\"/>\n       <use x=\"55.615234\" xlink:href=\"#ArialMT-2e\"/>\n       <use x=\"83.398438\" xlink:href=\"#ArialMT-34\"/>\n      </g>\n     </g>\n    </g>\n    <g id=\"text_6\">\n     <!-- w -->\n     <defs>\n      <path d=\"M 16.15625 0 \nL 0.296875 51.859375 \nL 9.375 51.859375 \nL 17.625 21.921875 \nL 20.703125 10.796875 \nQ 20.90625 11.625 23.390625 21.484375 \nL 31.640625 51.859375 \nL 40.671875 51.859375 \nL 48.4375 21.78125 \nL 51.03125 11.859375 \nL 54 21.875 \nL 62.890625 51.859375 \nL 71.4375 51.859375 \nL 55.21875 0 \nL 46.09375 0 \nL 37.84375 31.0625 \nL 35.84375 39.890625 \nL 25.34375 0 \nz\n\" id=\"ArialMT-77\"/>\n     </defs>\n     <g style=\"fill:#262626;\" transform=\"translate(263.833594 476.540938)scale(0.15 -0.15)\">\n      <use xlink:href=\"#ArialMT-77\"/>\n     </g>\n    </g>\n   </g>\n   <g id=\"matplotlib.axis_2\">\n    <g id=\"ytick_1\">\n     <g id=\"line2d_11\">\n      <path clip-path=\"url(#p986ae1f765)\" d=\"M 46.05 445.658906 \nL 492.45 445.658906 \n\" style=\"fill:none;stroke:#ffffff;stroke-linecap:round;\"/>\n     </g>\n     <g id=\"line2d_12\"/>\n     <g id=\"text_7\">\n      <!-- 0.0 -->\n      <g style=\"fill:#262626;\" transform=\"translate(25.15 449.237813)scale(0.1 -0.1)\">\n       <use xlink:href=\"#ArialMT-30\"/>\n       <use x=\"55.615234\" xlink:href=\"#ArialMT-2e\"/>\n       <use x=\"83.398438\" xlink:href=\"#ArialMT-30\"/>\n      </g>\n     </g>\n    </g>\n    <g id=\"ytick_2\">\n     <g id=\"line2d_13\">\n      <path clip-path=\"url(#p986ae1f765)\" d=\"M 46.05 383.533192 \nL 492.45 383.533192 \n\" style=\"fill:none;stroke:#ffffff;stroke-linecap:round;\"/>\n     </g>\n     <g id=\"line2d_14\"/>\n     <g id=\"text_8\">\n      <!-- 0.2 -->\n      <g style=\"fill:#262626;\" transform=\"translate(25.15 387.112098)scale(0.1 -0.1)\">\n       <use xlink:href=\"#ArialMT-30\"/>\n       <use x=\"55.615234\" xlink:href=\"#ArialMT-2e\"/>\n       <use x=\"83.398438\" xlink:href=\"#ArialMT-32\"/>\n      </g>\n     </g>\n    </g>\n    <g id=\"ytick_3\">\n     <g id=\"line2d_15\">\n      <path clip-path=\"url(#p986ae1f765)\" d=\"M 46.05 321.407478 \nL 492.45 321.407478 \n\" style=\"fill:none;stroke:#ffffff;stroke-linecap:round;\"/>\n     </g>\n     <g id=\"line2d_16\"/>\n     <g id=\"text_9\">\n      <!-- 0.4 -->\n      <g style=\"fill:#262626;\" transform=\"translate(25.15 324.986384)scale(0.1 -0.1)\">\n       <use xlink:href=\"#ArialMT-30\"/>\n       <use x=\"55.615234\" xlink:href=\"#ArialMT-2e\"/>\n       <use x=\"83.398438\" xlink:href=\"#ArialMT-34\"/>\n      </g>\n     </g>\n    </g>\n    <g id=\"ytick_4\">\n     <g id=\"line2d_17\">\n      <path clip-path=\"url(#p986ae1f765)\" d=\"M 46.05 259.281763 \nL 492.45 259.281763 \n\" style=\"fill:none;stroke:#ffffff;stroke-linecap:round;\"/>\n     </g>\n     <g id=\"line2d_18\"/>\n     <g id=\"text_10\">\n      <!-- 0.6 -->\n      <g style=\"fill:#262626;\" transform=\"translate(25.15 262.86067)scale(0.1 -0.1)\">\n       <use xlink:href=\"#ArialMT-30\"/>\n       <use x=\"55.615234\" xlink:href=\"#ArialMT-2e\"/>\n       <use x=\"83.398438\" xlink:href=\"#ArialMT-36\"/>\n      </g>\n     </g>\n    </g>\n    <g id=\"ytick_5\">\n     <g id=\"line2d_19\">\n      <path clip-path=\"url(#p986ae1f765)\" d=\"M 46.05 197.156049 \nL 492.45 197.156049 \n\" style=\"fill:none;stroke:#ffffff;stroke-linecap:round;\"/>\n     </g>\n     <g id=\"line2d_20\"/>\n     <g id=\"text_11\">\n      <!-- 0.8 -->\n      <g style=\"fill:#262626;\" transform=\"translate(25.15 200.734955)scale(0.1 -0.1)\">\n       <use xlink:href=\"#ArialMT-30\"/>\n       <use x=\"55.615234\" xlink:href=\"#ArialMT-2e\"/>\n       <use x=\"83.398438\" xlink:href=\"#ArialMT-38\"/>\n      </g>\n     </g>\n    </g>\n    <g id=\"ytick_6\">\n     <g id=\"line2d_21\">\n      <path clip-path=\"url(#p986ae1f765)\" d=\"M 46.05 135.030335 \nL 492.45 135.030335 \n\" style=\"fill:none;stroke:#ffffff;stroke-linecap:round;\"/>\n     </g>\n     <g id=\"line2d_22\"/>\n     <g id=\"text_12\">\n      <!-- 1.0 -->\n      <g style=\"fill:#262626;\" transform=\"translate(25.15 138.609241)scale(0.1 -0.1)\">\n       <use xlink:href=\"#ArialMT-31\"/>\n       <use x=\"55.615234\" xlink:href=\"#ArialMT-2e\"/>\n       <use x=\"83.398438\" xlink:href=\"#ArialMT-30\"/>\n      </g>\n     </g>\n    </g>\n    <g id=\"ytick_7\">\n     <g id=\"line2d_23\">\n      <path clip-path=\"url(#p986ae1f765)\" d=\"M 46.05 72.904621 \nL 492.45 72.904621 \n\" style=\"fill:none;stroke:#ffffff;stroke-linecap:round;\"/>\n     </g>\n     <g id=\"line2d_24\"/>\n     <g id=\"text_13\">\n      <!-- 1.2 -->\n      <g style=\"fill:#262626;\" transform=\"translate(25.15 76.483527)scale(0.1 -0.1)\">\n       <use xlink:href=\"#ArialMT-31\"/>\n       <use x=\"55.615234\" xlink:href=\"#ArialMT-2e\"/>\n       <use x=\"83.398438\" xlink:href=\"#ArialMT-32\"/>\n      </g>\n     </g>\n    </g>\n    <g id=\"ytick_8\">\n     <g id=\"line2d_25\">\n      <path clip-path=\"url(#p986ae1f765)\" d=\"M 46.05 10.778906 \nL 492.45 10.778906 \n\" style=\"fill:none;stroke:#ffffff;stroke-linecap:round;\"/>\n     </g>\n     <g id=\"line2d_26\"/>\n     <g id=\"text_14\">\n      <!-- 1.4 -->\n      <g style=\"fill:#262626;\" transform=\"translate(25.15 14.357812)scale(0.1 -0.1)\">\n       <use xlink:href=\"#ArialMT-31\"/>\n       <use x=\"55.615234\" xlink:href=\"#ArialMT-2e\"/>\n       <use x=\"83.398438\" xlink:href=\"#ArialMT-34\"/>\n      </g>\n     </g>\n    </g>\n    <g id=\"text_15\">\n     <!-- $c^*$   &amp;    $l^*$ -->\n     <defs>\n      <path d=\"M 53.609375 52.59375 \nL 51.8125 43.703125 \nQ 48.578125 46.046875 44.9375 47.21875 \nQ 41.3125 48.390625 37.40625 48.390625 \nQ 33.109375 48.390625 29.21875 46.875 \nQ 25.34375 45.359375 22.703125 42.578125 \nQ 18.5 38.328125 16.203125 32.609375 \nQ 13.921875 26.90625 13.921875 20.796875 \nQ 13.921875 13.421875 17.609375 9.8125 \nQ 21.296875 6.203125 28.8125 6.203125 \nQ 32.515625 6.203125 36.6875 7.328125 \nQ 40.875 8.453125 45.40625 10.6875 \nL 43.703125 1.8125 \nQ 39.796875 0.203125 35.671875 -0.609375 \nQ 31.546875 -1.421875 27.203125 -1.421875 \nQ 16.3125 -1.421875 10.453125 4.015625 \nQ 4.59375 9.46875 4.59375 19.578125 \nQ 4.59375 28.078125 7.640625 35.234375 \nQ 10.6875 42.390625 16.703125 48.09375 \nQ 20.796875 52 26.3125 54 \nQ 31.84375 56 38.375 56 \nQ 42.1875 56 45.9375 55.140625 \nQ 49.703125 54.296875 53.609375 52.59375 \nz\n\" id=\"DejaVuSans-Oblique-63\"/>\n      <path d=\"M 47.015625 60.890625 \nL 29.5 51.421875 \nL 47.015625 41.890625 \nL 44.1875 37.109375 \nL 27.78125 47.015625 \nL 27.78125 28.609375 \nL 22.21875 28.609375 \nL 22.21875 47.015625 \nL 5.8125 37.109375 \nL 2.984375 41.890625 \nL 20.515625 51.421875 \nL 2.984375 60.890625 \nL 5.8125 65.71875 \nL 22.21875 55.8125 \nL 22.21875 74.21875 \nL 27.78125 74.21875 \nL 27.78125 55.8125 \nL 44.1875 65.71875 \nz\n\" id=\"DejaVuSans-2a\"/>\n      <path id=\"ArialMT-20\"/>\n      <path d=\"M 47.515625 8.453125 \nQ 43.171875 3.609375 38.03125 1.1875 \nQ 32.90625 -1.21875 26.953125 -1.21875 \nQ 15.96875 -1.21875 9.515625 6.203125 \nQ 4.296875 12.25 4.296875 19.734375 \nQ 4.296875 26.375 8.5625 31.71875 \nQ 12.84375 37.0625 21.34375 41.109375 \nQ 16.5 46.6875 14.890625 50.140625 \nQ 13.28125 53.609375 13.28125 56.84375 \nQ 13.28125 63.28125 18.328125 68.03125 \nQ 23.390625 72.796875 31.0625 72.796875 \nQ 38.375 72.796875 43.03125 68.296875 \nQ 47.703125 63.8125 47.703125 57.515625 \nQ 47.703125 47.3125 34.1875 40.09375 \nL 47.015625 23.734375 \nQ 49.21875 28.03125 50.4375 33.6875 \nL 59.578125 31.734375 \nQ 57.234375 22.359375 53.21875 16.3125 \nQ 58.15625 9.765625 64.40625 5.328125 \nL 58.5 -1.65625 \nQ 53.171875 1.765625 47.515625 8.453125 \nz\nM 29.640625 45.75 \nQ 35.359375 49.125 37.03125 51.65625 \nQ 38.71875 54.203125 38.71875 57.28125 \nQ 38.71875 60.9375 36.390625 63.25 \nQ 34.078125 65.578125 30.609375 65.578125 \nQ 27.046875 65.578125 24.671875 63.28125 \nQ 22.3125 60.984375 22.3125 57.671875 \nQ 22.3125 56 23.171875 54.171875 \nQ 24.03125 52.34375 25.734375 50.296875 \nz\nM 42 15.375 \nL 25.875 35.359375 \nQ 18.75 31.109375 16.25 27.46875 \nQ 13.765625 23.828125 13.765625 20.265625 \nQ 13.765625 15.921875 17.234375 11.234375 \nQ 20.703125 6.546875 27.046875 6.546875 \nQ 31 6.546875 35.21875 9 \nQ 39.453125 11.46875 42 15.375 \nz\n\" id=\"ArialMT-26\"/>\n      <path d=\"M 18.3125 75.984375 \nL 27.296875 75.984375 \nL 12.5 0 \nL 3.515625 0 \nz\n\" id=\"DejaVuSans-Oblique-6c\"/>\n     </defs>\n     <g style=\"fill:#262626;\" transform=\"translate(18.16875 264.743906)rotate(-90)scale(0.15 -0.15)\">\n      <use transform=\"translate(0 0.765625)\" xlink:href=\"#DejaVuSans-Oblique-63\"/>\n      <use transform=\"translate(73.26806 39.046875)scale(0.7)\" xlink:href=\"#DejaVuSans-2a\"/>\n      <use transform=\"translate(124.64013 0.765625)\" xlink:href=\"#ArialMT-20\"/>\n      <use transform=\"translate(152.423333 0.765625)\" xlink:href=\"#ArialMT-20\"/>\n      <use transform=\"translate(180.206536 0.765625)\" xlink:href=\"#ArialMT-20\"/>\n      <use transform=\"translate(207.98974 0.765625)\" xlink:href=\"#ArialMT-26\"/>\n      <use transform=\"translate(274.688958 0.765625)\" xlink:href=\"#ArialMT-20\"/>\n      <use transform=\"translate(302.472161 0.765625)\" xlink:href=\"#ArialMT-20\"/>\n      <use transform=\"translate(330.255365 0.765625)\" xlink:href=\"#ArialMT-20\"/>\n      <use transform=\"translate(358.038568 0.765625)\" xlink:href=\"#ArialMT-20\"/>\n      <use transform=\"translate(385.821771 0.765625)\" xlink:href=\"#DejaVuSans-Oblique-6c\"/>\n      <use transform=\"translate(434.690378 39.046875)scale(0.7)\" xlink:href=\"#DejaVuSans-2a\"/>\n     </g>\n    </g>\n   </g>\n   <g id=\"line2d_27\">\n    <path clip-path=\"url(#p986ae1f765)\" d=\"M 46.05 346.377243 \nL 68.758595 343.734054 \nL 93.333161 341.100297 \nL 119.871906 338.482276 \nL 148.705171 335.86481 \nL 179.681176 333.280426 \nL 213.090086 330.718909 \nL 249.088142 328.184512 \nL 287.804802 325.683508 \nL 329.454338 323.218289 \nL 374.384947 320.783673 \nL 422.993929 318.375601 \nL 475.192003 316.016807 \nL 492.45 315.282702 \nL 492.45 315.282702 \n\" style=\"fill:none;stroke:#ff0000;stroke-linecap:round;stroke-width:1.75;\"/>\n   </g>\n   <g id=\"line2d_28\">\n    <path clip-path=\"url(#p986ae1f765)\" d=\"M 46.05 97.784776 \nL 84.873796 92.177692 \nL 126.992057 85.867156 \nL 172.485136 78.823558 \nL 221.786045 70.963178 \nL 275.117987 62.232091 \nL 332.994325 52.52864 \nL 395.65612 41.79412 \nL 463.41139 29.958845 \nL 492.45 24.823039 \nL 492.45 24.823039 \n\" style=\"fill:none;stroke:#0000ff;stroke-linecap:round;stroke-width:1.75;\"/>\n   </g>\n   <g id=\"patch_3\">\n    <path d=\"M 46.05 445.658906 \nL 46.05 10.778906 \n\" style=\"fill:none;\"/>\n   </g>\n   <g id=\"patch_4\">\n    <path d=\"M 492.45 445.658906 \nL 492.45 10.778906 \n\" style=\"fill:none;\"/>\n   </g>\n   <g id=\"patch_5\">\n    <path d=\"M 46.05 445.658906 \nL 492.45 445.658906 \n\" style=\"fill:none;\"/>\n   </g>\n   <g id=\"patch_6\">\n    <path d=\"M 46.05 10.778906 \nL 492.45 10.778906 \n\" style=\"fill:none;\"/>\n   </g>\n  </g>\n </g>\n <defs>\n  <clipPath id=\"p986ae1f765\">\n   <rect height=\"434.88\" width=\"446.4\" x=\"46.05\" y=\"10.778906\"/>\n  </clipPath>\n </defs>\n</svg>\n",
      "text/plain": "<Figure size 576x576 with 1 Axes>"
     },
     "metadata": {
      "needs_background": "light"
     },
     "output_type": "display_data"
    }
   ],
   "source": [
    "#We set the population to 10.000:\n",
    "N=100000\n",
    "#We create a vector for all values between 0.5-1.5 for the 10.0000 people:\n",
    "w_vec = np.linspace(0.5, 1.5, N)\n",
    "#Then we create to empty vectors for l and c in the same size:\n",
    "l_vec = np.empty(N)\n",
    "c_vec = np.empty(N)\n",
    "#Then we run our optimizer code with the different w\n",
    "\n",
    "for i,w in enumerate(w_vec) :\n",
    "    bundle=optimizer(w,e,v,tau_0,tau_1,k,m)\n",
    "    l_vec[i]=bundle[0]\n",
    "    c_vec[i]=bundle[1]\n",
    "\n",
    "fig=plt.figure(figsize=(8,8))\n",
    "ax=ax = fig.add_subplot(1,1,1)\n",
    "ax.plot(w_vec, l_vec, color='red')\n",
    "ax.plot(w_vec, c_vec, color='blue')\n",
    "ax.set_xlabel('w',size=15)\n",
    "ax.set_ylabel('$c^*$   &    $l^*$', size=15)\n",
    "ax.set_xlim([0.5,1.5])\n",
    "ax.set_ylim([0,1.4])\n",
    "ax.grid(True)\n"
   ]
  },
  {
   "cell_type": "markdown",
   "metadata": {},
   "source": [
    "# Question 3"
   ]
  },
  {
   "cell_type": "markdown",
   "metadata": {},
   "source": [
    "ADD ANSWER."
   ]
  },
  {
   "cell_type": "code",
   "execution_count": 15,
   "metadata": {},
   "outputs": [
    {
     "name": "stdout",
     "output_type": "stream",
     "text": "The total tax revenu is: 1773.219884\n"
    }
   ],
   "source": [
    "#We now find the tax revenu for a population of 10.000 \n",
    "N=10000\n",
    "np.random.seed(1032)\n",
    "wi_vec1 = np.random.uniform(0.5,1.5,size=N)\n",
    "l_vec1 = np.empty(N)\n",
    "for i,w in enumerate(wi_vec1) :\n",
    "    OPT=optimizer(w,e,v,tau_0,tau_1,k,m)\n",
    "    l_vec1[i]=OPT[0]\n",
    "\n",
    "total_tax= lambda l_vec1,wi_vec1: tau_0*wi_vec1*l_vec1+tau_1*np.max(wi_vec1*l_vec1-k,0)\n",
    "tax=total_tax(l_vec1,wi_vec1)\n",
    "print(f'The total tax revenu is: {np.sum(tax):4f}')"
   ]
  },
  {
   "cell_type": "markdown",
   "metadata": {},
   "source": [
    "# Question 4"
   ]
  },
  {
   "cell_type": "markdown",
   "metadata": {},
   "source": [
    "ADD ANSWER."
   ]
  },
  {
   "cell_type": "code",
   "execution_count": 18,
   "metadata": {},
   "outputs": [
    {
     "name": "stdout",
     "output_type": "stream",
     "text": "The total tax revenu is: 3575.223519\n"
    }
   ],
   "source": [
    "#TAX CALCULATION\n",
    "N=10000\n",
    "e1=0.1\n",
    "np.random.seed(1032)\n",
    "wi_vec2 = np.random.uniform(0.5,1.5,size=N)\n",
    "l_vec2 = np.empty(N)\n",
    "for i,w in enumerate(wi_vec2) :\n",
    "    OPT=optimizer(w,e1,v,tau_0,tau_1,k,m)\n",
    "    l_vec2[i]=OPT[0]\n",
    "\n",
    "total_tax= lambda l_vec2,wi_vec2: tau_0*wi_vec2*l_vec2+tau_1*np.max(wi_vec2*l_vec2-k,0)\n",
    "tax=total_tax(l_vec2,wi_vec2)\n",
    "print(f'The total tax revenu is: {np.sum(tax):4f}')"
   ]
  },
  {
   "cell_type": "markdown",
   "metadata": {},
   "source": [
    "# Question 5"
   ]
  },
  {
   "cell_type": "markdown",
   "metadata": {},
   "source": [
    "ADD ANSWER."
   ]
  },
  {
   "cell_type": "code",
   "execution_count": 132,
   "metadata": {},
   "outputs": [
    {
     "name": "stdout",
     "output_type": "stream",
     "text": "[0.31061127 0.32881065 0.29524442 ... 0.3774246  0.3801046  0.33144939]\n"
    },
    {
     "data": {
      "text/plain": "3273.191447952414"
     },
     "execution_count": 132,
     "metadata": {},
     "output_type": "execute_result"
    }
   ],
   "source": [
    "# code\n",
    "N=10000\n",
    "eps1=0.1\n",
    "tau_0opt=0.2\n",
    "tau_1opt=0.2\n",
    "kopt=0.2\n",
    "np.random.seed(1032)\n",
    "wi_vec = np.random.uniform(0.5,1.5,size=N)\n",
    "l_vec = np.empty(N)\n",
    "c_vec = np.empty(N)\n",
    "for i,w in enumerate(w_vec) :\n",
    "    bundle=optimizer(w,eps1,v,tau_0opt,tau_1opt,kopt,m)\n",
    "    l_vec[i]=bundle[0]\n",
    "\n",
    "total_tax= lambda l_vec,wi_vec: tau_0opt*wi_vec*l_vec+tau_1opt*np.max(wi_vec*l_vec-kopt,0)\n",
    "tax=total_tax(l_vec,wi_vec)\n",
    "print(tax)\n",
    "np.sum(tax)"
   ]
  },
  {
   "cell_type": "code",
   "execution_count": 116,
   "metadata": {},
   "outputs": [],
   "source": [
    "# Utility2\n",
    "N=10\n",
    "m = 1\n",
    "v = 10\n",
    "eps = 0.3\n",
    "w=1\n",
    "def utility(c,l,v,eps):\n",
    "    u = np.log(c) - v*(l**(1+1/eps)/(1+1/eps))\n",
    "    return u\n",
    "\n",
    "# Defining constraint\n",
    "def eq(m,w,l, params):\n",
    "    tau_0o,tau_1o, ko = params\n",
    "    x = m + w*l - (tau_0o*w*l + tau_1o*np.max(w*l-ko,0))\n",
    "    return x\n",
    "\n",
    "# Defining utility based on optimal consumption\n",
    "def choice(l,w,eps,v,m,params):\n",
    "    tau_0o,tau_1o, ko = params\n",
    "    c = eq(m,w,l,tau_0,tau_1,k)\n",
    "    return -utility(c,l,v,eps)\n",
    "\n",
    "# Defining function to optimize labour supply\n",
    "def optimizer(w,eps,v,m,params):\n",
    "    tau_0o,tau_1o, ko = params\n",
    "    res = opt.minimize_scalar(\n",
    "    choice, method='bounded',\n",
    "    bounds=(0,1), args=(w,eps,v,m,params))\n",
    "    \n",
    "    l_star = res.x\n",
    "    c_star = eq(m,w,l_star,params)\n",
    "    utility_star = utility(c_star,l_star,v,eps)\n",
    "    \n",
    "    return l_star,c_star,utility_star"
   ]
  },
  {
   "cell_type": "code",
   "execution_count": 119,
   "metadata": {},
   "outputs": [
    {
     "ename": "NameError",
     "evalue": "name 'pritn' is not defined",
     "output_type": "error",
     "traceback": [
      "\u001b[0;31m---------------------------------------------------------------------------\u001b[0m",
      "\u001b[0;31mNameError\u001b[0m                                 Traceback (most recent call last)",
      "\u001b[0;32m<ipython-input-119-261a756ae049>\u001b[0m in \u001b[0;36m<module>\u001b[0;34m\u001b[0m\n\u001b[1;32m      4\u001b[0m \u001b[0;34m\u001b[0m\u001b[0m\n\u001b[1;32m      5\u001b[0m     \u001b[0mtau_0opt\u001b[0m\u001b[0;34m*\u001b[0m\u001b[0mwi_vec\u001b[0m\u001b[0;34m*\u001b[0m\u001b[0ml_vec\u001b[0m\u001b[0;34m+\u001b[0m\u001b[0mtau_1opt\u001b[0m\u001b[0;34m*\u001b[0m\u001b[0mnp\u001b[0m\u001b[0;34m.\u001b[0m\u001b[0mmax\u001b[0m\u001b[0;34m(\u001b[0m\u001b[0mwi_vec\u001b[0m\u001b[0;34m*\u001b[0m\u001b[0ml_vec\u001b[0m\u001b[0;34m-\u001b[0m\u001b[0mkopt\u001b[0m\u001b[0;34m,\u001b[0m\u001b[0;36m0\u001b[0m\u001b[0;34m)\u001b[0m\u001b[0;34m\u001b[0m\u001b[0;34m\u001b[0m\u001b[0m\n\u001b[0;32m----> 6\u001b[0;31m \u001b[0mpritn\u001b[0m\u001b[0;34m\u001b[0m\u001b[0;34m\u001b[0m\u001b[0m\n\u001b[0m",
      "\u001b[0;31mNameError\u001b[0m: name 'pritn' is not defined"
     ]
    }
   ],
   "source": [
    "def taxoptimizer(w,eps,v,m,params):\n",
    "    tau_0o,tau_1o, ko = params\n",
    "    res = opt.optimize.minimize(choice, method='SLSQP', bounds=(0,1), args=(w,eps,v,m,params))\n",
    "\n",
    "    tau_0opt*wi_vec*l_vec+tau_1opt*np.max(wi_vec*l_vec-kopt,0)\n",
    "pritn "
   ]
  },
  {
   "cell_type": "code",
   "execution_count": null,
   "metadata": {},
   "outputs": [],
   "source": [
    "N=10000\n",
    "eps1=0.1\n",
    "np.random.seed(1032)\n",
    "wi_vec = np.random.uniform(0.5,1.5,size=N)\n",
    "l_vec = np.empty(N)\n",
    "c_vec = np.empty(N)\n",
    "for i,w in enumerate(w_vec) :\n",
    "    bundle=optimizer(w,eps1,v,tau_0_opt,tau_1_opt,k_opt,m)\n",
    "    l_vec[i]=bundle[0]\n",
    "\n",
    "total_tax= lambda l_vec,wi_vec: tau_0_opt*wi_vec*l_vec+tau_1_opt*np.max(wi_vec*l_vec-k_opt,0)\n",
    "tax=total_tax(l_vec,wi_vec)\n",
    "print(tax)\n",
    "np.sum(tax)\n",
    "\n",
    "def taxoptimizer1(tau_0_opt,tau_1_opt,k_opt):\n",
    "    result = optimize.minimize(\n",
    "    np.sum(tax), method='SLSQP',\n",
    "    bounds=(0,1), args=(w,eps,v,tau_0,tau_1,k,m))\n",
    "    \n",
    "    \n",
    "    return tau_0_opt,tau_1_opt,k_opt\n"
   ]
  },
  {
   "cell_type": "markdown",
   "metadata": {},
   "source": [
    "# Conclusion"
   ]
  },
  {
   "cell_type": "markdown",
   "metadata": {},
   "source": [
    "ADD CONCISE CONLUSION."
   ]
  }
 ],
 "metadata": {
  "kernelspec": {
   "display_name": "Python 3",
   "language": "python",
   "name": "python3"
  },
  "language_info": {
   "codemirror_mode": {
    "name": "ipython",
    "version": 3
   },
   "file_extension": ".py",
   "mimetype": "text/x-python",
   "name": "python",
   "nbconvert_exporter": "python",
   "pygments_lexer": "ipython3",
   "version": "3.7.3-final"
  },
  "toc-autonumbering": true
 },
 "nbformat": 4,
 "nbformat_minor": 4
}