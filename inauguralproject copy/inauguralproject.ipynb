{
 "cells": [
  {
   "cell_type": "markdown",
   "metadata": {},
   "source": [
    "# Inaugural Project"
   ]
  },
  {
   "cell_type": "markdown",
   "metadata": {},
   "source": [
    "> **Note the following:** \n",
    "> 1. This is an example of how to structure your **inaugural project**.\n",
    "> 1. Remember the general advice on structuring and commenting your code from [lecture 5](https://numeconcopenhagen.netlify.com/lectures/Workflow_and_debugging).\n",
    "> 1. Remember this [guide](https://www.markdownguide.org/basic-syntax/) on markdown and (a bit of) latex.\n",
    "> 1. Turn on automatic numbering by clicking on the small icon on top of the table of contents in the left sidebar.\n",
    "> 1. The `inauguralproject.py` file includes a function which can be used multiple times in this notebook."
   ]
  },
  {
   "cell_type": "markdown",
   "metadata": {},
   "source": [
    "Imports and set magics:"
   ]
  },
  {
   "cell_type": "code",
   "execution_count": 9,
   "metadata": {},
   "outputs": [],
   "source": [
    "import numpy as np\n",
    "\n",
    "# autoreload modules when code is run\n",
    "%load_ext autoreload\n",
    "%autoreload 2\n",
    "\n",
    "# local modules\n",
    "import inauguralproject\n",
    "\n",
    "# SELV\n",
    "import itertools as it\n",
    "from scipy import optimize\n",
    "\n",
    "%matplotlib inline\n",
    "import matplotlib.pyplot as plt\n",
    "plt.style.use('seaborn')"
   ]
  },
  {
   "cell_type": "markdown",
   "metadata": {
    "toc-hr-collapsed": true
   },
   "source": [
    "# Question 1"
   ]
  },
  {
   "cell_type": "markdown",
   "metadata": {},
   "source": [
    "BRIEFLY EXPLAIN HOW YOU SOLVE THE MODEL."
   ]
  },
  {
   "cell_type": "code",
   "execution_count": 134,
   "metadata": {},
   "outputs": [],
   "source": [
    "# code for solving the model (remember documentation and comments)\n",
    "#x1=c\n",
    "#x2=l\n",
    "def u_func(model,x1,x2):\n",
    "    return np.log(x1)-model.v*(x2**(1+1/model.epsilon)/(1+1/model.epsilon))"
   ]
  },
  {
   "cell_type": "code",
   "execution_count": 182,
   "metadata": {},
   "outputs": [],
   "source": [
    "def solve(model):\n",
    "        \n",
    "    # a. objective function (to minimize) \n",
    "    obj = lambda x: -model.u_func(x[0],x[1]) # minimize -> negtive of utility\n",
    "        \n",
    "    # b. constraints and bounds\n",
    "    con = lambda x: x[0]-model.m-model.w*x[1]+model.tau_0*model.w*x[1]+np.max(model.tau_1*(model.w*x[1]-model.k),0) # violated if negative\n",
    "    \n",
    "    constraints = ({'type':'ineq','fun':con})\n",
    "    \n",
    "    bounds = ((0,10),(0,1))\n",
    "        \n",
    "    # c. call solver\n",
    "    x0 = [0.5,0.5]\n",
    "    sol = optimize.minimize(obj,x0,method='SLSQP',bounds=bounds,constraints=constraints)\n",
    "        \n",
    "    # d. save\n",
    "    model.x1 = sol.x[0]\n",
    "    model.x2 = sol.x[1]\n",
    "    model.u = model.u_func(model.x1,model.x2)"
   ]
  },
  {
   "cell_type": "code",
   "execution_count": 183,
   "metadata": {},
   "outputs": [],
   "source": [
    "#metode 2\n",
    "# def fucntion\n",
    "\n",
    "def u_func2(c,l,v,epsilon):\n",
    "    return np.log(c)-v*((l**(1+1/epsilon))/(1+1/epsilon))"
   ]
  },
  {
   "cell_type": "code",
   "execution_count": 211,
   "metadata": {},
   "outputs": [],
   "source": [
    "# Find bst solution (optimize)\n",
    "def find_best_choice(v,epsilon,m,w,tau_0,tau_1,k,N,do_print=True):\n",
    "    \n",
    "    # a. allocate numpy arrays\n",
    "    shape_tuple = (N)\n",
    "    c_values = np.empty(shape_tuple)\n",
    "    l_values = np.empty(shape_tuple)\n",
    "    u_values = np.empty(shape_tuple)\n",
    "    \n",
    "    # b. start from guess of c_best=l_best=0\n",
    "    x_max = 1\n",
    "    c_best = 0\n",
    "    l_best = 0\n",
    "    u_best = u_func2(0,0,v,epsilon)\n",
    "    \n",
    "    # c. loop through all possibilities\n",
    "    for i in range(N):\n",
    "            \n",
    "        # i. c and l (chained assignment)\n",
    "        l_values[i] = l = (i/(N-1))*x_max\n",
    "        c_values[i] = c = m+w*l_values[i]-(tau_0*w*l_values[i]+np.max(tau_1*(w*l_values[i]-k),0))\n",
    "        u_values[i] = u_func2(c_values[i],l_values[i],v,epsilon)\n",
    "\n",
    "        if u_values[i] > u_best:\n",
    "            c_best = c_values[i]\n",
    "            l_best = l_values[i] \n",
    "            u_best = u_values[i]\n",
    "    \n",
    "    # d. print\n",
    "    if do_print:\n",
    "        print_solution(c_best,l_best,u_best)\n",
    "\n",
    "    return c_best,l_best,u_best,c_values,l_values,u_values\n",
    "\n",
    "# function for printing the solution\n",
    "def print_solution(c,l,u):\n",
    "    print(f'c = {c:.8f}')\n",
    "    print(f'l = {l:.8f}')\n",
    "    print(f'u  = {u:.8f}')\n"
   ]
  },
  {
   "cell_type": "code",
   "execution_count": 194,
   "metadata": {},
   "outputs": [
    {
     "ename": "NameError",
     "evalue": "name 'I' is not defined",
     "output_type": "error",
     "traceback": [
      "\u001b[0;31m---------------------------------------------------------------------------\u001b[0m",
      "\u001b[0;31mNameError\u001b[0m                                 Traceback (most recent call last)",
      "\u001b[0;32m<ipython-input-194-fbb4a835da62>\u001b[0m in \u001b[0;36m<module>\u001b[0;34m\u001b[0m\n\u001b[1;32m     10\u001b[0m \u001b[0;31m# b. constraints (violated if negative) and bounds\u001b[0m\u001b[0;34m\u001b[0m\u001b[0;34m\u001b[0m\u001b[0;34m\u001b[0m\u001b[0m\n\u001b[1;32m     11\u001b[0m \u001b[0mconstraints\u001b[0m \u001b[0;34m=\u001b[0m \u001b[0;34m(\u001b[0m\u001b[0;34m{\u001b[0m\u001b[0;34m'type'\u001b[0m\u001b[0;34m:\u001b[0m \u001b[0;34m'ineq'\u001b[0m\u001b[0;34m,\u001b[0m \u001b[0;34m'fun'\u001b[0m\u001b[0;34m:\u001b[0m \u001b[0;32mlambda\u001b[0m \u001b[0mx\u001b[0m\u001b[0;34m:\u001b[0m  \u001b[0mI\u001b[0m\u001b[0;34m-\u001b[0m\u001b[0mp1\u001b[0m\u001b[0;34m*\u001b[0m\u001b[0mx\u001b[0m\u001b[0;34m[\u001b[0m\u001b[0;36m0\u001b[0m\u001b[0;34m]\u001b[0m\u001b[0;34m-\u001b[0m\u001b[0mp2\u001b[0m\u001b[0;34m*\u001b[0m\u001b[0mx\u001b[0m\u001b[0;34m[\u001b[0m\u001b[0;36m1\u001b[0m\u001b[0;34m]\u001b[0m\u001b[0;34m}\u001b[0m\u001b[0;34m)\u001b[0m\u001b[0;34m\u001b[0m\u001b[0;34m\u001b[0m\u001b[0m\n\u001b[0;32m---> 12\u001b[0;31m \u001b[0mbounds\u001b[0m \u001b[0;34m=\u001b[0m \u001b[0;34m(\u001b[0m\u001b[0;34m(\u001b[0m\u001b[0;36m0\u001b[0m\u001b[0;34m,\u001b[0m\u001b[0mI\u001b[0m\u001b[0;34m/\u001b[0m\u001b[0mp1\u001b[0m\u001b[0;34m)\u001b[0m\u001b[0;34m,\u001b[0m\u001b[0;34m(\u001b[0m\u001b[0;36m0\u001b[0m\u001b[0;34m,\u001b[0m\u001b[0mI\u001b[0m\u001b[0;34m/\u001b[0m\u001b[0mp2\u001b[0m\u001b[0;34m)\u001b[0m\u001b[0;34m)\u001b[0m\u001b[0;34m\u001b[0m\u001b[0;34m\u001b[0m\u001b[0m\n\u001b[0m\u001b[1;32m     13\u001b[0m \u001b[0;34m\u001b[0m\u001b[0m\n\u001b[1;32m     14\u001b[0m \u001b[0;31m# c. call solver\u001b[0m\u001b[0;34m\u001b[0m\u001b[0;34m\u001b[0m\u001b[0;34m\u001b[0m\u001b[0m\n",
      "\u001b[0;31mNameError\u001b[0m: name 'I' is not defined"
     ]
    }
   ],
   "source": [
    "#Metode 3\n",
    "#Multi-dim. contstraint solver\n",
    "# a. objective function (to minimize)\n",
    "def value_of_choice(c,l,v,epsilon,m,w,tau_0,tau_1,k):\n",
    "    # note: x is a vector\n",
    "    c = x[0]\n",
    "    x2 = x[1]\n",
    "    return -u_func(x1,x2,alpha)\n",
    "\n",
    "# b. constraints (violated if negative) and bounds\n",
    "constraints = ({'type': 'ineq', 'fun': lambda x:  I-p1*x[0]-p2*x[1]})\n",
    "bounds = ((0,I/p1),(0,I/p2))\n",
    "\n",
    "# c. call solver\n",
    "initial_guess = [I/p1/2,I/p2/2]\n",
    "sol_case2 = optimize.minimize(\n",
    "    value_of_choice,initial_guess,args=(alpha,I,p1,p2),\n",
    "    method='SLSQP',bounds=bounds,constraints=constraints)\n",
    "\n",
    "# d. unpack solution\n",
    "x1 = sol_case2.x[0]\n",
    "x2 = sol_case2.x[1]\n",
    "u = u_func(x1,x2,alpha)\n",
    "print_solution(x1,x2,u,I,p1,p2)"
   ]
  },
  {
   "cell_type": "code",
   "execution_count": null,
   "metadata": {},
   "outputs": [],
   "source": [
    "#Metode 4\n",
    "#Multi-dim. using monotonicity \n",
    "# a. objective funciton (to minimize)\n",
    "def value_of_choice(X,epsilon,m,w,tau_0,tau_1,k):\n",
    "    X = m-w*l-(tau_0) \n",
    "    return -u_func(x1,x2,alpha)\n",
    "\n",
    "# b. call solver\n",
    "sol_case1 = optimize.minimize_scalar(\n",
    "    value_of_choice,method='bounded',\n",
    "    bounds=(0,I/p1),args=(alpha,I,p1,p2))\n",
    "\n",
    "# c. unpack solution\n",
    "x1 = sol_case1.x\n",
    "x2 = (I-p1*x1)/p2\n",
    "u = u_func(x1,x2,alpha)\n",
    "print_solution(x1,x2,u,I,p1,p2)"
   ]
  },
  {
   "cell_type": "markdown",
   "metadata": {},
   "source": [
    "# Question 2"
   ]
  },
  {
   "cell_type": "markdown",
   "metadata": {},
   "source": [
    "ADD ANSWER."
   ]
  },
  {
   "cell_type": "code",
   "execution_count": 184,
   "metadata": {},
   "outputs": [],
   "source": [
    "class LaborClass:\n",
    "    \n",
    "    def __init__(self):\n",
    "        \n",
    "        self.m = 1\n",
    "        self.v = 10\n",
    "        self.epsilon = 0.3\n",
    "        self.tau_0 = 0.4\n",
    "        self.tau_1 = 0.1\n",
    "        self.k = 0.4\n",
    "        self.w = 0.75\n",
    "            \n",
    "    u_func = u_func\n",
    "    solve = solve"
   ]
  },
  {
   "cell_type": "code",
   "execution_count": 185,
   "metadata": {},
   "outputs": [
    {
     "name": "stdout",
     "output_type": "stream",
     "text": "(c,l) = (10.000,0.033)\n"
    }
   ],
   "source": [
    "Number1 = LaborClass()\n",
    "Number1.solve()\n",
    "print(f'(c,l) = ({Number1.x1:.3f},{Number1.x2:.3f})')"
   ]
  },
  {
   "cell_type": "code",
   "execution_count": 142,
   "metadata": {},
   "outputs": [
    {
     "name": "stdout",
     "output_type": "stream",
     "text": "w=0.500 -> (c,l) = (10.000,0.033)\nw=0.553 -> (c,l) = (10.000,0.033)\nw=0.605 -> (c,l) = (10.000,0.033)\nw=0.658 -> (c,l) = (10.000,0.033)\nw=0.711 -> (c,l) = (10.000,0.033)\nw=0.763 -> (c,l) = (10.000,0.033)\nw=0.816 -> (c,l) = (10.000,0.033)\nw=0.868 -> (c,l) = (10.000,0.033)\nw=0.921 -> (c,l) = (10.000,0.033)\nw=0.974 -> (c,l) = (10.000,0.033)\nw=1.026 -> (c,l) = (10.000,0.033)\nw=1.079 -> (c,l) = (10.000,0.033)\nw=1.132 -> (c,l) = (10.000,0.033)\nw=1.184 -> (c,l) = (10.000,0.033)\nw=1.237 -> (c,l) = (10.000,0.033)\nw=1.289 -> (c,l) = (10.000,0.033)\nw=1.342 -> (c,l) = (10.000,0.033)\nw=1.395 -> (c,l) = (10.000,0.033)\nw=1.447 -> (c,l) = (10.000,0.033)\nw=1.500 -> (c,l) = (10.000,0.033)\n"
    }
   ],
   "source": [
    "for w in np.linspace(0.5,1.5,20):\n",
    "    Number1.w=w\n",
    "    Number1.solve()\n",
    "    print(f'w={w:.3f} -> (c,l) = ({Number1.x1:.3f},{Number1.x2:.3f})')"
   ]
  },
  {
   "cell_type": "code",
   "execution_count": 217,
   "metadata": {},
   "outputs": [
    {
     "name": "stdout",
     "output_type": "stream",
     "text": "c = 1.23115192\nl = 0.38230384\nu  = 0.17217230\n/opt/anaconda3/lib/python3.7/site-packages/ipykernel_launcher.py:5: RuntimeWarning: divide by zero encountered in log\n  \"\"\"\n"
    },
    {
     "data": {
      "text/plain": "1, 1.51412354, 1.51495826,\n        1.51579299, 1.51662771, 1.51746244, 1.51829716, 1.51913189,\n        1.51996661, 1.52080134, 1.52163606, 1.52247078, 1.52330551,\n        1.52414023, 1.52497496, 1.52580968, 1.52664441, 1.52747913,\n        1.52831386, 1.52914858, 1.52998331, 1.53081803, 1.53165275,\n        1.53248748, 1.5333222 , 1.53415693, 1.53499165, 1.53582638,\n        1.5366611 , 1.53749583, 1.53833055, 1.53916528, 1.54      ]),\n array([0.        , 0.00166945, 0.0033389 , 0.00500835, 0.0066778 ,\n        0.00834725, 0.01001669, 0.01168614, 0.01335559, 0.01502504,\n        0.01669449, 0.01836394, 0.02003339, 0.02170284, 0.02337229,\n        0.02504174, 0.02671119, 0.02838063, 0.03005008, 0.03171953,\n        0.03338898, 0.03505843, 0.03672788, 0.03839733, 0.04006678,\n        0.04173623, 0.04340568, 0.04507513, 0.04674457, 0.04841402,\n        0.05008347, 0.05175292, 0.05342237, 0.05509182, 0.05676127,\n        0.05843072, 0.06010017, 0.06176962, 0.06343907, 0.06510851,\n        0.06677796, 0.06844741, 0.07011686, 0.07178631, 0.07345576,\n        0.07512521, 0.07679466, 0.07846411, 0.08013356, 0.08180301,\n        0.08347245, 0.0851419 , 0.08681135, 0.0884808 , 0.09015025,\n        0.0918197 , 0.09348915, 0.0951586 , 0.09682805, 0.0984975 ,\n        0.10016694, 0.10183639, 0.10350584, 0.10517529, 0.10684474,\n        0.10851419, 0.11018364, 0.11185309, 0.11352254, 0.11519199,\n        0.11686144, 0.11853088, 0.12020033, 0.12186978, 0.12353923,\n        0.12520868, 0.12687813, 0.12854758, 0.13021703, 0.13188648,\n        0.13355593, 0.13522538, 0.13689482, 0.13856427, 0.14023372,\n        0.14190317, 0.14357262, 0.14524207, 0.14691152, 0.14858097,\n        0.15025042, 0.15191987, 0.15358932, 0.15525876, 0.15692821,\n        0.15859766, 0.16026711, 0.16193656, 0.16360601, 0.16527546,\n        0.16694491, 0.16861436, 0.17028381, 0.17195326, 0.1736227 ,\n        0.17529215, 0.1769616 , 0.17863105, 0.1803005 , 0.18196995,\n        0.1836394 , 0.18530885, 0.1869783 , 0.18864775, 0.1903172 ,\n        0.19198664, 0.19365609, 0.19532554, 0.19699499, 0.19866444,\n        0.20033389, 0.20200334, 0.20367279, 0.20534224, 0.20701169,\n        0.20868114, 0.21035058, 0.21202003, 0.21368948, 0.21535893,\n        0.21702838, 0.21869783, 0.22036728, 0.22203673, 0.22370618,\n        0.22537563, 0.22704508, 0.22871452, 0.23038397, 0.23205342,\n        0.23372287, 0.23539232, 0.23706177, 0.23873122, 0.24040067,\n        0.24207012, 0.24373957, 0.24540902, 0.24707846, 0.24874791,\n        0.25041736, 0.25208681, 0.25375626, 0.25542571, 0.25709516,\n        0.25876461, 0.26043406, 0.26210351, 0.26377295, 0.2654424 ,\n        0.26711185, 0.2687813 , 0.27045075, 0.2721202 , 0.27378965,\n        0.2754591 , 0.27712855, 0.278798  , 0.28046745, 0.28213689,\n        0.28380634, 0.28547579, 0.28714524, 0.28881469, 0.29048414,\n        0.29215359, 0.29382304, 0.29549249, 0.29716194, 0.29883139,\n        0.30050083, 0.30217028, 0.30383973, 0.30550918, 0.30717863,\n        0.30884808, 0.31051753, 0.31218698, 0.31385643, 0.31552588,\n        0.31719533, 0.31886477, 0.32053422, 0.32220367, 0.32387312,\n        0.32554257, 0.32721202, 0.32888147, 0.33055092, 0.33222037,\n        0.33388982, 0.33555927, 0.33722871, 0.33889816, 0.34056761,\n        0.34223706, 0.34390651, 0.34557596, 0.34724541, 0.34891486,\n        0.35058431, 0.35225376, 0.35392321, 0.35559265, 0.3572621 ,\n        0.35893155, 0.360601  , 0.36227045, 0.3639399 , 0.36560935,\n        0.3672788 , 0.36894825, 0.3706177 , 0.37228715, 0.37395659,\n        0.37562604, 0.37729549, 0.37896494, 0.38063439, 0.38230384,\n        0.38397329, 0.38564274, 0.38731219, 0.38898164, 0.39065109,\n        0.39232053, 0.39398998, 0.39565943, 0.39732888, 0.39899833,\n        0.40066778, 0.40233723, 0.40400668, 0.40567613, 0.40734558,\n        0.40901503, 0.41068447, 0.41235392, 0.41402337, 0.41569282,\n        0.41736227, 0.41903172, 0.42070117, 0.42237062, 0.42404007,\n        0.42570952, 0.42737896, 0.42904841, 0.43071786, 0.43238731,\n        0.43405676, 0.43572621, 0.43739566, 0.43906511, 0.44073456,\n        0.44240401, 0.44407346, 0.4457429 , 0.44741235, 0.4490818 ,\n        0.45075125, 0.4524207 , 0.45409015, 0.4557596 , 0.45742905,\n        0.4590985 , 0.46076795, 0.4624374 , 0.46410684, 0.46577629,\n        0.46744574, 0.46911519, 0.47078464, 0.47245409, 0.47412354,\n        0.47579299, 0.47746244, 0.47913189, 0.48080134, 0.48247078,\n        0.48414023, 0.48580968, 0.48747913, 0.48914858, 0.49081803,\n        0.49248748, 0.49415693, 0.49582638, 0.49749583, 0.49916528,\n        0.50083472, 0.50250417, 0.50417362, 0.50584307, 0.50751252,\n        0.50918197, 0.51085142, 0.51252087, 0.51419032, 0.51585977,\n        0.51752922, 0.51919866, 0.52086811, 0.52253756, 0.52420701,\n        0.52587646, 0.52754591, 0.52921536, 0.53088481, 0.53255426,\n        0.53422371, 0.53589316, 0.5375626 , 0.53923205, 0.5409015 ,\n        0.54257095, 0.5442404 , 0.54590985, 0.5475793 , 0.54924875,\n        0.5509182 , 0.55258765, 0.5542571 , 0.55592654, 0.55759599,\n        0.55926544, 0.56093489, 0.56260434, 0.56427379, 0.56594324,\n        0.56761269, 0.56928214, 0.57095159, 0.57262104, 0.57429048,\n        0.57595993, 0.57762938, 0.57929883, 0.58096828, 0.58263773,\n        0.58430718, 0.58597663, 0.58764608, 0.58931553, 0.59098497,\n        0.59265442, 0.59432387, 0.59599332, 0.59766277, 0.59933222,\n        0.60100167, 0.60267112, 0.60434057, 0.60601002, 0.60767947,\n        0.60934891, 0.61101836, 0.61268781, 0.61435726, 0.61602671,\n        0.61769616, 0.61936561, 0.62103506, 0.62270451, 0.62437396,\n        0.62604341, 0.62771285, 0.6293823 , 0.63105175, 0.6327212 ,\n        0.63439065, 0.6360601 , 0.63772955, 0.639399  , 0.64106845,\n        0.6427379 , 0.64440735, 0.64607679, 0.64774624, 0.64941569,\n        0.65108514, 0.65275459, 0.65442404, 0.65609349, 0.65776294,\n        0.65943239, 0.66110184, 0.66277129, 0.66444073, 0.66611018,\n        0.66777963, 0.66944908, 0.67111853, 0.67278798, 0.67445743,\n        0.67612688, 0.67779633, 0.67946578, 0.68113523, 0.68280467,\n        0.68447412, 0.68614357, 0.68781302, 0.68948247, 0.69115192,\n        0.69282137, 0.69449082, 0.69616027, 0.69782972, 0.69949917,\n        0.70116861, 0.70283806, 0.70450751, 0.70617696, 0.70784641,\n        0.70951586, 0.71118531, 0.71285476, 0.71452421, 0.71619366,\n        0.71786311, 0.71953255, 0.721202  , 0.72287145, 0.7245409 ,\n        0.72621035, 0.7278798 , 0.72954925, 0.7312187 , 0.73288815,\n        0.7345576 , 0.73622705, 0.73789649, 0.73956594, 0.74123539,\n        0.74290484, 0.74457429, 0.74624374, 0.74791319, 0.74958264,\n        0.75125209, 0.75292154, 0.75459098, 0.75626043, 0.75792988,\n        0.75959933, 0.76126878, 0.76293823, 0.76460768, 0.76627713,\n        0.76794658, 0.76961603, 0.77128548, 0.77295492, 0.77462437,\n        0.77629382, 0.77796327, 0.77963272, 0.78130217, 0.78297162,\n        0.78464107, 0.78631052, 0.78797997, 0.78964942, 0.79131886,\n        0.79298831, 0.79465776, 0.79632721, 0.79799666, 0.79966611,\n        0.80133556, 0.80300501, 0.80467446, 0.80634391, 0.80801336,\n        0.8096828 , 0.81135225, 0.8130217 , 0.81469115, 0.8163606 ,\n        0.81803005, 0.8196995 , 0.82136895, 0.8230384 , 0.82470785,\n        0.8263773 , 0.82804674, 0.82971619, 0.83138564, 0.83305509,\n        0.83472454, 0.83639399, 0.83806344, 0.83973289, 0.84140234,\n        0.84307179, 0.84474124, 0.84641068, 0.84808013, 0.84974958,\n        0.85141903, 0.85308848, 0.85475793, 0.85642738, 0.85809683,\n        0.85976628, 0.86143573, 0.86310518, 0.86477462, 0.86644407,\n        0.86811352, 0.86978297, 0.87145242, 0.87312187, 0.87479132,\n        0.87646077, 0.87813022, 0.87979967, 0.88146912, 0.88313856,\n        0.88480801, 0.88647746, 0.88814691, 0.88981636, 0.89148581,\n        0.89315526, 0.89482471, 0.89649416, 0.89816361, 0.89983306,\n        0.9015025 , 0.90317195, 0.9048414 , 0.90651085, 0.9081803 ,\n        0.90984975, 0.9115192 , 0.91318865, 0.9148581 , 0.91652755,\n        0.91819699, 0.91986644, 0.92153589, 0.92320534, 0.92487479,\n        0.92654424, 0.92821369, 0.92988314, 0.93155259, 0.93322204,\n        0.93489149, 0.93656093, 0.93823038, 0.93989983, 0.94156928,\n        0.94323873, 0.94490818, 0.94657763, 0.94824708, 0.94991653,\n        0.95158598, 0.95325543, 0.95492487, 0.95659432, 0.95826377,\n        0.95993322, 0.96160267, 0.96327212, 0.96494157, 0.96661102,\n        0.96828047, 0.96994992, 0.97161937, 0.97328881, 0.97495826,\n        0.97662771, 0.97829716, 0.97996661, 0.98163606, 0.98330551,\n        0.98497496, 0.98664441, 0.98831386, 0.98998331, 0.99165275,\n        0.9933222 , 0.99499165, 0.9966611 , 0.99833055, 1.        ]),\n array([ 3.92207132e-02,  4.00230110e-02,  4.08246656e-02,  4.16256779e-02,\n         4.24260487e-02,  4.32257786e-02,  4.40248682e-02,  4.48233176e-02,\n         4.56211272e-02,  4.64182968e-02,  4.72148262e-02,  4.80107151e-02,\n         4.88059626e-02,  4.96005680e-02,  5.03945303e-02,  5.11878481e-02,\n         5.19805198e-02,  5.27725437e-02,  5.35639179e-02,  5.43546399e-02,\n         5.51447073e-02,  5.59341174e-02,  5.67228670e-02,  5.75109530e-02,\n         5.82983716e-02,  5.90851191e-02,  5.98711914e-02,  6.06565839e-02,\n         6.14412921e-02,  6.22253110e-02,  6.30086353e-02,  6.37912594e-02,\n         6.45731774e-02,  6.53543832e-02,  6.61348703e-02,  6.69146319e-02,\n         6.76936610e-02,  6.84719500e-02,  6.92494913e-02,  7.00262769e-02,\n         7.08022983e-02,  7.15775468e-02,  7.23520135e-02,  7.31256890e-02,\n         7.38985635e-02,  7.46706270e-02,  7.54418692e-02,  7.62122794e-02,\n         7.69818464e-02,  7.77505590e-02,  7.85184053e-02,  7.92853732e-02,\n         8.00514503e-02,  8.08166237e-02,  8.15808803e-02,  8.23442065e-02,\n         8.31065885e-02,  8.38680119e-02,  8.46284622e-02,  8.53879243e-02,\n         8.61463829e-02,  8.69038222e-02,  8.76602261e-02,  8.84155780e-02,\n         8.91698612e-02,  8.99230583e-02,  9.06751516e-02,  9.14261232e-02,\n         9.21759547e-02,  9.29246271e-02,  9.36721213e-02,  9.44184178e-02,\n         9.51634964e-02,  9.59073368e-02,  9.66499183e-02,  9.73912195e-02,\n         9.81312190e-02,  9.88698947e-02,  9.96072242e-02,  1.00343185e-01,\n         1.01077753e-01,  1.01810905e-01,  1.02542618e-01,  1.03272866e-01,\n         1.04001624e-01,  1.04728868e-01,  1.05454572e-01,  1.06178710e-01,\n         1.06901254e-01,  1.07622178e-01,  1.08341455e-01,  1.09059056e-01,\n         1.09774954e-01,  1.10489119e-01,  1.11201523e-01,  1.11912136e-01,\n         1.12620928e-01,  1.13327868e-01,  1.14032926e-01,  1.14736070e-01,\n         1.15437269e-01,  1.16136490e-01,  1.16833700e-01,  1.17528867e-01,\n         1.18221957e-01,  1.18912935e-01,  1.19601768e-01,  1.20288421e-01,\n         1.20972857e-01,  1.21655042e-01,  1.22334939e-01,  1.23012511e-01,\n         1.23687721e-01,  1.24360532e-01,  1.25030905e-01,  1.25698801e-01,\n         1.26364182e-01,  1.27027009e-01,  1.27687240e-01,  1.28344836e-01,\n         1.28999756e-01,  1.29651958e-01,  1.30301400e-01,  1.30948041e-01,\n         1.31591837e-01,  1.32232745e-01,  1.32870721e-01,  1.33505721e-01,\n         1.34137700e-01,  1.34766613e-01,  1.35392415e-01,  1.36015058e-01,\n         1.36634497e-01,  1.37250685e-01,  1.37863573e-01,  1.38473113e-01,\n         1.39079257e-01,  1.39681956e-01,  1.40281160e-01,  1.40876819e-01,\n         1.41468883e-01,  1.42057300e-01,  1.42642018e-01,  1.43222986e-01,\n         1.43800151e-01,  1.44373460e-01,  1.44942859e-01,  1.45508295e-01,\n         1.46069712e-01,  1.46627055e-01,  1.47180270e-01,  1.47729299e-01,\n         1.48274086e-01,  1.48814574e-01,  1.49350705e-01,  1.49882422e-01,\n         1.50409665e-01,  1.50932375e-01,  1.51450492e-01,  1.51963957e-01,\n         1.52472708e-01,  1.52976684e-01,  1.53475824e-01,  1.53970065e-01,\n         1.54459344e-01,  1.54943598e-01,  1.55422763e-01,  1.55896775e-01,\n         1.56365568e-01,  1.56829078e-01,  1.57287238e-01,  1.57739981e-01,\n         1.58187241e-01,  1.58628950e-01,  1.59065040e-01,  1.59495442e-01,\n         1.59920087e-01,  1.60338906e-01,  1.60751828e-01,  1.61158782e-01,\n         1.61559697e-01,  1.61954500e-01,  1.62343121e-01,  1.62725485e-01,\n         1.63101520e-01,  1.63471150e-01,  1.63834302e-01,  1.64190901e-01,\n         1.64540870e-01,  1.64884133e-01,  1.65220614e-01,  1.65550236e-01,\n         1.65872920e-01,  1.66188588e-01,  1.66497161e-01,  1.66798560e-01,\n         1.67092704e-01,  1.67379512e-01,  1.67658904e-01,  1.67930798e-01,\n         1.68195112e-01,  1.68451762e-01,  1.68700665e-01,  1.68941737e-01,\n         1.69174893e-01,  1.69400050e-01,  1.69617119e-01,  1.69826016e-01,\n         1.70026654e-01,  1.70218945e-01,  1.70402802e-01,  1.70578135e-01,\n         1.70744855e-01,  1.70902874e-01,  1.71052100e-01,  1.71192444e-01,\n         1.71323812e-01,  1.71446115e-01,  1.71559258e-01,  1.71663150e-01,\n         1.71757695e-01,  1.71842801e-01,  1.71918372e-01,  1.71984312e-01,\n         1.72040527e-01,  1.72086918e-01,  1.72123389e-01,  1.72149843e-01,\n         1.72166181e-01,  1.72172303e-01,  1.72168111e-01,  1.72153505e-01,\n         1.72128383e-01,  1.72092645e-01,  1.72046189e-01,  1.71988912e-01,\n         1.71920711e-01,  1.71841482e-01,  1.71751122e-01,  1.71649526e-01,\n         1.71536587e-01,  1.71412201e-01,  1.71276261e-01,  1.71128659e-01,\n         1.70969288e-01,  1.70798039e-01,  1.70614803e-01,  1.70419471e-01,\n         1.70211933e-01,  1.69992077e-01,  1.69759793e-01,  1.69514969e-01,\n         1.69257491e-01,  1.68987247e-01,  1.68704123e-01,  1.68408004e-01,\n         1.68098776e-01,  1.67776323e-01,  1.67440529e-01,  1.67091276e-01,\n         1.66728448e-01,  1.66351927e-01,  1.65961593e-01,  1.65557328e-01,\n         1.65139011e-01,  1.64706522e-01,  1.64259741e-01,  1.63798544e-01,\n         1.63322811e-01,  1.62832418e-01,  1.62327241e-01,  1.61807156e-01,\n         1.61272039e-01,  1.60721764e-01,  1.60156205e-01,  1.59575235e-01,\n         1.58978727e-01,  1.58366554e-01,  1.57738585e-01,  1.57094694e-01,\n         1.56434749e-01,  1.55758620e-01,  1.55066176e-01,  1.54357286e-01,\n         1.53631817e-01,  1.52889636e-01,  1.52130610e-01,  1.51354605e-01,\n         1.50561485e-01,  1.49751116e-01,  1.48923361e-01,  1.48078084e-01,\n         1.47215146e-01,  1.46334412e-01,  1.45435740e-01,  1.44518993e-01,\n         1.43584031e-01,  1.42630712e-01,  1.41658897e-01,  1.40668442e-01,\n         1.39659206e-01,  1.38631046e-01,  1.37583817e-01,  1.36517376e-01,\n         1.35431578e-01,  1.34326276e-01,  1.33201324e-01,  1.32056577e-01,\n         1.30891885e-01,  1.29707101e-01,  1.28502076e-01,  1.27276661e-01,\n         1.26030705e-01,  1.24764057e-01,  1.23476566e-01,  1.22168080e-01,\n         1.20838447e-01,  1.19487512e-01,  1.18115122e-01,  1.16721121e-01,\n         1.15305355e-01,  1.13867668e-01,  1.12407903e-01,  1.10925902e-01,\n         1.09421508e-01,  1.07894562e-01,  1.06344904e-01,  1.04772375e-01,\n         1.03176814e-01,  1.01558060e-01,  9.99159509e-02,  9.82503238e-02,\n         9.65610157e-02,  9.48478627e-02,  9.31107001e-02,  9.13493627e-02,\n         8.95636846e-02,  8.77534992e-02,  8.59186394e-02,  8.40589371e-02,\n         8.21742238e-02,  8.02643303e-02,  7.83290866e-02,  7.63683223e-02,\n         7.43818659e-02,  7.23695457e-02,  7.03311890e-02,  6.82666225e-02,\n         6.61756724e-02,  6.40581640e-02,  6.19139221e-02,  5.97427707e-02,\n         5.75445332e-02,  5.53190323e-02,  5.30660899e-02,  5.07855276e-02,\n         4.84771658e-02,  4.61408247e-02,  4.37763236e-02,  4.13834810e-02,\n         3.89621149e-02,  3.65120427e-02,  3.40330809e-02,  3.15250454e-02,\n         2.89877515e-02,  2.64210137e-02,  2.38246459e-02,  2.11984612e-02,\n         1.85422722e-02,  1.58558907e-02,  1.31391278e-02,  1.03917940e-02,\n         7.61369898e-03,  4.80465184e-03,  1.96446096e-03, -9.07065970e-04,\n        -3.81012194e-03, -6.74490065e-03, -9.71159646e-03, -1.27104045e-02,\n        -1.57415204e-02, -1.88051407e-02, -2.19014626e-02, -2.50306839e-02,\n        -2.81930030e-02, -3.13886194e-02, -3.46177328e-02, -3.78805439e-02,\n        -4.11772539e-02, -4.45080651e-02, -4.78731799e-02, -5.12728019e-02,\n        -5.47071352e-02, -5.81763845e-02, -6.16807554e-02, -6.52204541e-02,\n        -6.87956875e-02, -7.24066632e-02, -7.60535895e-02, -7.97366755e-02,\n        -8.34561309e-02, -8.72121660e-02, -9.10049921e-02, -9.48348210e-02,\n        -9.87018652e-02, -1.02606338e-01, -1.06548453e-01, -1.10528426e-01,\n        -1.14546471e-01, -1.18602804e-01, -1.22697643e-01, -1.26831205e-01,\n        -1.31003709e-01, -1.35215372e-01, -1.39466415e-01, -1.43757058e-01,\n        -1.48087522e-01, -1.52458029e-01, -1.56868802e-01, -1.61320063e-01,\n        -1.65812037e-01, -1.70344947e-01, -1.74919021e-01, -1.79534483e-01,\n        -1.84191560e-01, -1.88890480e-01, -1.93631471e-01, -1.98414763e-01,\n        -2.03240583e-01, -2.08109165e-01, -2.13020737e-01, -2.17975532e-01,\n        -2.22973783e-01, -2.28015722e-01, -2.33101585e-01, -2.38231605e-01,\n        -2.43406018e-01, -2.48625060e-01, -2.53888968e-01, -2.59197980e-01,\n        -2.64552334e-01, -2.69952269e-01, -2.75398024e-01, -2.80889841e-01,\n        -2.86427961e-01, -2.92012626e-01, -2.97644077e-01, -3.03322560e-01,\n        -3.09048318e-01, -3.14821595e-01, -3.20642638e-01, -3.26511693e-01,\n        -3.32429006e-01, -3.38394827e-01, -3.44409403e-01, -3.50472984e-01,\n        -3.56585819e-01, -3.62748160e-01, -3.68960258e-01, -3.75222366e-01,\n        -3.81534735e-01, -3.87897621e-01, -3.94311277e-01, -4.00775958e-01,\n        -4.07291922e-01, -4.13859423e-01, -4.20478721e-01, -4.27150072e-01,\n        -4.33873736e-01, -4.40649972e-01, -4.47479041e-01, -4.54361204e-01,\n        -4.61296723e-01, -4.68285861e-01, -4.75328880e-01, -4.82426045e-01,\n        -4.89577621e-01, -4.96783873e-01, -5.04045069e-01, -5.11361473e-01,\n        -5.18733356e-01, -5.26160985e-01, -5.33644629e-01, -5.41184559e-01,\n        -5.48781046e-01, -5.56434361e-01, -5.64144776e-01, -5.71912565e-01,\n        -5.79738001e-01, -5.87621360e-01, -5.95562915e-01, -6.03562944e-01,\n        -6.11621724e-01, -6.19739531e-01, -6.27916645e-01, -6.36153344e-01,\n        -6.44449909e-01, -6.52806619e-01, -6.61223757e-01, -6.69701604e-01,\n        -6.78240444e-01, -6.86840560e-01, -6.95502236e-01, -7.04225758e-01,\n        -7.13011412e-01, -7.21859484e-01, -7.30770262e-01, -7.39744034e-01,\n        -7.48781089e-01, -7.57881717e-01, -7.67046208e-01, -7.76274853e-01,\n        -7.85567946e-01, -7.94925778e-01, -8.04348642e-01, -8.13836835e-01,\n        -8.23390649e-01, -8.33010382e-01, -8.42696331e-01, -8.52448791e-01,\n        -8.62268062e-01, -8.72154443e-01, -8.82108233e-01, -8.92129732e-01,\n        -9.02219243e-01, -9.12377066e-01, -9.22603506e-01, -9.32898865e-01,\n        -9.43263447e-01, -9.53697558e-01, -9.64201505e-01, -9.74775592e-01,\n        -9.85420128e-01, -9.96135421e-01, -1.00692178e+00, -1.01777952e+00,\n        -1.02870894e+00, -1.03971036e+00, -1.05078408e+00, -1.06193044e+00,\n        -1.07314972e+00, -1.08444226e+00, -1.09580836e+00, -1.10724835e+00,\n        -1.11876253e+00, -1.13035123e+00, -1.14201477e+00, -1.15375346e+00,\n        -1.16556762e+00, -1.17745757e+00, -1.18942364e+00, -1.20146615e+00,\n        -1.21358542e+00, -1.22578177e+00, -1.23805554e+00, -1.25040704e+00,\n        -1.26283659e+00, -1.27534454e+00, -1.28793120e+00, -1.30059690e+00,\n        -1.31334198e+00, -1.32616676e+00, -1.33907158e+00, -1.35205676e+00,\n        -1.36512264e+00, -1.37826955e+00, -1.39149782e+00, -1.40480780e+00,\n        -1.41819981e+00, -1.43167419e+00, -1.44523129e+00, -1.45887143e+00,\n        -1.47259495e+00, -1.48640221e+00, -1.50029353e+00, -1.51426925e+00,\n        -1.52832973e+00, -1.54247530e+00, -1.55670630e+00, -1.57102308e+00,\n        -1.58542599e+00, -1.59991537e+00, -1.61449157e+00, -1.62915493e+00,\n        -1.64390580e+00, -1.65874454e+00, -1.67367149e+00, -1.68868701e+00,\n        -1.70379144e+00, -1.71898514e+00, -1.73426845e+00, -1.74964175e+00,\n        -1.76510537e+00, -1.78065967e+00, -1.79630502e+00, -1.81204176e+00,\n        -1.82787026e+00, -1.84379088e+00, -1.85980397e+00, -1.87590989e+00]))"
     },
     "execution_count": 217,
     "metadata": {},
     "output_type": "execute_result"
    }
   ],
   "source": [
    "# Forsøg 2, med w=1\n",
    "find_best_choice(v=10,epsilon=0.3,m=1,w=1,tau_0=0.4,tau_1=0.1,k=0.4,N=600,do_print=True)\n"
   ]
  },
  {
   "cell_type": "code",
   "execution_count": 225,
   "metadata": {},
   "outputs": [
    {
     "name": "stderr",
     "output_type": "stream",
     "text": "/opt/anaconda3/lib/python3.7/site-packages/ipykernel_launcher.py:5: RuntimeWarning: divide by zero encountered in log\n  \"\"\"\n"
    },
    {
     "ename": "ValueError",
     "evalue": "too many values to unpack (expected 2)",
     "output_type": "error",
     "traceback": [
      "\u001b[0;31m---------------------------------------------------------------------------\u001b[0m",
      "\u001b[0;31mValueError\u001b[0m                                Traceback (most recent call last)",
      "\u001b[0;32m<ipython-input-225-64536f5a8465>\u001b[0m in \u001b[0;36m<module>\u001b[0;34m\u001b[0m\n\u001b[1;32m      6\u001b[0m \u001b[0;34m\u001b[0m\u001b[0m\n\u001b[1;32m      7\u001b[0m \u001b[0;32mfor\u001b[0m \u001b[0mi\u001b[0m \u001b[0;32min\u001b[0m \u001b[0mrange\u001b[0m\u001b[0;34m(\u001b[0m\u001b[0mw_list\u001b[0m\u001b[0;34m.\u001b[0m\u001b[0msize\u001b[0m\u001b[0;34m)\u001b[0m\u001b[0;34m:\u001b[0m\u001b[0;34m\u001b[0m\u001b[0;34m\u001b[0m\u001b[0m\n\u001b[0;32m----> 8\u001b[0;31m     \u001b[0mc_best\u001b[0m\u001b[0;34m,\u001b[0m\u001b[0ml_best\u001b[0m \u001b[0;34m=\u001b[0m \u001b[0mfind_best_choice\u001b[0m\u001b[0;34m(\u001b[0m\u001b[0mv\u001b[0m\u001b[0;34m=\u001b[0m\u001b[0;36m10\u001b[0m\u001b[0;34m,\u001b[0m\u001b[0mepsilon\u001b[0m\u001b[0;34m=\u001b[0m\u001b[0;36m0.3\u001b[0m\u001b[0;34m,\u001b[0m\u001b[0mm\u001b[0m\u001b[0;34m=\u001b[0m\u001b[0;36m1\u001b[0m\u001b[0;34m,\u001b[0m\u001b[0mw\u001b[0m\u001b[0;34m=\u001b[0m\u001b[0mw_list\u001b[0m\u001b[0;34m[\u001b[0m\u001b[0mi\u001b[0m\u001b[0;34m]\u001b[0m\u001b[0;34m,\u001b[0m\u001b[0mtau_0\u001b[0m\u001b[0;34m=\u001b[0m\u001b[0;36m0.4\u001b[0m\u001b[0;34m,\u001b[0m\u001b[0mtau_1\u001b[0m\u001b[0;34m=\u001b[0m\u001b[0;36m0.1\u001b[0m\u001b[0;34m,\u001b[0m\u001b[0mk\u001b[0m\u001b[0;34m=\u001b[0m\u001b[0;36m0.4\u001b[0m\u001b[0;34m,\u001b[0m\u001b[0mN\u001b[0m\u001b[0;34m=\u001b[0m\u001b[0;36m600\u001b[0m\u001b[0;34m,\u001b[0m\u001b[0mdo_print\u001b[0m\u001b[0;34m=\u001b[0m\u001b[0;32mFalse\u001b[0m\u001b[0;34m)\u001b[0m\u001b[0;34m\u001b[0m\u001b[0;34m\u001b[0m\u001b[0m\n\u001b[0m\u001b[1;32m      9\u001b[0m     \u001b[0ml_list\u001b[0m\u001b[0;34m[\u001b[0m\u001b[0mi\u001b[0m\u001b[0;34m]\u001b[0m\u001b[0;34m=\u001b[0m\u001b[0ml_best\u001b[0m\u001b[0;34m\u001b[0m\u001b[0;34m\u001b[0m\u001b[0m\n\u001b[1;32m     10\u001b[0m     \u001b[0mc_list\u001b[0m\u001b[0;34m[\u001b[0m\u001b[0mi\u001b[0m\u001b[0;34m]\u001b[0m\u001b[0;34m=\u001b[0m\u001b[0mc_best\u001b[0m\u001b[0;34m\u001b[0m\u001b[0;34m\u001b[0m\u001b[0m\n",
      "\u001b[0;31mValueError\u001b[0m: too many values to unpack (expected 2)"
     ]
    }
   ],
   "source": [
    "#forsøg 2 figur\n",
    "#uniform w\n",
    "w_list = np.linspace(0.5,1.5,num=100)\n",
    "l_list = np.zeros(w_list.size)\n",
    "c_list = np.zeros(w_list.size)\n",
    "\n",
    "for i in range(w_list.size):\n",
    "    c_best,l_best = find_best_choice(v=10,epsilon=0.3,m=1,w=w_list[i],tau_0=0.4,tau_1=0.1,k=0.4,N=600,do_print=False)\n",
    "    l_list[i]=l_best\n",
    "    c_list[i]=c_best\n",
    "\n"
   ]
  },
  {
   "cell_type": "code",
   "execution_count": 232,
   "metadata": {},
   "outputs": [],
   "source": [
    "# code for solving the model (remember documentation and comments)\n",
    "## define parameters\n",
    "m = 1\n",
    "v = 10\n",
    "e = 0.3 # epsilon\n",
    "t_0 = 0.4 # tau0\n",
    "t_1 = 0.1 # tau1\n",
    "k = 0.4 # kappa\n",
    "w=1\n",
    "\n",
    "## define equations\n",
    "def x(m, w, l, t_0, t_1, k) : \n",
    "    return m + w*l - (t_0*w*l+t_1*max(w*l-k,0))\n",
    "\n",
    "def u_func(l, c, e, v) :\n",
    "    return np.log(c) - v * ((l ** (1 + (1 / e))) / (1 + (1 / e)))\n",
    "\n",
    "\n",
    "def value_of_choice(l, e, v, m, w, t_0, t_1, k) :\n",
    "    c = x(m, w, l, t_0, t_1, k)\n",
    "    return -u_func(l, c, e, v)\n",
    "\n",
    "\n",
    "def solve_supplyproblem(e, v, m, w, t_0, t_1, k) : \n",
    "    solution = optimize.minimize_scalar(value_of_choice, method='bounded', bounds=(0, 1), args=(e, v, m, w, t_0, t_1, k))\n",
    "    l = solution.x \n",
    "    c = x(m, w, l, t_0, t_1, k)\n",
    "    u = u_func(l, c, e, v)\n",
    "    return l, c, u\n",
    "    print(l,c,u)"
   ]
  },
  {
   "cell_type": "code",
   "execution_count": 235,
   "metadata": {},
   "outputs": [
    {
     "data": {
      "text/plain": "(0.4000006819648219, 1.240000340982411, 0.17158308392555602)"
     },
     "execution_count": 235,
     "metadata": {},
     "output_type": "execute_result"
    }
   ],
   "source": [
    "solve_supplyproblem(e, v, m, w, t_0, t_1, k)\n"
   ]
  },
  {
   "cell_type": "code",
   "execution_count": 222,
   "metadata": {},
   "outputs": [
    {
     "data": {
      "image/png": "[encoded data removed]",
      "image/svg+xml": "<?xml version=\"1.0\" encoding=\"utf-8\" standalone=\"no\"?>\n<!DOCTYPE svg PUBLIC \"-//W3C//DTD SVG 1.1//EN\"\n  \"http://www.w3.org/Graphics/SVG/1.1/DTD/svg11.dtd\">\n<!-- Created with matplotlib (http://matplotlib.org/) -->\n<svg height=\"276.788281pt\" version=\"1.1\" viewBox=\"0 0 384.159844 276.788281\" width=\"384.159844pt\" xmlns=\"http://www.w3.org/2000/svg\" xmlns:xlink=\"http://www.w3.org/1999/xlink\">\n <defs>\n  <style type=\"text/css\">\n*{stroke-linecap:butt;stroke-linejoin:round;}\n  </style>\n </defs>\n <g id=\"figure_1\">\n  <g id=\"patch_1\">\n   <path d=\"M 0 276.788281 \nL 384.159844 276.788281 \nL 384.159844 0 \nL 0 0 \nz\n\" style=\"fill:none;\"/>\n  </g>\n  <g id=\"axes_1\">\n   <g id=\"patch_2\">\n    <path d=\"M 42.159844 239.383125 \nL 376.959844 239.383125 \nL 376.959844 21.943125 \nL 42.159844 21.943125 \nz\n\" style=\"fill:#eaeaf2;\"/>\n   </g>\n   <g id=\"matplotlib.axis_1\">\n    <g id=\"xtick_1\">\n     <g id=\"line2d_1\">\n      <path clip-path=\"url(#p9af059252b)\" d=\"M 87.814389 239.383125 \nL 87.814389 21.943125 \n\" style=\"fill:none;stroke:#ffffff;stroke-linecap:round;\"/>\n     </g>\n     <g id=\"line2d_2\"/>\n     <g id=\"text_1\">\n      <!-- 0.6 -->\n      <defs>\n       <path d=\"M 4.15625 35.296875 \nQ 4.15625 48 6.765625 55.734375 \nQ 9.375 63.484375 14.515625 67.671875 \nQ 19.671875 71.875 27.484375 71.875 \nQ 33.25 71.875 37.59375 69.546875 \nQ 41.9375 67.234375 44.765625 62.859375 \nQ 47.609375 58.5 49.21875 52.21875 \nQ 50.828125 45.953125 50.828125 35.296875 \nQ 50.828125 22.703125 48.234375 14.96875 \nQ 45.65625 7.234375 40.5 3 \nQ 35.359375 -1.21875 27.484375 -1.21875 \nQ 17.140625 -1.21875 11.234375 6.203125 \nQ 4.15625 15.140625 4.15625 35.296875 \nz\nM 13.1875 35.296875 \nQ 13.1875 17.671875 17.3125 11.828125 \nQ 21.4375 6 27.484375 6 \nQ 33.546875 6 37.671875 11.859375 \nQ 41.796875 17.71875 41.796875 35.296875 \nQ 41.796875 52.984375 37.671875 58.78125 \nQ 33.546875 64.59375 27.390625 64.59375 \nQ 21.34375 64.59375 17.71875 59.46875 \nQ 13.1875 52.9375 13.1875 35.296875 \nz\n\" id=\"ArialMT-30\"/>\n       <path d=\"M 9.078125 0 \nL 9.078125 10.015625 \nL 19.09375 10.015625 \nL 19.09375 0 \nz\n\" id=\"ArialMT-2e\"/>\n       <path d=\"M 49.75 54.046875 \nL 41.015625 53.375 \nQ 39.84375 58.546875 37.703125 60.890625 \nQ 34.125 64.65625 28.90625 64.65625 \nQ 24.703125 64.65625 21.53125 62.3125 \nQ 17.390625 59.28125 14.984375 53.46875 \nQ 12.59375 47.65625 12.5 36.921875 \nQ 15.671875 41.75 20.265625 44.09375 \nQ 24.859375 46.4375 29.890625 46.4375 \nQ 38.671875 46.4375 44.84375 39.96875 \nQ 51.03125 33.5 51.03125 23.25 \nQ 51.03125 16.5 48.125 10.71875 \nQ 45.21875 4.9375 40.140625 1.859375 \nQ 35.0625 -1.21875 28.609375 -1.21875 \nQ 17.625 -1.21875 10.6875 6.859375 \nQ 3.765625 14.9375 3.765625 33.5 \nQ 3.765625 54.25 11.421875 63.671875 \nQ 18.109375 71.875 29.4375 71.875 \nQ 37.890625 71.875 43.28125 67.140625 \nQ 48.6875 62.40625 49.75 54.046875 \nz\nM 13.875 23.1875 \nQ 13.875 18.65625 15.796875 14.5 \nQ 17.71875 10.359375 21.1875 8.171875 \nQ 24.65625 6 28.46875 6 \nQ 34.03125 6 38.03125 10.484375 \nQ 42.046875 14.984375 42.046875 22.703125 \nQ 42.046875 30.125 38.078125 34.390625 \nQ 34.125 38.671875 28.125 38.671875 \nQ 22.171875 38.671875 18.015625 34.390625 \nQ 13.875 30.125 13.875 23.1875 \nz\n\" id=\"ArialMT-36\"/>\n      </defs>\n      <g style=\"fill:#262626;\" transform=\"translate(80.864389 253.540938)scale(0.1 -0.1)\">\n       <use xlink:href=\"#ArialMT-30\"/>\n       <use x=\"55.615234\" xlink:href=\"#ArialMT-2e\"/>\n       <use x=\"83.398438\" xlink:href=\"#ArialMT-36\"/>\n      </g>\n     </g>\n    </g>\n    <g id=\"xtick_2\">\n     <g id=\"line2d_3\">\n      <path clip-path=\"url(#p9af059252b)\" d=\"M 148.687116 239.383125 \nL 148.687116 21.943125 \n\" style=\"fill:none;stroke:#ffffff;stroke-linecap:round;\"/>\n     </g>\n     <g id=\"line2d_4\"/>\n     <g id=\"text_2\">\n      <!-- 0.8 -->\n      <defs>\n       <path d=\"M 17.671875 38.8125 \nQ 12.203125 40.828125 9.5625 44.53125 \nQ 6.9375 48.25 6.9375 53.421875 \nQ 6.9375 61.234375 12.546875 66.546875 \nQ 18.171875 71.875 27.484375 71.875 \nQ 36.859375 71.875 42.578125 66.421875 \nQ 48.296875 60.984375 48.296875 53.171875 \nQ 48.296875 48.1875 45.671875 44.5 \nQ 43.0625 40.828125 37.75 38.8125 \nQ 44.34375 36.671875 47.78125 31.875 \nQ 51.21875 27.09375 51.21875 20.453125 \nQ 51.21875 11.28125 44.71875 5.03125 \nQ 38.234375 -1.21875 27.640625 -1.21875 \nQ 17.046875 -1.21875 10.546875 5.046875 \nQ 4.046875 11.328125 4.046875 20.703125 \nQ 4.046875 27.6875 7.59375 32.390625 \nQ 11.140625 37.109375 17.671875 38.8125 \nz\nM 15.921875 53.71875 \nQ 15.921875 48.640625 19.1875 45.40625 \nQ 22.46875 42.1875 27.6875 42.1875 \nQ 32.765625 42.1875 36.015625 45.375 \nQ 39.265625 48.578125 39.265625 53.21875 \nQ 39.265625 58.0625 35.90625 61.359375 \nQ 32.5625 64.65625 27.59375 64.65625 \nQ 22.5625 64.65625 19.234375 61.421875 \nQ 15.921875 58.203125 15.921875 53.71875 \nz\nM 13.09375 20.65625 \nQ 13.09375 16.890625 14.875 13.375 \nQ 16.65625 9.859375 20.171875 7.921875 \nQ 23.6875 6 27.734375 6 \nQ 34.03125 6 38.125 10.046875 \nQ 42.234375 14.109375 42.234375 20.359375 \nQ 42.234375 26.703125 38.015625 30.859375 \nQ 33.796875 35.015625 27.4375 35.015625 \nQ 21.234375 35.015625 17.15625 30.90625 \nQ 13.09375 26.8125 13.09375 20.65625 \nz\n\" id=\"ArialMT-38\"/>\n      </defs>\n      <g style=\"fill:#262626;\" transform=\"translate(141.737116 253.540938)scale(0.1 -0.1)\">\n       <use xlink:href=\"#ArialMT-30\"/>\n       <use x=\"55.615234\" xlink:href=\"#ArialMT-2e\"/>\n       <use x=\"83.398438\" xlink:href=\"#ArialMT-38\"/>\n      </g>\n     </g>\n    </g>\n    <g id=\"xtick_3\">\n     <g id=\"line2d_5\">\n      <path clip-path=\"url(#p9af059252b)\" d=\"M 209.559844 239.383125 \nL 209.559844 21.943125 \n\" style=\"fill:none;stroke:#ffffff;stroke-linecap:round;\"/>\n     </g>\n     <g id=\"line2d_6\"/>\n     <g id=\"text_3\">\n      <!-- 1.0 -->\n      <defs>\n       <path d=\"M 37.25 0 \nL 28.46875 0 \nL 28.46875 56 \nQ 25.296875 52.984375 20.140625 49.953125 \nQ 14.984375 46.921875 10.890625 45.40625 \nL 10.890625 53.90625 \nQ 18.265625 57.375 23.78125 62.296875 \nQ 29.296875 67.234375 31.59375 71.875 \nL 37.25 71.875 \nz\n\" id=\"ArialMT-31\"/>\n      </defs>\n      <g style=\"fill:#262626;\" transform=\"translate(202.609844 253.540938)scale(0.1 -0.1)\">\n       <use xlink:href=\"#ArialMT-31\"/>\n       <use x=\"55.615234\" xlink:href=\"#ArialMT-2e\"/>\n       <use x=\"83.398438\" xlink:href=\"#ArialMT-30\"/>\n      </g>\n     </g>\n    </g>\n    <g id=\"xtick_4\">\n     <g id=\"line2d_7\">\n      <path clip-path=\"url(#p9af059252b)\" d=\"M 270.432571 239.383125 \nL 270.432571 21.943125 \n\" style=\"fill:none;stroke:#ffffff;stroke-linecap:round;\"/>\n     </g>\n     <g id=\"line2d_8\"/>\n     <g id=\"text_4\">\n      <!-- 1.2 -->\n      <defs>\n       <path d=\"M 50.34375 8.453125 \nL 50.34375 0 \nL 3.03125 0 \nQ 2.9375 3.171875 4.046875 6.109375 \nQ 5.859375 10.9375 9.828125 15.625 \nQ 13.8125 20.3125 21.34375 26.46875 \nQ 33.015625 36.03125 37.109375 41.625 \nQ 41.21875 47.21875 41.21875 52.203125 \nQ 41.21875 57.421875 37.46875 61 \nQ 33.734375 64.59375 27.734375 64.59375 \nQ 21.390625 64.59375 17.578125 60.78125 \nQ 13.765625 56.984375 13.71875 50.25 \nL 4.6875 51.171875 \nQ 5.609375 61.28125 11.65625 66.578125 \nQ 17.71875 71.875 27.9375 71.875 \nQ 38.234375 71.875 44.234375 66.15625 \nQ 50.25 60.453125 50.25 52 \nQ 50.25 47.703125 48.484375 43.546875 \nQ 46.734375 39.40625 42.65625 34.8125 \nQ 38.578125 30.21875 29.109375 22.21875 \nQ 21.1875 15.578125 18.9375 13.203125 \nQ 16.703125 10.84375 15.234375 8.453125 \nz\n\" id=\"ArialMT-32\"/>\n      </defs>\n      <g style=\"fill:#262626;\" transform=\"translate(263.482571 253.540938)scale(0.1 -0.1)\">\n       <use xlink:href=\"#ArialMT-31\"/>\n       <use x=\"55.615234\" xlink:href=\"#ArialMT-2e\"/>\n       <use x=\"83.398438\" xlink:href=\"#ArialMT-32\"/>\n      </g>\n     </g>\n    </g>\n    <g id=\"xtick_5\">\n     <g id=\"line2d_9\">\n      <path clip-path=\"url(#p9af059252b)\" d=\"M 331.305298 239.383125 \nL 331.305298 21.943125 \n\" style=\"fill:none;stroke:#ffffff;stroke-linecap:round;\"/>\n     </g>\n     <g id=\"line2d_10\"/>\n     <g id=\"text_5\">\n      <!-- 1.4 -->\n      <defs>\n       <path d=\"M 32.328125 0 \nL 32.328125 17.140625 \nL 1.265625 17.140625 \nL 1.265625 25.203125 \nL 33.9375 71.578125 \nL 41.109375 71.578125 \nL 41.109375 25.203125 \nL 50.78125 25.203125 \nL 50.78125 17.140625 \nL 41.109375 17.140625 \nL 41.109375 0 \nz\nM 32.328125 25.203125 \nL 32.328125 57.46875 \nL 9.90625 25.203125 \nz\n\" id=\"ArialMT-34\"/>\n      </defs>\n      <g style=\"fill:#262626;\" transform=\"translate(324.355298 253.540938)scale(0.1 -0.1)\">\n       <use xlink:href=\"#ArialMT-31\"/>\n       <use x=\"55.615234\" xlink:href=\"#ArialMT-2e\"/>\n       <use x=\"83.398438\" xlink:href=\"#ArialMT-34\"/>\n      </g>\n     </g>\n    </g>\n    <g id=\"text_6\">\n     <!-- w -->\n     <defs>\n      <path d=\"M 16.15625 0 \nL 0.296875 51.859375 \nL 9.375 51.859375 \nL 17.625 21.921875 \nL 20.703125 10.796875 \nQ 20.90625 11.625 23.390625 21.484375 \nL 31.640625 51.859375 \nL 40.671875 51.859375 \nL 48.4375 21.78125 \nL 51.03125 11.859375 \nL 54 21.875 \nL 62.890625 51.859375 \nL 71.4375 51.859375 \nL 55.21875 0 \nL 46.09375 0 \nL 37.84375 31.0625 \nL 35.84375 39.890625 \nL 25.34375 0 \nz\n\" id=\"ArialMT-77\"/>\n     </defs>\n     <g style=\"fill:#262626;\" transform=\"translate(205.587813 267.402031)scale(0.11 -0.11)\">\n      <use xlink:href=\"#ArialMT-77\"/>\n     </g>\n    </g>\n   </g>\n   <g id=\"matplotlib.axis_2\">\n    <g id=\"ytick_1\">\n     <g id=\"line2d_11\">\n      <path clip-path=\"url(#p9af059252b)\" d=\"M 42.159844 217.673017 \nL 376.959844 217.673017 \n\" style=\"fill:none;stroke:#ffffff;stroke-linecap:round;\"/>\n     </g>\n     <g id=\"line2d_12\"/>\n     <g id=\"text_7\">\n      <!-- 0.4 -->\n      <g style=\"fill:#262626;\" transform=\"translate(21.259844 221.251923)scale(0.1 -0.1)\">\n       <use xlink:href=\"#ArialMT-30\"/>\n       <use x=\"55.615234\" xlink:href=\"#ArialMT-2e\"/>\n       <use x=\"83.398438\" xlink:href=\"#ArialMT-34\"/>\n      </g>\n     </g>\n    </g>\n    <g id=\"ytick_2\">\n     <g id=\"line2d_13\">\n      <path clip-path=\"url(#p9af059252b)\" d=\"M 42.159844 178.743727 \nL 376.959844 178.743727 \n\" style=\"fill:none;stroke:#ffffff;stroke-linecap:round;\"/>\n     </g>\n     <g id=\"line2d_14\"/>\n     <g id=\"text_8\">\n      <!-- 0.6 -->\n      <g style=\"fill:#262626;\" transform=\"translate(21.259844 182.322633)scale(0.1 -0.1)\">\n       <use xlink:href=\"#ArialMT-30\"/>\n       <use x=\"55.615234\" xlink:href=\"#ArialMT-2e\"/>\n       <use x=\"83.398438\" xlink:href=\"#ArialMT-36\"/>\n      </g>\n     </g>\n    </g>\n    <g id=\"ytick_3\">\n     <g id=\"line2d_15\">\n      <path clip-path=\"url(#p9af059252b)\" d=\"M 42.159844 139.814437 \nL 376.959844 139.814437 \n\" style=\"fill:none;stroke:#ffffff;stroke-linecap:round;\"/>\n     </g>\n     <g id=\"line2d_16\"/>\n     <g id=\"text_9\">\n      <!-- 0.8 -->\n      <g style=\"fill:#262626;\" transform=\"translate(21.259844 143.393344)scale(0.1 -0.1)\">\n       <use xlink:href=\"#ArialMT-30\"/>\n       <use x=\"55.615234\" xlink:href=\"#ArialMT-2e\"/>\n       <use x=\"83.398438\" xlink:href=\"#ArialMT-38\"/>\n      </g>\n     </g>\n    </g>\n    <g id=\"ytick_4\">\n     <g id=\"line2d_17\">\n      <path clip-path=\"url(#p9af059252b)\" d=\"M 42.159844 100.885148 \nL 376.959844 100.885148 \n\" style=\"fill:none;stroke:#ffffff;stroke-linecap:round;\"/>\n     </g>\n     <g id=\"line2d_18\"/>\n     <g id=\"text_10\">\n      <!-- 1.0 -->\n      <g style=\"fill:#262626;\" transform=\"translate(21.259844 104.464054)scale(0.1 -0.1)\">\n       <use xlink:href=\"#ArialMT-31\"/>\n       <use x=\"55.615234\" xlink:href=\"#ArialMT-2e\"/>\n       <use x=\"83.398438\" xlink:href=\"#ArialMT-30\"/>\n      </g>\n     </g>\n    </g>\n    <g id=\"ytick_5\">\n     <g id=\"line2d_19\">\n      <path clip-path=\"url(#p9af059252b)\" d=\"M 42.159844 61.955858 \nL 376.959844 61.955858 \n\" style=\"fill:none;stroke:#ffffff;stroke-linecap:round;\"/>\n     </g>\n     <g id=\"line2d_20\"/>\n     <g id=\"text_11\">\n      <!-- 1.2 -->\n      <g style=\"fill:#262626;\" transform=\"translate(21.259844 65.534765)scale(0.1 -0.1)\">\n       <use xlink:href=\"#ArialMT-31\"/>\n       <use x=\"55.615234\" xlink:href=\"#ArialMT-2e\"/>\n       <use x=\"83.398438\" xlink:href=\"#ArialMT-32\"/>\n      </g>\n     </g>\n    </g>\n    <g id=\"ytick_6\">\n     <g id=\"line2d_21\">\n      <path clip-path=\"url(#p9af059252b)\" d=\"M 42.159844 23.026569 \nL 376.959844 23.026569 \n\" style=\"fill:none;stroke:#ffffff;stroke-linecap:round;\"/>\n     </g>\n     <g id=\"line2d_22\"/>\n     <g id=\"text_12\">\n      <!-- 1.4 -->\n      <g style=\"fill:#262626;\" transform=\"translate(21.259844 26.605475)scale(0.1 -0.1)\">\n       <use xlink:href=\"#ArialMT-31\"/>\n       <use x=\"55.615234\" xlink:href=\"#ArialMT-2e\"/>\n       <use x=\"83.398438\" xlink:href=\"#ArialMT-34\"/>\n      </g>\n     </g>\n    </g>\n    <g id=\"text_13\">\n     <!-- c*, l* -->\n     <defs>\n      <path d=\"M 40.4375 19 \nL 49.078125 17.875 \nQ 47.65625 8.9375 41.8125 3.875 \nQ 35.984375 -1.171875 27.484375 -1.171875 \nQ 16.84375 -1.171875 10.375 5.78125 \nQ 3.90625 12.75 3.90625 25.734375 \nQ 3.90625 34.125 6.6875 40.421875 \nQ 9.46875 46.734375 15.15625 49.875 \nQ 20.84375 53.03125 27.546875 53.03125 \nQ 35.984375 53.03125 41.359375 48.75 \nQ 46.734375 44.484375 48.25 36.625 \nL 39.703125 35.296875 \nQ 38.484375 40.53125 35.375 43.15625 \nQ 32.28125 45.796875 27.875 45.796875 \nQ 21.234375 45.796875 17.078125 41.03125 \nQ 12.9375 36.28125 12.9375 25.984375 \nQ 12.9375 15.53125 16.9375 10.796875 \nQ 20.953125 6.0625 27.390625 6.0625 \nQ 32.5625 6.0625 36.03125 9.234375 \nQ 39.5 12.40625 40.4375 19 \nz\n\" id=\"ArialMT-63\"/>\n      <path d=\"M 3.125 58.453125 \nL 5.375 65.375 \nQ 13.140625 62.640625 16.65625 60.640625 \nQ 15.71875 69.484375 15.671875 72.796875 \nL 22.75 72.796875 \nQ 22.609375 67.96875 21.625 60.6875 \nQ 26.65625 63.234375 33.15625 65.375 \nL 35.40625 58.453125 \nQ 29.203125 56.390625 23.25 55.71875 \nQ 26.21875 53.125 31.640625 46.484375 \nL 25.78125 42.328125 \nQ 22.953125 46.1875 19.09375 52.828125 \nQ 15.484375 45.953125 12.75 42.328125 \nL 6.984375 46.484375 \nQ 12.640625 53.46875 15.09375 55.71875 \nQ 8.796875 56.9375 3.125 58.453125 \nz\n\" id=\"ArialMT-2a\"/>\n      <path d=\"M 8.890625 0 \nL 8.890625 10.015625 \nL 18.890625 10.015625 \nL 18.890625 0 \nQ 18.890625 -5.515625 16.9375 -8.90625 \nQ 14.984375 -12.3125 10.75 -14.15625 \nL 8.296875 -10.40625 \nQ 11.078125 -9.1875 12.390625 -6.8125 \nQ 13.71875 -4.4375 13.875 0 \nz\n\" id=\"ArialMT-2c\"/>\n      <path id=\"ArialMT-20\"/>\n      <path d=\"M 6.390625 0 \nL 6.390625 71.578125 \nL 15.1875 71.578125 \nL 15.1875 0 \nz\n\" id=\"ArialMT-6c\"/>\n     </defs>\n     <g style=\"fill:#262626;\" transform=\"translate(15.073594 141.9725)rotate(-90)scale(0.11 -0.11)\">\n      <use xlink:href=\"#ArialMT-63\"/>\n      <use x=\"50\" xlink:href=\"#ArialMT-2a\"/>\n      <use x=\"88.916016\" xlink:href=\"#ArialMT-2c\"/>\n      <use x=\"116.699219\" xlink:href=\"#ArialMT-20\"/>\n      <use x=\"144.482422\" xlink:href=\"#ArialMT-6c\"/>\n      <use x=\"166.699219\" xlink:href=\"#ArialMT-2a\"/>\n     </g>\n    </g>\n   </g>\n   <g id=\"line2d_23\">\n    <path clip-path=\"url(#p9af059252b)\" d=\"M 57.378026 229.499489 \nL 63.589528 228.798043 \nL 69.801031 228.120766 \nL 76.012534 227.466081 \nL 82.224037 226.831986 \nL 88.435539 226.218553 \nL 94.647042 225.624012 \nL 100.858545 225.047336 \nL 107.070048 224.487592 \nL 113.281551 223.943903 \nL 119.493053 223.415472 \nL 125.704556 222.901563 \nL 131.916059 222.401492 \nL 138.127562 221.914611 \nL 144.339065 221.440259 \nL 150.550567 220.978 \nL 156.76207 220.527309 \nL 162.973573 220.087693 \nL 169.185076 219.658984 \nL 175.396578 219.240202 \nL 181.608081 218.831091 \nL 187.819584 218.43162 \nL 194.031087 218.041087 \nL 200.24259 217.659273 \nL 206.454092 217.285885 \nL 212.665595 218.459063 \nL 218.877098 219.985387 \nL 225.088601 220.1897 \nL 231.300103 219.843485 \nL 237.511606 219.503343 \nL 243.723109 219.169919 \nL 249.934612 218.842495 \nL 256.146115 218.52142 \nL 262.357617 218.206277 \nL 268.56912 217.896657 \nL 274.780623 217.592547 \nL 280.992126 217.293786 \nL 287.203629 217.000222 \nL 293.415131 216.711707 \nL 299.626634 216.428101 \nL 305.838137 216.149268 \nL 312.04964 215.875079 \nL 318.261142 215.60541 \nL 324.472645 215.340144 \nL 330.684148 215.079165 \nL 336.895651 214.822365 \nL 343.107154 214.569636 \nL 349.318656 214.320879 \nL 355.530159 214.075995 \nL 361.741662 213.834891 \n\" style=\"fill:none;stroke:#4c72b0;stroke-linecap:round;stroke-width:1.75;\"/>\n   </g>\n   <g id=\"line2d_24\">\n    <path clip-path=\"url(#p9af059252b)\" d=\"M 57.378026 81.075516 \nL 63.589528 80.047937 \nL 69.801031 79.011022 \nL 76.012534 77.965128 \nL 82.224037 76.910386 \nL 88.435539 75.84758 \nL 94.647042 74.776805 \nL 100.858545 73.698362 \nL 107.070048 72.612534 \nL 113.281551 71.519584 \nL 119.493053 70.419765 \nL 125.704556 69.313317 \nL 131.916059 68.200469 \nL 138.127562 67.081431 \nL 144.339065 65.956375 \nL 150.550567 64.825552 \nL 156.76207 63.689144 \nL 162.973573 62.547328 \nL 169.185076 61.400422 \nL 175.396578 60.248304 \nL 181.608081 59.091199 \nL 187.819584 57.929447 \nL 194.031087 56.763001 \nL 200.24259 55.592062 \nL 206.454092 54.416777 \nL 212.665595 54.169796 \nL 218.877098 54.169866 \nL 225.088601 53.506355 \nL 231.300103 52.552088 \nL 237.511606 51.594071 \nL 243.723109 50.632847 \nL 249.934612 49.668218 \nL 256.146115 48.700567 \nL 262.357617 47.729843 \nL 268.56912 46.755985 \nL 274.780623 45.779153 \nL 280.992126 44.799418 \nL 287.203629 43.816846 \nL 293.415131 42.831504 \nL 299.626634 41.843454 \nL 305.838137 40.852758 \nL 312.04964 39.859475 \nL 318.261142 38.863664 \nL 324.472645 37.865382 \nL 330.684148 36.864683 \nL 336.895651 35.861621 \nL 343.107154 34.856248 \nL 349.318656 33.848614 \nL 355.530159 32.83877 \nL 361.741662 31.826761 \n\" style=\"fill:none;stroke:#55a868;stroke-linecap:round;stroke-width:1.75;\"/>\n   </g>\n   <g id=\"patch_3\">\n    <path d=\"M 42.159844 239.383125 \nL 42.159844 21.943125 \n\" style=\"fill:none;\"/>\n   </g>\n   <g id=\"patch_4\">\n    <path d=\"M 376.959844 239.383125 \nL 376.959844 21.943125 \n\" style=\"fill:none;\"/>\n   </g>\n   <g id=\"patch_5\">\n    <path d=\"M 42.159844 239.383125 \nL 376.959844 239.383125 \n\" style=\"fill:none;\"/>\n   </g>\n   <g id=\"patch_6\">\n    <path d=\"M 42.159844 21.943125 \nL 376.959844 21.943125 \n\" style=\"fill:none;\"/>\n   </g>\n   <g id=\"text_14\">\n    <!-- Optimal consumption and labour supply -->\n    <defs>\n     <path d=\"M 4.828125 34.859375 \nQ 4.828125 52.6875 14.390625 62.765625 \nQ 23.96875 72.859375 39.109375 72.859375 \nQ 49.03125 72.859375 56.984375 68.109375 \nQ 64.9375 63.375 69.109375 54.90625 \nQ 73.296875 46.4375 73.296875 35.6875 \nQ 73.296875 24.8125 68.890625 16.21875 \nQ 64.5 7.625 56.4375 3.203125 \nQ 48.390625 -1.21875 39.0625 -1.21875 \nQ 28.953125 -1.21875 20.984375 3.65625 \nQ 13.03125 8.546875 8.921875 16.984375 \nQ 4.828125 25.4375 4.828125 34.859375 \nz\nM 14.59375 34.71875 \nQ 14.59375 21.78125 21.546875 14.328125 \nQ 28.515625 6.890625 39.015625 6.890625 \nQ 49.703125 6.890625 56.609375 14.40625 \nQ 63.53125 21.921875 63.53125 35.75 \nQ 63.53125 44.484375 60.578125 51 \nQ 57.625 57.515625 51.921875 61.109375 \nQ 46.234375 64.703125 39.15625 64.703125 \nQ 29.109375 64.703125 21.84375 57.78125 \nQ 14.59375 50.875 14.59375 34.71875 \nz\n\" id=\"ArialMT-4f\"/>\n     <path d=\"M 6.59375 -19.875 \nL 6.59375 51.859375 \nL 14.59375 51.859375 \nL 14.59375 45.125 \nQ 17.4375 49.078125 21 51.046875 \nQ 24.5625 53.03125 29.640625 53.03125 \nQ 36.28125 53.03125 41.359375 49.609375 \nQ 46.4375 46.1875 49.015625 39.953125 \nQ 51.609375 33.734375 51.609375 26.3125 \nQ 51.609375 18.359375 48.75 11.984375 \nQ 45.90625 5.609375 40.453125 2.21875 \nQ 35.015625 -1.171875 29 -1.171875 \nQ 24.609375 -1.171875 21.109375 0.6875 \nQ 17.625 2.546875 15.375 5.375 \nL 15.375 -19.875 \nz\nM 14.546875 25.640625 \nQ 14.546875 15.625 18.59375 10.84375 \nQ 22.65625 6.0625 28.421875 6.0625 \nQ 34.28125 6.0625 38.453125 11.015625 \nQ 42.625 15.96875 42.625 26.375 \nQ 42.625 36.28125 38.546875 41.203125 \nQ 34.46875 46.140625 28.8125 46.140625 \nQ 23.1875 46.140625 18.859375 40.890625 \nQ 14.546875 35.640625 14.546875 25.640625 \nz\n\" id=\"ArialMT-70\"/>\n     <path d=\"M 25.78125 7.859375 \nL 27.046875 0.09375 \nQ 23.34375 -0.6875 20.40625 -0.6875 \nQ 15.625 -0.6875 12.984375 0.828125 \nQ 10.359375 2.34375 9.28125 4.8125 \nQ 8.203125 7.28125 8.203125 15.1875 \nL 8.203125 45.015625 \nL 1.765625 45.015625 \nL 1.765625 51.859375 \nL 8.203125 51.859375 \nL 8.203125 64.703125 \nL 16.9375 69.96875 \nL 16.9375 51.859375 \nL 25.78125 51.859375 \nL 25.78125 45.015625 \nL 16.9375 45.015625 \nL 16.9375 14.703125 \nQ 16.9375 10.9375 17.40625 9.859375 \nQ 17.875 8.796875 18.921875 8.15625 \nQ 19.96875 7.515625 21.921875 7.515625 \nQ 23.390625 7.515625 25.78125 7.859375 \nz\n\" id=\"ArialMT-74\"/>\n     <path d=\"M 6.640625 61.46875 \nL 6.640625 71.578125 \nL 15.4375 71.578125 \nL 15.4375 61.46875 \nz\nM 6.640625 0 \nL 6.640625 51.859375 \nL 15.4375 51.859375 \nL 15.4375 0 \nz\n\" id=\"ArialMT-69\"/>\n     <path d=\"M 6.59375 0 \nL 6.59375 51.859375 \nL 14.453125 51.859375 \nL 14.453125 44.578125 \nQ 16.890625 48.390625 20.9375 50.703125 \nQ 25 53.03125 30.171875 53.03125 \nQ 35.9375 53.03125 39.625 50.640625 \nQ 43.3125 48.25 44.828125 43.953125 \nQ 50.984375 53.03125 60.84375 53.03125 \nQ 68.5625 53.03125 72.703125 48.75 \nQ 76.859375 44.484375 76.859375 35.59375 \nL 76.859375 0 \nL 68.109375 0 \nL 68.109375 32.671875 \nQ 68.109375 37.9375 67.25 40.25 \nQ 66.40625 42.578125 64.15625 43.984375 \nQ 61.921875 45.40625 58.890625 45.40625 \nQ 53.421875 45.40625 49.796875 41.765625 \nQ 46.1875 38.140625 46.1875 30.125 \nL 46.1875 0 \nL 37.40625 0 \nL 37.40625 33.6875 \nQ 37.40625 39.546875 35.25 42.46875 \nQ 33.109375 45.40625 28.21875 45.40625 \nQ 24.515625 45.40625 21.359375 43.453125 \nQ 18.21875 41.5 16.796875 37.734375 \nQ 15.375 33.984375 15.375 26.90625 \nL 15.375 0 \nz\n\" id=\"ArialMT-6d\"/>\n     <path d=\"M 40.4375 6.390625 \nQ 35.546875 2.25 31.03125 0.53125 \nQ 26.515625 -1.171875 21.34375 -1.171875 \nQ 12.796875 -1.171875 8.203125 3 \nQ 3.609375 7.171875 3.609375 13.671875 \nQ 3.609375 17.484375 5.34375 20.625 \nQ 7.078125 23.78125 9.890625 25.6875 \nQ 12.703125 27.59375 16.21875 28.5625 \nQ 18.796875 29.25 24.03125 29.890625 \nQ 34.671875 31.15625 39.703125 32.90625 \nQ 39.75 34.71875 39.75 35.203125 \nQ 39.75 40.578125 37.25 42.78125 \nQ 33.890625 45.75 27.25 45.75 \nQ 21.046875 45.75 18.09375 43.578125 \nQ 15.140625 41.40625 13.71875 35.890625 \nL 5.125 37.0625 \nQ 6.296875 42.578125 8.984375 45.96875 \nQ 11.671875 49.359375 16.75 51.1875 \nQ 21.828125 53.03125 28.515625 53.03125 \nQ 35.15625 53.03125 39.296875 51.46875 \nQ 43.453125 49.90625 45.40625 47.53125 \nQ 47.359375 45.171875 48.140625 41.546875 \nQ 48.578125 39.3125 48.578125 33.453125 \nL 48.578125 21.734375 \nQ 48.578125 9.46875 49.140625 6.21875 \nQ 49.703125 2.984375 51.375 0 \nL 42.1875 0 \nQ 40.828125 2.734375 40.4375 6.390625 \nz\nM 39.703125 26.03125 \nQ 34.90625 24.078125 25.34375 22.703125 \nQ 19.921875 21.921875 17.671875 20.9375 \nQ 15.4375 19.96875 14.203125 18.09375 \nQ 12.984375 16.21875 12.984375 13.921875 \nQ 12.984375 10.40625 15.640625 8.0625 \nQ 18.3125 5.71875 23.4375 5.71875 \nQ 28.515625 5.71875 32.46875 7.9375 \nQ 36.421875 10.15625 38.28125 14.015625 \nQ 39.703125 17 39.703125 22.796875 \nz\n\" id=\"ArialMT-61\"/>\n     <path d=\"M 3.328125 25.921875 \nQ 3.328125 40.328125 11.328125 47.265625 \nQ 18.015625 53.03125 27.640625 53.03125 \nQ 38.328125 53.03125 45.109375 46.015625 \nQ 51.90625 39.015625 51.90625 26.65625 \nQ 51.90625 16.65625 48.90625 10.90625 \nQ 45.90625 5.171875 40.15625 2 \nQ 34.421875 -1.171875 27.640625 -1.171875 \nQ 16.75 -1.171875 10.03125 5.8125 \nQ 3.328125 12.796875 3.328125 25.921875 \nz\nM 12.359375 25.921875 \nQ 12.359375 15.96875 16.703125 11.015625 \nQ 21.046875 6.0625 27.640625 6.0625 \nQ 34.1875 6.0625 38.53125 11.03125 \nQ 42.875 16.015625 42.875 26.21875 \nQ 42.875 35.84375 38.5 40.796875 \nQ 34.125 45.75 27.640625 45.75 \nQ 21.046875 45.75 16.703125 40.8125 \nQ 12.359375 35.890625 12.359375 25.921875 \nz\n\" id=\"ArialMT-6f\"/>\n     <path d=\"M 6.59375 0 \nL 6.59375 51.859375 \nL 14.5 51.859375 \nL 14.5 44.484375 \nQ 20.21875 53.03125 31 53.03125 \nQ 35.6875 53.03125 39.625 51.34375 \nQ 43.5625 49.65625 45.515625 46.921875 \nQ 47.46875 44.1875 48.25 40.4375 \nQ 48.734375 37.984375 48.734375 31.890625 \nL 48.734375 0 \nL 39.9375 0 \nL 39.9375 31.546875 \nQ 39.9375 36.921875 38.90625 39.578125 \nQ 37.890625 42.234375 35.28125 43.8125 \nQ 32.671875 45.40625 29.15625 45.40625 \nQ 23.53125 45.40625 19.453125 41.84375 \nQ 15.375 38.28125 15.375 28.328125 \nL 15.375 0 \nz\n\" id=\"ArialMT-6e\"/>\n     <path d=\"M 3.078125 15.484375 \nL 11.765625 16.84375 \nQ 12.5 11.625 15.84375 8.84375 \nQ 19.1875 6.0625 25.203125 6.0625 \nQ 31.25 6.0625 34.171875 8.515625 \nQ 37.109375 10.984375 37.109375 14.3125 \nQ 37.109375 17.28125 34.515625 19 \nQ 32.71875 20.171875 25.53125 21.96875 \nQ 15.875 24.421875 12.140625 26.203125 \nQ 8.40625 27.984375 6.46875 31.125 \nQ 4.546875 34.28125 4.546875 38.09375 \nQ 4.546875 41.546875 6.125 44.5 \nQ 7.71875 47.46875 10.453125 49.421875 \nQ 12.5 50.921875 16.03125 51.96875 \nQ 19.578125 53.03125 23.640625 53.03125 \nQ 29.734375 53.03125 34.34375 51.265625 \nQ 38.96875 49.515625 41.15625 46.5 \nQ 43.359375 43.5 44.1875 38.484375 \nL 35.59375 37.3125 \nQ 35.015625 41.3125 32.203125 43.546875 \nQ 29.390625 45.796875 24.265625 45.796875 \nQ 18.21875 45.796875 15.625 43.796875 \nQ 13.03125 41.796875 13.03125 39.109375 \nQ 13.03125 37.40625 14.109375 36.03125 \nQ 15.1875 34.625 17.484375 33.6875 \nQ 18.796875 33.203125 25.25 31.453125 \nQ 34.578125 28.953125 38.25 27.359375 \nQ 41.9375 25.78125 44.03125 22.75 \nQ 46.140625 19.734375 46.140625 15.234375 \nQ 46.140625 10.84375 43.578125 6.953125 \nQ 41.015625 3.078125 36.171875 0.953125 \nQ 31.34375 -1.171875 25.25 -1.171875 \nQ 15.140625 -1.171875 9.84375 3.03125 \nQ 4.546875 7.234375 3.078125 15.484375 \nz\n\" id=\"ArialMT-73\"/>\n     <path d=\"M 40.578125 0 \nL 40.578125 7.625 \nQ 34.515625 -1.171875 24.125 -1.171875 \nQ 19.53125 -1.171875 15.546875 0.578125 \nQ 11.578125 2.34375 9.640625 5 \nQ 7.71875 7.671875 6.9375 11.53125 \nQ 6.390625 14.109375 6.390625 19.734375 \nL 6.390625 51.859375 \nL 15.1875 51.859375 \nL 15.1875 23.09375 \nQ 15.1875 16.21875 15.71875 13.8125 \nQ 16.546875 10.359375 19.234375 8.375 \nQ 21.921875 6.390625 25.875 6.390625 \nQ 29.828125 6.390625 33.296875 8.421875 \nQ 36.765625 10.453125 38.203125 13.9375 \nQ 39.65625 17.4375 39.65625 24.078125 \nL 39.65625 51.859375 \nL 48.4375 51.859375 \nL 48.4375 0 \nz\n\" id=\"ArialMT-75\"/>\n     <path d=\"M 40.234375 0 \nL 40.234375 6.546875 \nQ 35.296875 -1.171875 25.734375 -1.171875 \nQ 19.53125 -1.171875 14.328125 2.25 \nQ 9.125 5.671875 6.265625 11.796875 \nQ 3.421875 17.921875 3.421875 25.875 \nQ 3.421875 33.640625 6 39.96875 \nQ 8.59375 46.296875 13.765625 49.65625 \nQ 18.953125 53.03125 25.34375 53.03125 \nQ 30.03125 53.03125 33.6875 51.046875 \nQ 37.359375 49.078125 39.65625 45.90625 \nL 39.65625 71.578125 \nL 48.390625 71.578125 \nL 48.390625 0 \nz\nM 12.453125 25.875 \nQ 12.453125 15.921875 16.640625 10.984375 \nQ 20.84375 6.0625 26.5625 6.0625 \nQ 32.328125 6.0625 36.34375 10.765625 \nQ 40.375 15.484375 40.375 25.140625 \nQ 40.375 35.796875 36.265625 40.765625 \nQ 32.171875 45.75 26.171875 45.75 \nQ 20.3125 45.75 16.375 40.96875 \nQ 12.453125 36.1875 12.453125 25.875 \nz\n\" id=\"ArialMT-64\"/>\n     <path d=\"M 14.703125 0 \nL 6.546875 0 \nL 6.546875 71.578125 \nL 15.328125 71.578125 \nL 15.328125 46.046875 \nQ 20.90625 53.03125 29.546875 53.03125 \nQ 34.328125 53.03125 38.59375 51.09375 \nQ 42.875 49.171875 45.625 45.671875 \nQ 48.390625 42.1875 49.953125 37.25 \nQ 51.515625 32.328125 51.515625 26.703125 \nQ 51.515625 13.375 44.921875 6.09375 \nQ 38.328125 -1.171875 29.109375 -1.171875 \nQ 19.921875 -1.171875 14.703125 6.5 \nz\nM 14.59375 26.3125 \nQ 14.59375 17 17.140625 12.84375 \nQ 21.296875 6.0625 28.375 6.0625 \nQ 34.125 6.0625 38.328125 11.0625 \nQ 42.53125 16.0625 42.53125 25.984375 \nQ 42.53125 36.140625 38.5 40.96875 \nQ 34.46875 45.796875 28.765625 45.796875 \nQ 23 45.796875 18.796875 40.796875 \nQ 14.59375 35.796875 14.59375 26.3125 \nz\n\" id=\"ArialMT-62\"/>\n     <path d=\"M 6.5 0 \nL 6.5 51.859375 \nL 14.40625 51.859375 \nL 14.40625 44 \nQ 17.4375 49.515625 20 51.265625 \nQ 22.5625 53.03125 25.640625 53.03125 \nQ 30.078125 53.03125 34.671875 50.203125 \nL 31.640625 42.046875 \nQ 28.421875 43.953125 25.203125 43.953125 \nQ 22.3125 43.953125 20.015625 42.21875 \nQ 17.71875 40.484375 16.75 37.40625 \nQ 15.28125 32.71875 15.28125 27.15625 \nL 15.28125 0 \nz\n\" id=\"ArialMT-72\"/>\n     <path d=\"M 6.203125 -19.96875 \nL 5.21875 -11.71875 \nQ 8.109375 -12.5 10.25 -12.5 \nQ 13.1875 -12.5 14.9375 -11.515625 \nQ 16.703125 -10.546875 17.828125 -8.796875 \nQ 18.65625 -7.46875 20.515625 -2.25 \nQ 20.75 -1.515625 21.296875 -0.09375 \nL 1.609375 51.859375 \nL 11.078125 51.859375 \nL 21.875 21.828125 \nQ 23.96875 16.109375 25.640625 9.8125 \nQ 27.15625 15.875 29.25 21.625 \nL 40.328125 51.859375 \nL 49.125 51.859375 \nL 29.390625 -0.875 \nQ 26.21875 -9.421875 24.46875 -12.640625 \nQ 22.125 -17 19.09375 -19.015625 \nQ 16.0625 -21.046875 11.859375 -21.046875 \nQ 9.328125 -21.046875 6.203125 -19.96875 \nz\n\" id=\"ArialMT-79\"/>\n    </defs>\n    <g style=\"fill:#262626;\" transform=\"translate(104.174531 15.943125)scale(0.12 -0.12)\">\n     <use xlink:href=\"#ArialMT-4f\"/>\n     <use x=\"77.783203\" xlink:href=\"#ArialMT-70\"/>\n     <use x=\"133.398438\" xlink:href=\"#ArialMT-74\"/>\n     <use x=\"161.181641\" xlink:href=\"#ArialMT-69\"/>\n     <use x=\"183.398438\" xlink:href=\"#ArialMT-6d\"/>\n     <use x=\"266.699219\" xlink:href=\"#ArialMT-61\"/>\n     <use x=\"322.314453\" xlink:href=\"#ArialMT-6c\"/>\n     <use x=\"344.53125\" xlink:href=\"#ArialMT-20\"/>\n     <use x=\"372.314453\" xlink:href=\"#ArialMT-63\"/>\n     <use x=\"422.314453\" xlink:href=\"#ArialMT-6f\"/>\n     <use x=\"477.929688\" xlink:href=\"#ArialMT-6e\"/>\n     <use x=\"533.544922\" xlink:href=\"#ArialMT-73\"/>\n     <use x=\"583.544922\" xlink:href=\"#ArialMT-75\"/>\n     <use x=\"639.160156\" xlink:href=\"#ArialMT-6d\"/>\n     <use x=\"722.460938\" xlink:href=\"#ArialMT-70\"/>\n     <use x=\"778.076172\" xlink:href=\"#ArialMT-74\"/>\n     <use x=\"805.859375\" xlink:href=\"#ArialMT-69\"/>\n     <use x=\"828.076172\" xlink:href=\"#ArialMT-6f\"/>\n     <use x=\"883.691406\" xlink:href=\"#ArialMT-6e\"/>\n     <use x=\"939.306641\" xlink:href=\"#ArialMT-20\"/>\n     <use x=\"967.089844\" xlink:href=\"#ArialMT-61\"/>\n     <use x=\"1022.705078\" xlink:href=\"#ArialMT-6e\"/>\n     <use x=\"1078.320312\" xlink:href=\"#ArialMT-64\"/>\n     <use x=\"1133.935547\" xlink:href=\"#ArialMT-20\"/>\n     <use x=\"1161.71875\" xlink:href=\"#ArialMT-6c\"/>\n     <use x=\"1183.935547\" xlink:href=\"#ArialMT-61\"/>\n     <use x=\"1239.550781\" xlink:href=\"#ArialMT-62\"/>\n     <use x=\"1295.166016\" xlink:href=\"#ArialMT-6f\"/>\n     <use x=\"1350.78125\" xlink:href=\"#ArialMT-75\"/>\n     <use x=\"1406.396484\" xlink:href=\"#ArialMT-72\"/>\n     <use x=\"1439.697266\" xlink:href=\"#ArialMT-20\"/>\n     <use x=\"1467.480469\" xlink:href=\"#ArialMT-73\"/>\n     <use x=\"1517.480469\" xlink:href=\"#ArialMT-75\"/>\n     <use x=\"1573.095703\" xlink:href=\"#ArialMT-70\"/>\n     <use x=\"1628.710938\" xlink:href=\"#ArialMT-70\"/>\n     <use x=\"1684.326172\" xlink:href=\"#ArialMT-6c\"/>\n     <use x=\"1706.542969\" xlink:href=\"#ArialMT-79\"/>\n    </g>\n   </g>\n   <g id=\"legend_1\">\n    <g id=\"line2d_25\">\n     <path d=\"M 51.159844 34.722813 \nL 71.159844 34.722813 \n\" style=\"fill:none;stroke:#4c72b0;stroke-linecap:round;stroke-width:1.75;\"/>\n    </g>\n    <g id=\"line2d_26\"/>\n    <g id=\"text_15\">\n     <!-- Labour Supply -->\n     <defs>\n      <path d=\"M 7.328125 0 \nL 7.328125 71.578125 \nL 16.796875 71.578125 \nL 16.796875 8.453125 \nL 52.046875 8.453125 \nL 52.046875 0 \nz\n\" id=\"ArialMT-4c\"/>\n      <path d=\"M 4.5 23 \nL 13.421875 23.78125 \nQ 14.0625 18.40625 16.375 14.96875 \nQ 18.703125 11.53125 23.578125 9.40625 \nQ 28.46875 7.28125 34.578125 7.28125 \nQ 39.984375 7.28125 44.140625 8.890625 \nQ 48.296875 10.5 50.3125 13.296875 \nQ 52.34375 16.109375 52.34375 19.4375 \nQ 52.34375 22.796875 50.390625 25.3125 \nQ 48.4375 27.828125 43.953125 29.546875 \nQ 41.0625 30.671875 31.203125 33.03125 \nQ 21.34375 35.40625 17.390625 37.5 \nQ 12.25 40.1875 9.734375 44.15625 \nQ 7.234375 48.140625 7.234375 53.078125 \nQ 7.234375 58.5 10.296875 63.203125 \nQ 13.375 67.921875 19.28125 70.359375 \nQ 25.203125 72.796875 32.421875 72.796875 \nQ 40.375 72.796875 46.453125 70.234375 \nQ 52.546875 67.671875 55.8125 62.6875 \nQ 59.078125 57.71875 59.328125 51.421875 \nL 50.25 50.734375 \nQ 49.515625 57.515625 45.28125 60.984375 \nQ 41.0625 64.453125 32.8125 64.453125 \nQ 24.21875 64.453125 20.28125 61.296875 \nQ 16.359375 58.15625 16.359375 53.71875 \nQ 16.359375 49.859375 19.140625 47.359375 \nQ 21.875 44.875 33.421875 42.265625 \nQ 44.96875 39.65625 49.265625 37.703125 \nQ 55.515625 34.8125 58.484375 30.390625 \nQ 61.46875 25.984375 61.46875 20.21875 \nQ 61.46875 14.5 58.203125 9.4375 \nQ 54.9375 4.390625 48.796875 1.578125 \nQ 42.671875 -1.21875 35.015625 -1.21875 \nQ 25.296875 -1.21875 18.71875 1.609375 \nQ 12.15625 4.4375 8.421875 10.125 \nQ 4.6875 15.828125 4.5 23 \nz\n\" id=\"ArialMT-53\"/>\n     </defs>\n     <g style=\"fill:#262626;\" transform=\"translate(79.159844 38.222813)scale(0.1 -0.1)\">\n      <use xlink:href=\"#ArialMT-4c\"/>\n      <use x=\"55.615234\" xlink:href=\"#ArialMT-61\"/>\n      <use x=\"111.230469\" xlink:href=\"#ArialMT-62\"/>\n      <use x=\"166.845703\" xlink:href=\"#ArialMT-6f\"/>\n      <use x=\"222.460938\" xlink:href=\"#ArialMT-75\"/>\n      <use x=\"278.076172\" xlink:href=\"#ArialMT-72\"/>\n      <use x=\"311.376953\" xlink:href=\"#ArialMT-20\"/>\n      <use x=\"339.160156\" xlink:href=\"#ArialMT-53\"/>\n      <use x=\"405.859375\" xlink:href=\"#ArialMT-75\"/>\n      <use x=\"461.474609\" xlink:href=\"#ArialMT-70\"/>\n      <use x=\"517.089844\" xlink:href=\"#ArialMT-70\"/>\n      <use x=\"572.705078\" xlink:href=\"#ArialMT-6c\"/>\n      <use x=\"594.921875\" xlink:href=\"#ArialMT-79\"/>\n     </g>\n    </g>\n    <g id=\"line2d_27\">\n     <path d=\"M 51.159844 49.107188 \nL 71.159844 49.107188 \n\" style=\"fill:none;stroke:#55a868;stroke-linecap:round;stroke-width:1.75;\"/>\n    </g>\n    <g id=\"line2d_28\"/>\n    <g id=\"text_16\">\n     <!-- Consumption -->\n     <defs>\n      <path d=\"M 58.796875 25.09375 \nL 68.265625 22.703125 \nQ 65.28125 11.03125 57.546875 4.90625 \nQ 49.8125 -1.21875 38.625 -1.21875 \nQ 27.046875 -1.21875 19.796875 3.484375 \nQ 12.546875 8.203125 8.765625 17.140625 \nQ 4.984375 26.078125 4.984375 36.328125 \nQ 4.984375 47.515625 9.25 55.828125 \nQ 13.53125 64.15625 21.40625 68.46875 \nQ 29.296875 72.796875 38.765625 72.796875 \nQ 49.515625 72.796875 56.828125 67.328125 \nQ 64.15625 61.859375 67.046875 51.953125 \nL 57.71875 49.75 \nQ 55.21875 57.5625 50.484375 61.125 \nQ 45.75 64.703125 38.578125 64.703125 \nQ 30.328125 64.703125 24.78125 60.734375 \nQ 19.234375 56.78125 16.984375 50.109375 \nQ 14.75 43.453125 14.75 36.375 \nQ 14.75 27.25 17.40625 20.4375 \nQ 20.0625 13.625 25.671875 10.25 \nQ 31.296875 6.890625 37.84375 6.890625 \nQ 45.796875 6.890625 51.3125 11.46875 \nQ 56.84375 16.0625 58.796875 25.09375 \nz\n\" id=\"ArialMT-43\"/>\n     </defs>\n     <g style=\"fill:#262626;\" transform=\"translate(79.159844 52.607188)scale(0.1 -0.1)\">\n      <use xlink:href=\"#ArialMT-43\"/>\n      <use x=\"72.216797\" xlink:href=\"#ArialMT-6f\"/>\n      <use x=\"127.832031\" xlink:href=\"#ArialMT-6e\"/>\n      <use x=\"183.447266\" xlink:href=\"#ArialMT-73\"/>\n      <use x=\"233.447266\" xlink:href=\"#ArialMT-75\"/>\n      <use x=\"289.0625\" xlink:href=\"#ArialMT-6d\"/>\n      <use x=\"372.363281\" xlink:href=\"#ArialMT-70\"/>\n      <use x=\"427.978516\" xlink:href=\"#ArialMT-74\"/>\n      <use x=\"455.761719\" xlink:href=\"#ArialMT-69\"/>\n      <use x=\"477.978516\" xlink:href=\"#ArialMT-6f\"/>\n      <use x=\"533.59375\" xlink:href=\"#ArialMT-6e\"/>\n     </g>\n    </g>\n   </g>\n  </g>\n </g>\n <defs>\n  <clipPath id=\"p9af059252b\">\n   <rect height=\"217.44\" width=\"334.8\" x=\"42.159844\" y=\"21.943125\"/>\n  </clipPath>\n </defs>\n</svg>\n",
      "text/plain": "<Figure size 432x288 with 1 Axes>"
     },
     "metadata": {
      "needs_background": "light"
     },
     "output_type": "display_data"
    }
   ],
   "source": [
    "# code\n",
    "w_list = np.linspace(0.5, 1.5, num=50)\n",
    "l_list = np.zeros(w_list.size)\n",
    "c_list = np.zeros(w_list.size)\n",
    "\n",
    "for i in range(w_list.size) :\n",
    "    l, c, _ = solve_supplyproblem(e, v, m, w_list[i], t_0, t_1, k)\n",
    "    l_list[i] = l\n",
    "    c_list[i] = c\n",
    "\n",
    "plt.plot(w_list, l_list)\n",
    "plt.plot(w_list, c_list)\n",
    "plt.grid(True)\n",
    "plt.xlabel(\"w\")\n",
    "plt.ylabel(\"c*, l*\")\n",
    "plt.legend([\"Labour Supply\", \"Consumption\"])\n",
    "plt.title(\"Optimal consumption and labour supply\")\n",
    "plt.show()"
   ]
  },
  {
   "cell_type": "markdown",
   "metadata": {},
   "source": [
    "# Question 3"
   ]
  },
  {
   "cell_type": "markdown",
   "metadata": {},
   "source": [
    "ADD ANSWER."
   ]
  },
  {
   "cell_type": "code",
   "execution_count": 11,
   "metadata": {},
   "outputs": [],
   "source": [
    "# code\n",
    "\n"
   ]
  },
  {
   "cell_type": "markdown",
   "metadata": {},
   "source": [
    "# Question 4"
   ]
  },
  {
   "cell_type": "markdown",
   "metadata": {},
   "source": [
    "ADD ANSWER."
   ]
  },
  {
   "cell_type": "code",
   "execution_count": 5,
   "metadata": {},
   "outputs": [],
   "source": [
    "# code"
   ]
  },
  {
   "cell_type": "markdown",
   "metadata": {},
   "source": [
    "# Question 5"
   ]
  },
  {
   "cell_type": "markdown",
   "metadata": {},
   "source": [
    "ADD ANSWER."
   ]
  },
  {
   "cell_type": "code",
   "execution_count": 6,
   "metadata": {},
   "outputs": [],
   "source": [
    "# code"
   ]
  },
  {
   "cell_type": "markdown",
   "metadata": {},
   "source": [
    "# Conclusion"
   ]
  },
  {
   "cell_type": "markdown",
   "metadata": {},
   "source": [
    "ADD CONCISE CONLUSION."
   ]
  }
 ],
 "metadata": {
  "kernelspec": {
   "display_name": "Python 3",
   "language": "python",
   "name": "python3"
  },
  "language_info": {
   "codemirror_mode": {
    "name": "ipython",
    "version": 3
   },
   "file_extension": ".py",
   "mimetype": "text/x-python",
   "name": "python",
   "nbconvert_exporter": "python",
   "pygments_lexer": "ipython3",
   "version": "3.7.3-final"
  },
  "toc-autonumbering": true
 },
 "nbformat": 4,
 "nbformat_minor": 4
}