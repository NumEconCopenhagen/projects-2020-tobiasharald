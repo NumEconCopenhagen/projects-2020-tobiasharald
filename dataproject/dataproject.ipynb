{
 "cells": [
  {
   "cell_type": "markdown",
   "metadata": {},
   "source": [
    "# YOUR PROJECT TITLE"
   ]
  },
  {
   "cell_type": "markdown",
   "metadata": {},
   "source": [
    "> **Note the following:** \n",
    "> 1. This is *not* meant to be an example of an actual **data analysis project**, just an example of how to structure such a project.\n",
    "> 1. Remember the general advice on structuring and commenting your code from [lecture 5](https://numeconcopenhagen.netlify.com/lectures/Workflow_and_debugging).\n",
    "> 1. Remember this [guide](https://www.markdownguide.org/basic-syntax/) on markdown and (a bit of) latex.\n",
    "> 1. Turn on automatic numbering by clicking on the small icon on top of the table of contents in the left sidebar.\n",
    "> 1. The `dataproject.py` file includes a function which will be used multiple times in this notebook."
   ]
  },
  {
   "cell_type": "markdown",
   "metadata": {},
   "source": [
    "Imports and set magics:"
   ]
  },
  {
   "cell_type": "code",
   "execution_count": 3,
   "metadata": {},
   "outputs": [],
   "source": [
    "import pandas as pd\n",
    "import matplotlib.pyplot as plt\n",
    "import ipywidgets as widgets\n",
    "from matplotlib_venn import venn2 # install with pip install matplotlib-venn\n",
    "\n",
    "# autoreload modules when code is run\n",
    "%load_ext autoreload\n",
    "%autoreload 2\n",
    "\n",
    "# local modules\n",
    "import dataproject"
   ]
  },
  {
   "cell_type": "markdown",
   "metadata": {},
   "source": []
  },
  {
   "cell_type": "markdown",
   "metadata": {
    "toc-hr-collapsed": true
   },
   "source": [
    "# Read and clean data"
   ]
  },
  {
   "cell_type": "markdown",
   "metadata": {},
   "source": [
    "## Employment data"
   ]
  },
  {
   "cell_type": "markdown",
   "metadata": {},
   "source": [
    "**Read the employment data** in ``RAS200.xlsx`` and **clean it** removing and renaming columns:"
   ]
  },
  {
   "cell_type": "code",
   "execution_count": 4,
   "metadata": {},
   "outputs": [],
   "source": [
    "# a. load\n",
    "empl = pd.read_excel('INDKP106.xlsx', skiprows=2)\n",
    "\n",
    "# b. drop columns\n",
    "drop_these = ['Unnamed: 0', 'Unnamed: 1', 'Unnamed: 2', 'Unnamed: 3']\n",
    "empl.drop(drop_these, axis=1, inplace=True)\n",
    "\n",
    "# c. rename columns\n",
    "empl.rename(columns = {'Unnamed: 4':'municipality'}, inplace=True)"
   ]
  },
  {
   "cell_type": "markdown",
   "metadata": {},
   "source": [
    "The dataset now looks like this:"
   ]
  },
  {
   "cell_type": "code",
   "execution_count": 5,
   "metadata": {},
   "outputs": [
    {
     "data": {
      "text/html": [
       "<div>\n",
       "<style scoped>\n",
       "    .dataframe tbody tr th:only-of-type {\n",
       "        vertical-align: middle;\n",
       "    }\n",
       "\n",
       "    .dataframe tbody tr th {\n",
       "        vertical-align: top;\n",
       "    }\n",
       "\n",
       "    .dataframe thead th {\n",
       "        text-align: right;\n",
       "    }\n",
       "</style>\n",
       "<table border=\"1\" class=\"dataframe\">\n",
       "  <thead>\n",
       "    <tr style=\"text-align: right;\">\n",
       "      <th></th>\n",
       "      <th>municipality</th>\n",
       "      <th>2009</th>\n",
       "      <th>2010</th>\n",
       "      <th>2011</th>\n",
       "      <th>2012</th>\n",
       "      <th>2013</th>\n",
       "      <th>2014</th>\n",
       "      <th>2015</th>\n",
       "      <th>2016</th>\n",
       "      <th>2017</th>\n",
       "      <th>2018</th>\n",
       "    </tr>\n",
       "  </thead>\n",
       "  <tbody>\n",
       "    <tr>\n",
       "      <td>0</td>\n",
       "      <td>Hele landet</td>\n",
       "      <td>179308.0</td>\n",
       "      <td>195011.0</td>\n",
       "      <td>199057.0</td>\n",
       "      <td>204037.0</td>\n",
       "      <td>209655.0</td>\n",
       "      <td>214009.0</td>\n",
       "      <td>220185.0</td>\n",
       "      <td>223438.0</td>\n",
       "      <td>229875.0</td>\n",
       "      <td>235312.0</td>\n",
       "    </tr>\n",
       "    <tr>\n",
       "      <td>1</td>\n",
       "      <td>Landsdel Byen København</td>\n",
       "      <td>177821.0</td>\n",
       "      <td>191577.0</td>\n",
       "      <td>196833.0</td>\n",
       "      <td>200886.0</td>\n",
       "      <td>206286.0</td>\n",
       "      <td>212311.0</td>\n",
       "      <td>218440.0</td>\n",
       "      <td>223635.0</td>\n",
       "      <td>229793.0</td>\n",
       "      <td>237224.0</td>\n",
       "    </tr>\n",
       "    <tr>\n",
       "      <td>2</td>\n",
       "      <td>København</td>\n",
       "      <td>171951.0</td>\n",
       "      <td>184281.0</td>\n",
       "      <td>189182.0</td>\n",
       "      <td>192990.0</td>\n",
       "      <td>198131.0</td>\n",
       "      <td>204008.0</td>\n",
       "      <td>209991.0</td>\n",
       "      <td>215215.0</td>\n",
       "      <td>220945.0</td>\n",
       "      <td>228338.0</td>\n",
       "    </tr>\n",
       "    <tr>\n",
       "      <td>3</td>\n",
       "      <td>Frederiksberg</td>\n",
       "      <td>199731.0</td>\n",
       "      <td>219475.0</td>\n",
       "      <td>224754.0</td>\n",
       "      <td>230908.0</td>\n",
       "      <td>238371.0</td>\n",
       "      <td>245712.0</td>\n",
       "      <td>252988.0</td>\n",
       "      <td>258624.0</td>\n",
       "      <td>267820.0</td>\n",
       "      <td>276683.0</td>\n",
       "    </tr>\n",
       "    <tr>\n",
       "      <td>4</td>\n",
       "      <td>Dragør</td>\n",
       "      <td>217104.0</td>\n",
       "      <td>242929.0</td>\n",
       "      <td>261933.0</td>\n",
       "      <td>264648.0</td>\n",
       "      <td>270354.0</td>\n",
       "      <td>279821.0</td>\n",
       "      <td>289465.0</td>\n",
       "      <td>295922.0</td>\n",
       "      <td>303980.0</td>\n",
       "      <td>311793.0</td>\n",
       "    </tr>\n",
       "  </tbody>\n",
       "</table>\n",
       "</div>"
      ],
      "text/plain": [
       "              municipality      2009      2010      2011      2012      2013  \\\n",
       "0              Hele landet  179308.0  195011.0  199057.0  204037.0  209655.0   \n",
       "1  Landsdel Byen København  177821.0  191577.0  196833.0  200886.0  206286.0   \n",
       "2                København  171951.0  184281.0  189182.0  192990.0  198131.0   \n",
       "3            Frederiksberg  199731.0  219475.0  224754.0  230908.0  238371.0   \n",
       "4                   Dragør  217104.0  242929.0  261933.0  264648.0  270354.0   \n",
       "\n",
       "       2014      2015      2016      2017      2018  \n",
       "0  214009.0  220185.0  223438.0  229875.0  235312.0  \n",
       "1  212311.0  218440.0  223635.0  229793.0  237224.0  \n",
       "2  204008.0  209991.0  215215.0  220945.0  228338.0  \n",
       "3  245712.0  252988.0  258624.0  267820.0  276683.0  \n",
       "4  279821.0  289465.0  295922.0  303980.0  311793.0  "
      ]
     },
     "execution_count": 5,
     "metadata": {},
     "output_type": "execute_result"
    }
   ],
   "source": [
    "empl.head()"
   ]
  },
  {
   "cell_type": "markdown",
   "metadata": {},
   "source": [
    "**Remove all rows which are not municipalities**:"
   ]
  },
  {
   "cell_type": "code",
   "execution_count": 6,
   "metadata": {},
   "outputs": [
    {
     "data": {
      "text/html": [
       "<div>\n",
       "<style scoped>\n",
       "    .dataframe tbody tr th:only-of-type {\n",
       "        vertical-align: middle;\n",
       "    }\n",
       "\n",
       "    .dataframe tbody tr th {\n",
       "        vertical-align: top;\n",
       "    }\n",
       "\n",
       "    .dataframe thead th {\n",
       "        text-align: right;\n",
       "    }\n",
       "</style>\n",
       "<table border=\"1\" class=\"dataframe\">\n",
       "  <thead>\n",
       "    <tr style=\"text-align: right;\">\n",
       "      <th></th>\n",
       "      <th>municipality</th>\n",
       "      <th>2009</th>\n",
       "      <th>2010</th>\n",
       "      <th>2011</th>\n",
       "      <th>2012</th>\n",
       "      <th>2013</th>\n",
       "      <th>2014</th>\n",
       "      <th>2015</th>\n",
       "      <th>2016</th>\n",
       "      <th>2017</th>\n",
       "      <th>2018</th>\n",
       "    </tr>\n",
       "  </thead>\n",
       "  <tbody>\n",
       "    <tr>\n",
       "      <td>0</td>\n",
       "      <td>Hele landet</td>\n",
       "      <td>179308.0</td>\n",
       "      <td>195011.0</td>\n",
       "      <td>199057.0</td>\n",
       "      <td>204037.0</td>\n",
       "      <td>209655.0</td>\n",
       "      <td>214009.0</td>\n",
       "      <td>220185.0</td>\n",
       "      <td>223438.0</td>\n",
       "      <td>229875.0</td>\n",
       "      <td>235312.0</td>\n",
       "    </tr>\n",
       "    <tr>\n",
       "      <td>2</td>\n",
       "      <td>København</td>\n",
       "      <td>171951.0</td>\n",
       "      <td>184281.0</td>\n",
       "      <td>189182.0</td>\n",
       "      <td>192990.0</td>\n",
       "      <td>198131.0</td>\n",
       "      <td>204008.0</td>\n",
       "      <td>209991.0</td>\n",
       "      <td>215215.0</td>\n",
       "      <td>220945.0</td>\n",
       "      <td>228338.0</td>\n",
       "    </tr>\n",
       "    <tr>\n",
       "      <td>3</td>\n",
       "      <td>Frederiksberg</td>\n",
       "      <td>199731.0</td>\n",
       "      <td>219475.0</td>\n",
       "      <td>224754.0</td>\n",
       "      <td>230908.0</td>\n",
       "      <td>238371.0</td>\n",
       "      <td>245712.0</td>\n",
       "      <td>252988.0</td>\n",
       "      <td>258624.0</td>\n",
       "      <td>267820.0</td>\n",
       "      <td>276683.0</td>\n",
       "    </tr>\n",
       "    <tr>\n",
       "      <td>4</td>\n",
       "      <td>Dragør</td>\n",
       "      <td>217104.0</td>\n",
       "      <td>242929.0</td>\n",
       "      <td>261933.0</td>\n",
       "      <td>264648.0</td>\n",
       "      <td>270354.0</td>\n",
       "      <td>279821.0</td>\n",
       "      <td>289465.0</td>\n",
       "      <td>295922.0</td>\n",
       "      <td>303980.0</td>\n",
       "      <td>311793.0</td>\n",
       "    </tr>\n",
       "    <tr>\n",
       "      <td>5</td>\n",
       "      <td>Tårnby</td>\n",
       "      <td>189340.0</td>\n",
       "      <td>203459.0</td>\n",
       "      <td>209500.0</td>\n",
       "      <td>212671.0</td>\n",
       "      <td>217423.0</td>\n",
       "      <td>222582.0</td>\n",
       "      <td>227877.0</td>\n",
       "      <td>232591.0</td>\n",
       "      <td>239104.0</td>\n",
       "      <td>245993.0</td>\n",
       "    </tr>\n",
       "  </tbody>\n",
       "</table>\n",
       "</div>"
      ],
      "text/plain": [
       "    municipality      2009      2010      2011      2012      2013      2014  \\\n",
       "0    Hele landet  179308.0  195011.0  199057.0  204037.0  209655.0  214009.0   \n",
       "2      København  171951.0  184281.0  189182.0  192990.0  198131.0  204008.0   \n",
       "3  Frederiksberg  199731.0  219475.0  224754.0  230908.0  238371.0  245712.0   \n",
       "4         Dragør  217104.0  242929.0  261933.0  264648.0  270354.0  279821.0   \n",
       "5         Tårnby  189340.0  203459.0  209500.0  212671.0  217423.0  222582.0   \n",
       "\n",
       "       2015      2016      2017      2018  \n",
       "0  220185.0  223438.0  229875.0  235312.0  \n",
       "2  209991.0  215215.0  220945.0  228338.0  \n",
       "3  252988.0  258624.0  267820.0  276683.0  \n",
       "4  289465.0  295922.0  303980.0  311793.0  \n",
       "5  227877.0  232591.0  239104.0  245993.0  "
      ]
     },
     "execution_count": 6,
     "metadata": {},
     "output_type": "execute_result"
    }
   ],
   "source": [
    "empl = dataproject.only_keep_municipalities(empl)\n",
    "empl.head()"
   ]
  },
  {
   "cell_type": "markdown",
   "metadata": {},
   "source": [
    "**Convert the dataset to long format**:"
   ]
  },
  {
   "cell_type": "code",
   "execution_count": 7,
   "metadata": {},
   "outputs": [
    {
     "data": {
      "text/html": [
       "<div>\n",
       "<style scoped>\n",
       "    .dataframe tbody tr th:only-of-type {\n",
       "        vertical-align: middle;\n",
       "    }\n",
       "\n",
       "    .dataframe tbody tr th {\n",
       "        vertical-align: top;\n",
       "    }\n",
       "\n",
       "    .dataframe thead th {\n",
       "        text-align: right;\n",
       "    }\n",
       "</style>\n",
       "<table border=\"1\" class=\"dataframe\">\n",
       "  <thead>\n",
       "    <tr style=\"text-align: right;\">\n",
       "      <th></th>\n",
       "      <th>municipality</th>\n",
       "      <th>year</th>\n",
       "      <th>2018</th>\n",
       "      <th>employment</th>\n",
       "    </tr>\n",
       "  </thead>\n",
       "  <tbody>\n",
       "    <tr>\n",
       "      <td>0</td>\n",
       "      <td>Hele landet</td>\n",
       "      <td>2009</td>\n",
       "      <td>235312.0</td>\n",
       "      <td>179308.0</td>\n",
       "    </tr>\n",
       "    <tr>\n",
       "      <td>1</td>\n",
       "      <td>København</td>\n",
       "      <td>2009</td>\n",
       "      <td>228338.0</td>\n",
       "      <td>171951.0</td>\n",
       "    </tr>\n",
       "    <tr>\n",
       "      <td>2</td>\n",
       "      <td>Frederiksberg</td>\n",
       "      <td>2009</td>\n",
       "      <td>276683.0</td>\n",
       "      <td>199731.0</td>\n",
       "    </tr>\n",
       "    <tr>\n",
       "      <td>3</td>\n",
       "      <td>Dragør</td>\n",
       "      <td>2009</td>\n",
       "      <td>311793.0</td>\n",
       "      <td>217104.0</td>\n",
       "    </tr>\n",
       "    <tr>\n",
       "      <td>4</td>\n",
       "      <td>Tårnby</td>\n",
       "      <td>2009</td>\n",
       "      <td>245993.0</td>\n",
       "      <td>189340.0</td>\n",
       "    </tr>\n",
       "  </tbody>\n",
       "</table>\n",
       "</div>"
      ],
      "text/plain": [
       "    municipality  year      2018  employment\n",
       "0    Hele landet  2009  235312.0    179308.0\n",
       "1      København  2009  228338.0    171951.0\n",
       "2  Frederiksberg  2009  276683.0    199731.0\n",
       "3         Dragør  2009  311793.0    217104.0\n",
       "4         Tårnby  2009  245993.0    189340.0"
      ]
     },
     "execution_count": 7,
     "metadata": {},
     "output_type": "execute_result"
    }
   ],
   "source": [
    "# a. rename year columns\n",
    "mydict = {str(i):f'employment{i}' for i in range(2008,2018)}\n",
    "empl.rename(columns = mydict, inplace=True)\n",
    "\n",
    "# b. convert to long\n",
    "empl_long = pd.wide_to_long(empl, stubnames='employment', i='municipality', j='year').reset_index()\n",
    "\n",
    "# c. show\n",
    "empl_long.head()"
   ]
  },
  {
   "cell_type": "markdown",
   "metadata": {},
   "source": [
    "## Income data"
   ]
  },
  {
   "cell_type": "markdown",
   "metadata": {},
   "source": [
    "**Read the income data** in ``INDKP101.xlsx`` and **clean it**:"
   ]
  },
  {
   "cell_type": "code",
   "execution_count": 8,
   "metadata": {},
   "outputs": [
    {
     "data": {
      "text/html": [
       "<div>\n",
       "<style scoped>\n",
       "    .dataframe tbody tr th:only-of-type {\n",
       "        vertical-align: middle;\n",
       "    }\n",
       "\n",
       "    .dataframe tbody tr th {\n",
       "        vertical-align: top;\n",
       "    }\n",
       "\n",
       "    .dataframe thead th {\n",
       "        text-align: right;\n",
       "    }\n",
       "</style>\n",
       "<table border=\"1\" class=\"dataframe\">\n",
       "  <thead>\n",
       "    <tr style=\"text-align: right;\">\n",
       "      <th></th>\n",
       "      <th>municipality</th>\n",
       "      <th>year</th>\n",
       "      <th>income</th>\n",
       "    </tr>\n",
       "  </thead>\n",
       "  <tbody>\n",
       "    <tr>\n",
       "      <td>0</td>\n",
       "      <td>Copenhagen</td>\n",
       "      <td>1987</td>\n",
       "      <td>75356</td>\n",
       "    </tr>\n",
       "    <tr>\n",
       "      <td>1</td>\n",
       "      <td>Frederiksberg</td>\n",
       "      <td>1987</td>\n",
       "      <td>85428</td>\n",
       "    </tr>\n",
       "    <tr>\n",
       "      <td>2</td>\n",
       "      <td>Dragør</td>\n",
       "      <td>1987</td>\n",
       "      <td>97966</td>\n",
       "    </tr>\n",
       "    <tr>\n",
       "      <td>3</td>\n",
       "      <td>Tårnby</td>\n",
       "      <td>1987</td>\n",
       "      <td>87598</td>\n",
       "    </tr>\n",
       "    <tr>\n",
       "      <td>4</td>\n",
       "      <td>Albertslund</td>\n",
       "      <td>1987</td>\n",
       "      <td>83540</td>\n",
       "    </tr>\n",
       "  </tbody>\n",
       "</table>\n",
       "</div>"
      ],
      "text/plain": [
       "    municipality  year  income\n",
       "0     Copenhagen  1987   75356\n",
       "1  Frederiksberg  1987   85428\n",
       "2         Dragør  1987   97966\n",
       "3         Tårnby  1987   87598\n",
       "4    Albertslund  1987   83540"
      ]
     },
     "execution_count": 8,
     "metadata": {},
     "output_type": "execute_result"
    }
   ],
   "source": [
    "# a. load\n",
    "inc = pd.read_excel('INDKP101.xlsx', skiprows=2)\n",
    "\n",
    "# b. drop and rename columns\n",
    "inc.drop([f'Unnamed: {i}' for i in range(3)], axis=1, inplace=True)\n",
    "inc.rename(columns = {'Unnamed: 3':'municipality'}, inplace=True)\n",
    "\n",
    "# c. drop rows with missing\n",
    "inc.dropna(inplace=True)\n",
    "\n",
    "# d. remove non-municipalities\n",
    "inc = dataproject.only_keep_municipalities(inc)\n",
    "\n",
    "# e. convert to long\n",
    "inc.rename(columns = {str(i):f'income{i}' for i in range(1986,2018)}, inplace=True)\n",
    "inc_long = pd.wide_to_long(inc, stubnames='income', i='municipality', j='year').reset_index()\n",
    "\n",
    "# f. show\n",
    "inc_long.head(5)"
   ]
  },
  {
   "cell_type": "markdown",
   "metadata": {},
   "source": [
    "> **Note:** The function ``dataproject.only_keep_municipalities()`` is used on both the employment and the income datasets."
   ]
  },
  {
   "cell_type": "markdown",
   "metadata": {},
   "source": [
    "## Explore data set"
   ]
  },
  {
   "cell_type": "markdown",
   "metadata": {},
   "source": [
    "In order to be able to **explore the raw data**, we here provide an **interactive plot** to show, respectively, the employment and income level in each municipality"
   ]
  },
  {
   "cell_type": "markdown",
   "metadata": {},
   "source": [
    "The **static plot** is:"
   ]
  },
  {
   "cell_type": "code",
   "execution_count": 9,
   "metadata": {},
   "outputs": [],
   "source": [
    "def plot_empl_inc(empl,inc,dataset,municipality): \n",
    "    \n",
    "    if dataset == 'Employment':\n",
    "        df = empl\n",
    "        y = 'employment'\n",
    "    else:\n",
    "        df = inc\n",
    "        y = 'income'\n",
    "    \n",
    "    I = df['municipality'] == municipality\n",
    "    ax = df.loc[I,:].plot(x='year', y=y, style='-o')"
   ]
  },
  {
   "cell_type": "markdown",
   "metadata": {},
   "source": [
    "The **interactive plot** is:"
   ]
  },
  {
   "cell_type": "code",
   "execution_count": 10,
   "metadata": {},
   "outputs": [
    {
     "data": {
      "application/vnd.jupyter.widget-view+json": {
       "model_id": "9e6f39ff18174326b5df8160c97484ea",
       "version_major": 2,
       "version_minor": 0
      },
      "text/plain": [
       "interactive(children=(Dropdown(description='Dataset', options=('Employment', 'Income'), value='Employment'), D…"
      ]
     },
     "metadata": {},
     "output_type": "display_data"
    }
   ],
   "source": [
    "widgets.interact(plot_empl_inc, \n",
    "    \n",
    "    empl = widgets.fixed(empl_long),\n",
    "    inc = widgets.fixed(inc_long),\n",
    "    dataset = widgets.Dropdown(description='Dataset', \n",
    "                               options=['Employment','Income']),\n",
    "    municipality = widgets.Dropdown(description='Municipality', \n",
    "                                    options=empl_long.municipality.unique())\n",
    "                 \n",
    "); "
   ]
  },
  {
   "cell_type": "markdown",
   "metadata": {},
   "source": [
    "ADD SOMETHING HERE IF THE READER SHOULD KNOW THAT E.G. SOME MUNICIPALITY IS SPECIAL."
   ]
  },
  {
   "cell_type": "markdown",
   "metadata": {},
   "source": [
    "# Merge data sets"
   ]
  },
  {
   "cell_type": "markdown",
   "metadata": {},
   "source": [
    "We now create a data set with **municpalities which are in both of our data sets**. We can illustrate this **merge** as:"
   ]
  },
  {
   "cell_type": "code",
   "execution_count": 11,
   "metadata": {},
   "outputs": [
    {
     "data": {
      "image/png": "[encoded data removed]",
      "text/plain": [
       "<Figure size 1080x504 with 1 Axes>"
      ]
     },
     "metadata": {},
     "output_type": "display_data"
    }
   ],
   "source": [
    "plt.figure(figsize=(15,7))\n",
    "v = venn2(subsets = (4, 4, 10), set_labels = ('inc', 'empl'))\n",
    "v.get_label_by_id('100').set_text('dropped')\n",
    "v.get_label_by_id('010').set_text('dropped' )\n",
    "v.get_label_by_id('110').set_text('included')\n",
    "plt.show()"
   ]
  },
  {
   "cell_type": "code",
   "execution_count": 12,
   "metadata": {},
   "outputs": [
    {
     "name": "stdout",
     "output_type": "stream",
     "text": [
      "Number of municipalities = 97\n",
      "Number of years          = 9\n"
     ]
    }
   ],
   "source": [
    "merged = pd.merge(empl_long, inc_long, how='inner',on=['municipality','year'])\n",
    "\n",
    "print(f'Number of municipalities = {len(merged.municipality.unique())}')\n",
    "print(f'Number of years          = {len(merged.year.unique())}')"
   ]
  },
  {
   "cell_type": "markdown",
   "metadata": {},
   "source": [
    "# Analysis"
   ]
  },
  {
   "cell_type": "markdown",
   "metadata": {},
   "source": [
    "To get a quick overview of the data, we show some **summary statistics by year**:"
   ]
  },
  {
   "cell_type": "code",
   "execution_count": 13,
   "metadata": {},
   "outputs": [
    {
     "data": {
      "text/html": [
       "<div>\n",
       "<style scoped>\n",
       "    .dataframe tbody tr th:only-of-type {\n",
       "        vertical-align: middle;\n",
       "    }\n",
       "\n",
       "    .dataframe tbody tr th {\n",
       "        vertical-align: top;\n",
       "    }\n",
       "\n",
       "    .dataframe thead tr th {\n",
       "        text-align: left;\n",
       "    }\n",
       "\n",
       "    .dataframe thead tr:last-of-type th {\n",
       "        text-align: right;\n",
       "    }\n",
       "</style>\n",
       "<table border=\"1\" class=\"dataframe\">\n",
       "  <thead>\n",
       "    <tr>\n",
       "      <th></th>\n",
       "      <th colspan=\"2\" halign=\"left\">2018</th>\n",
       "      <th colspan=\"2\" halign=\"left\">employment</th>\n",
       "      <th colspan=\"2\" halign=\"left\">income</th>\n",
       "    </tr>\n",
       "    <tr>\n",
       "      <th></th>\n",
       "      <th>mean</th>\n",
       "      <th>std</th>\n",
       "      <th>mean</th>\n",
       "      <th>std</th>\n",
       "      <th>mean</th>\n",
       "      <th>std</th>\n",
       "    </tr>\n",
       "    <tr>\n",
       "      <th>year</th>\n",
       "      <th></th>\n",
       "      <th></th>\n",
       "      <th></th>\n",
       "      <th></th>\n",
       "      <th></th>\n",
       "      <th></th>\n",
       "    </tr>\n",
       "  </thead>\n",
       "  <tbody>\n",
       "    <tr>\n",
       "      <td>2009</td>\n",
       "      <td>236222.63</td>\n",
       "      <td>39663.39</td>\n",
       "      <td>180608.43</td>\n",
       "      <td>20964.02</td>\n",
       "      <td>180608.43</td>\n",
       "      <td>20964.02</td>\n",
       "    </tr>\n",
       "    <tr>\n",
       "      <td>2010</td>\n",
       "      <td>236222.63</td>\n",
       "      <td>39663.39</td>\n",
       "      <td>196774.35</td>\n",
       "      <td>27564.44</td>\n",
       "      <td>196774.35</td>\n",
       "      <td>27564.44</td>\n",
       "    </tr>\n",
       "    <tr>\n",
       "      <td>2011</td>\n",
       "      <td>236222.63</td>\n",
       "      <td>39663.39</td>\n",
       "      <td>201009.05</td>\n",
       "      <td>29515.27</td>\n",
       "      <td>201009.05</td>\n",
       "      <td>29515.27</td>\n",
       "    </tr>\n",
       "    <tr>\n",
       "      <td>2012</td>\n",
       "      <td>236222.63</td>\n",
       "      <td>39663.39</td>\n",
       "      <td>206233.09</td>\n",
       "      <td>30858.23</td>\n",
       "      <td>206233.09</td>\n",
       "      <td>30858.23</td>\n",
       "    </tr>\n",
       "    <tr>\n",
       "      <td>2013</td>\n",
       "      <td>236222.63</td>\n",
       "      <td>39663.39</td>\n",
       "      <td>211834.79</td>\n",
       "      <td>32646.30</td>\n",
       "      <td>211834.79</td>\n",
       "      <td>32646.30</td>\n",
       "    </tr>\n",
       "    <tr>\n",
       "      <td>2014</td>\n",
       "      <td>236222.63</td>\n",
       "      <td>39663.39</td>\n",
       "      <td>215994.95</td>\n",
       "      <td>34979.00</td>\n",
       "      <td>215994.95</td>\n",
       "      <td>34979.00</td>\n",
       "    </tr>\n",
       "    <tr>\n",
       "      <td>2015</td>\n",
       "      <td>236222.63</td>\n",
       "      <td>39663.39</td>\n",
       "      <td>221655.21</td>\n",
       "      <td>38599.22</td>\n",
       "      <td>221655.21</td>\n",
       "      <td>38599.22</td>\n",
       "    </tr>\n",
       "    <tr>\n",
       "      <td>2016</td>\n",
       "      <td>236222.63</td>\n",
       "      <td>39663.39</td>\n",
       "      <td>224874.22</td>\n",
       "      <td>38619.29</td>\n",
       "      <td>224874.22</td>\n",
       "      <td>38619.29</td>\n",
       "    </tr>\n",
       "    <tr>\n",
       "      <td>2017</td>\n",
       "      <td>236222.63</td>\n",
       "      <td>39663.39</td>\n",
       "      <td>231336.21</td>\n",
       "      <td>39296.17</td>\n",
       "      <td>231336.21</td>\n",
       "      <td>39296.17</td>\n",
       "    </tr>\n",
       "  </tbody>\n",
       "</table>\n",
       "</div>"
      ],
      "text/plain": [
       "           2018           employment               income          \n",
       "           mean       std       mean       std       mean       std\n",
       "year                                                               \n",
       "2009  236222.63  39663.39  180608.43  20964.02  180608.43  20964.02\n",
       "2010  236222.63  39663.39  196774.35  27564.44  196774.35  27564.44\n",
       "2011  236222.63  39663.39  201009.05  29515.27  201009.05  29515.27\n",
       "2012  236222.63  39663.39  206233.09  30858.23  206233.09  30858.23\n",
       "2013  236222.63  39663.39  211834.79  32646.30  211834.79  32646.30\n",
       "2014  236222.63  39663.39  215994.95  34979.00  215994.95  34979.00\n",
       "2015  236222.63  39663.39  221655.21  38599.22  221655.21  38599.22\n",
       "2016  236222.63  39663.39  224874.22  38619.29  224874.22  38619.29\n",
       "2017  236222.63  39663.39  231336.21  39296.17  231336.21  39296.17"
      ]
     },
     "execution_count": 13,
     "metadata": {},
     "output_type": "execute_result"
    }
   ],
   "source": [
    "merged.groupby('year').agg(['mean','std']).round(2)"
   ]
  },
  {
   "cell_type": "markdown",
   "metadata": {},
   "source": [
    "ADD FURTHER ANALYSIS. EXPLAIN THE CODE BRIEFLY AND SUMMARIZE THE RESULTS."
   ]
  },
  {
   "cell_type": "markdown",
   "metadata": {},
   "source": [
    "# Conclusion"
   ]
  },
  {
   "cell_type": "markdown",
   "metadata": {},
   "source": [
    "ADD CONCISE CONLUSION."
   ]
  }
 ],
 "metadata": {
  "kernelspec": {
   "display_name": "Python 3",
   "language": "python",
   "name": "python3"
  },
  "language_info": {
   "codemirror_mode": {
    "name": "ipython",
    "version": 3
   },
   "file_extension": ".py",
   "mimetype": "text/x-python",
   "name": "python",
   "nbconvert_exporter": "python",
   "pygments_lexer": "ipython3",
   "version": "3.7.4"
  },
  "toc-autonumbering": true
 },
 "nbformat": 4,
 "nbformat_minor": 4
}
