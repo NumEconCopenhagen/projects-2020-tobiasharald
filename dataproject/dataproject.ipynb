{
 "cells": [
  {
   "cell_type": "markdown",
   "metadata": {},
   "source": [
    "# YOUR PROJECT TITLE"
   ]
  },
  {
   "cell_type": "markdown",
   "metadata": {},
   "source": [
    "> **Note the following:** \n",
    "> 1. This is *not* meant to be an example of an actual **data analysis project**, just an example of how to structure such a project.\n",
    "> 1. Remember the general advice on structuring and commenting your code from [lecture 5](https://numeconcopenhagen.netlify.com/lectures/Workflow_and_debugging).\n",
    "> 1. Remember this [guide](https://www.markdownguide.org/basic-syntax/) on markdown and (a bit of) latex.\n",
    "> 1. Turn on automatic numbering by clicking on the small icon on top of the table of contents in the left sidebar.\n",
    "> 1. The `dataproject.py` file includes a function which will be used multiple times in this notebook."
   ]
  },
  {
   "cell_type": "markdown",
   "metadata": {},
   "source": [
    "Imports and set magics:"
   ]
  },
  {
   "cell_type": "code",
   "execution_count": 1,
   "metadata": {},
   "outputs": [],
   "source": [
    "import pandas as pd\n",
    "import matplotlib.pyplot as plt\n",
    "import ipywidgets as widgets\n",
    "from matplotlib_venn import venn2 # install with pip install matplotlib-venn\n",
    "\n",
    "# autoreload modules when code is run\n",
    "%load_ext autoreload\n",
    "%autoreload 2\n",
    "\n",
    "# local modules\n",
    "import dataproject"
   ]
  },
  {
   "cell_type": "markdown",
   "metadata": {},
   "source": []
  },
  {
   "cell_type": "markdown",
   "metadata": {
    "toc-hr-collapsed": true
   },
   "source": [
    "# Read and clean data"
   ]
  },
  {
   "cell_type": "markdown",
   "metadata": {},
   "source": [
    "## Wage"
   ]
  },
  {
   "cell_type": "markdown",
   "metadata": {},
   "source": [
    "**Read the Lonniveau data** in ``LIGELB1.xlsx`` and **clean it** removing and renaming columns:"
   ]
  },
  {
   "cell_type": "code",
   "execution_count": 2,
   "metadata": {},
   "outputs": [],
   "source": [
    "# a. load\n",
    "wage = pd.read_excel('LIGELB1.xlsx', skiprows=2)\n",
    "\n",
    "# b. drop columns\n",
    "drop_these = ['Unnamed: 0', 'Unnamed: 1', 'Unnamed: 2', 'Unnamed: 3']\n",
    "wage.drop(drop_these, axis=1, inplace=True)\n",
    "\n",
    "# c. rename columns\n",
    "wage.rename(columns = {'Unnamed: 4':'municipality'}, inplace=True)"
   ]
  },
  {
   "cell_type": "markdown",
   "metadata": {},
   "source": [
    "The dataset now looks like this:"
   ]
  },
  {
   "cell_type": "code",
   "execution_count": 3,
   "metadata": {},
   "outputs": [
    {
     "data": {
      "text/html": [
       "<div>\n",
       "<style scoped>\n",
       "    .dataframe tbody tr th:only-of-type {\n",
       "        vertical-align: middle;\n",
       "    }\n",
       "\n",
       "    .dataframe tbody tr th {\n",
       "        vertical-align: top;\n",
       "    }\n",
       "\n",
       "    .dataframe thead th {\n",
       "        text-align: right;\n",
       "    }\n",
       "</style>\n",
       "<table border=\"1\" class=\"dataframe\">\n",
       "  <thead>\n",
       "    <tr style=\"text-align: right;\">\n",
       "      <th></th>\n",
       "      <th>municipality</th>\n",
       "      <th>2009</th>\n",
       "      <th>2010</th>\n",
       "      <th>2011</th>\n",
       "      <th>2012</th>\n",
       "      <th>2013</th>\n",
       "      <th>2014</th>\n",
       "      <th>2015</th>\n",
       "      <th>2016</th>\n",
       "      <th>2017</th>\n",
       "      <th>2018</th>\n",
       "    </tr>\n",
       "  </thead>\n",
       "  <tbody>\n",
       "    <tr>\n",
       "      <td>0</td>\n",
       "      <td>Hele landet</td>\n",
       "      <td>35734</td>\n",
       "      <td>36941</td>\n",
       "      <td>37527</td>\n",
       "      <td>38290</td>\n",
       "      <td>38708</td>\n",
       "      <td>39111</td>\n",
       "      <td>39763</td>\n",
       "      <td>40291</td>\n",
       "      <td>41144</td>\n",
       "      <td>41931</td>\n",
       "    </tr>\n",
       "    <tr>\n",
       "      <td>1</td>\n",
       "      <td>København</td>\n",
       "      <td>36607</td>\n",
       "      <td>37836</td>\n",
       "      <td>38595</td>\n",
       "      <td>39302</td>\n",
       "      <td>39863</td>\n",
       "      <td>40339</td>\n",
       "      <td>41190</td>\n",
       "      <td>41740</td>\n",
       "      <td>42894</td>\n",
       "      <td>43953</td>\n",
       "    </tr>\n",
       "    <tr>\n",
       "      <td>2</td>\n",
       "      <td>Frederiksberg</td>\n",
       "      <td>41119</td>\n",
       "      <td>42816</td>\n",
       "      <td>43450</td>\n",
       "      <td>44220</td>\n",
       "      <td>44873</td>\n",
       "      <td>45424</td>\n",
       "      <td>46297</td>\n",
       "      <td>47182</td>\n",
       "      <td>48321</td>\n",
       "      <td>49563</td>\n",
       "    </tr>\n",
       "    <tr>\n",
       "      <td>3</td>\n",
       "      <td>Dragør</td>\n",
       "      <td>43215</td>\n",
       "      <td>44832</td>\n",
       "      <td>46357</td>\n",
       "      <td>47181</td>\n",
       "      <td>47302</td>\n",
       "      <td>47961</td>\n",
       "      <td>49333</td>\n",
       "      <td>50410</td>\n",
       "      <td>51451</td>\n",
       "      <td>52807</td>\n",
       "    </tr>\n",
       "    <tr>\n",
       "      <td>4</td>\n",
       "      <td>Tårnby</td>\n",
       "      <td>36147</td>\n",
       "      <td>36811</td>\n",
       "      <td>38133</td>\n",
       "      <td>38332</td>\n",
       "      <td>38815</td>\n",
       "      <td>39284</td>\n",
       "      <td>39946</td>\n",
       "      <td>40575</td>\n",
       "      <td>41559</td>\n",
       "      <td>42664</td>\n",
       "    </tr>\n",
       "  </tbody>\n",
       "</table>\n",
       "</div>"
      ],
      "text/plain": [
       "    municipality   2009   2010   2011   2012   2013   2014   2015   2016  \\\n",
       "0    Hele landet  35734  36941  37527  38290  38708  39111  39763  40291   \n",
       "1      København  36607  37836  38595  39302  39863  40339  41190  41740   \n",
       "2  Frederiksberg  41119  42816  43450  44220  44873  45424  46297  47182   \n",
       "3         Dragør  43215  44832  46357  47181  47302  47961  49333  50410   \n",
       "4         Tårnby  36147  36811  38133  38332  38815  39284  39946  40575   \n",
       "\n",
       "    2017   2018  \n",
       "0  41144  41931  \n",
       "1  42894  43953  \n",
       "2  48321  49563  \n",
       "3  51451  52807  \n",
       "4  41559  42664  "
      ]
     },
     "execution_count": 3,
     "metadata": {},
     "output_type": "execute_result"
    }
   ],
   "source": [
    "wage.head()"
   ]
  },
  {
   "cell_type": "markdown",
   "metadata": {},
   "source": [
    "**Remove all rows which are not municipalities**:"
   ]
  },
  {
   "cell_type": "code",
   "execution_count": 4,
   "metadata": {},
   "outputs": [
    {
     "data": {
      "text/html": [
       "<div>\n",
       "<style scoped>\n",
       "    .dataframe tbody tr th:only-of-type {\n",
       "        vertical-align: middle;\n",
       "    }\n",
       "\n",
       "    .dataframe tbody tr th {\n",
       "        vertical-align: top;\n",
       "    }\n",
       "\n",
       "    .dataframe thead th {\n",
       "        text-align: right;\n",
       "    }\n",
       "</style>\n",
       "<table border=\"1\" class=\"dataframe\">\n",
       "  <thead>\n",
       "    <tr style=\"text-align: right;\">\n",
       "      <th></th>\n",
       "      <th>municipality</th>\n",
       "      <th>2009</th>\n",
       "      <th>2010</th>\n",
       "      <th>2011</th>\n",
       "      <th>2012</th>\n",
       "      <th>2013</th>\n",
       "      <th>2014</th>\n",
       "      <th>2015</th>\n",
       "      <th>2016</th>\n",
       "      <th>2017</th>\n",
       "      <th>2018</th>\n",
       "    </tr>\n",
       "  </thead>\n",
       "  <tbody>\n",
       "    <tr>\n",
       "      <td>0</td>\n",
       "      <td>Hele landet</td>\n",
       "      <td>35734</td>\n",
       "      <td>36941</td>\n",
       "      <td>37527</td>\n",
       "      <td>38290</td>\n",
       "      <td>38708</td>\n",
       "      <td>39111</td>\n",
       "      <td>39763</td>\n",
       "      <td>40291</td>\n",
       "      <td>41144</td>\n",
       "      <td>41931</td>\n",
       "    </tr>\n",
       "    <tr>\n",
       "      <td>1</td>\n",
       "      <td>København</td>\n",
       "      <td>36607</td>\n",
       "      <td>37836</td>\n",
       "      <td>38595</td>\n",
       "      <td>39302</td>\n",
       "      <td>39863</td>\n",
       "      <td>40339</td>\n",
       "      <td>41190</td>\n",
       "      <td>41740</td>\n",
       "      <td>42894</td>\n",
       "      <td>43953</td>\n",
       "    </tr>\n",
       "    <tr>\n",
       "      <td>2</td>\n",
       "      <td>Frederiksberg</td>\n",
       "      <td>41119</td>\n",
       "      <td>42816</td>\n",
       "      <td>43450</td>\n",
       "      <td>44220</td>\n",
       "      <td>44873</td>\n",
       "      <td>45424</td>\n",
       "      <td>46297</td>\n",
       "      <td>47182</td>\n",
       "      <td>48321</td>\n",
       "      <td>49563</td>\n",
       "    </tr>\n",
       "    <tr>\n",
       "      <td>3</td>\n",
       "      <td>Dragør</td>\n",
       "      <td>43215</td>\n",
       "      <td>44832</td>\n",
       "      <td>46357</td>\n",
       "      <td>47181</td>\n",
       "      <td>47302</td>\n",
       "      <td>47961</td>\n",
       "      <td>49333</td>\n",
       "      <td>50410</td>\n",
       "      <td>51451</td>\n",
       "      <td>52807</td>\n",
       "    </tr>\n",
       "    <tr>\n",
       "      <td>4</td>\n",
       "      <td>Tårnby</td>\n",
       "      <td>36147</td>\n",
       "      <td>36811</td>\n",
       "      <td>38133</td>\n",
       "      <td>38332</td>\n",
       "      <td>38815</td>\n",
       "      <td>39284</td>\n",
       "      <td>39946</td>\n",
       "      <td>40575</td>\n",
       "      <td>41559</td>\n",
       "      <td>42664</td>\n",
       "    </tr>\n",
       "  </tbody>\n",
       "</table>\n",
       "</div>"
      ],
      "text/plain": [
       "    municipality   2009   2010   2011   2012   2013   2014   2015   2016  \\\n",
       "0    Hele landet  35734  36941  37527  38290  38708  39111  39763  40291   \n",
       "1      København  36607  37836  38595  39302  39863  40339  41190  41740   \n",
       "2  Frederiksberg  41119  42816  43450  44220  44873  45424  46297  47182   \n",
       "3         Dragør  43215  44832  46357  47181  47302  47961  49333  50410   \n",
       "4         Tårnby  36147  36811  38133  38332  38815  39284  39946  40575   \n",
       "\n",
       "    2017   2018  \n",
       "0  41144  41931  \n",
       "1  42894  43953  \n",
       "2  48321  49563  \n",
       "3  51451  52807  \n",
       "4  41559  42664  "
      ]
     },
     "execution_count": 4,
     "metadata": {},
     "output_type": "execute_result"
    }
   ],
   "source": [
    "wage = dataproject.only_keep_municipalities(wage)\n",
    "wage.head()"
   ]
  },
  {
   "cell_type": "markdown",
   "metadata": {},
   "source": [
    "**Convert the dataset to long format**:"
   ]
  },
  {
   "cell_type": "code",
   "execution_count": 5,
   "metadata": {},
   "outputs": [
    {
     "data": {
      "text/html": [
       "<div>\n",
       "<style scoped>\n",
       "    .dataframe tbody tr th:only-of-type {\n",
       "        vertical-align: middle;\n",
       "    }\n",
       "\n",
       "    .dataframe tbody tr th {\n",
       "        vertical-align: top;\n",
       "    }\n",
       "\n",
       "    .dataframe thead th {\n",
       "        text-align: right;\n",
       "    }\n",
       "</style>\n",
       "<table border=\"1\" class=\"dataframe\">\n",
       "  <thead>\n",
       "    <tr style=\"text-align: right;\">\n",
       "      <th></th>\n",
       "      <th>municipality</th>\n",
       "      <th>year</th>\n",
       "      <th>wage</th>\n",
       "    </tr>\n",
       "  </thead>\n",
       "  <tbody>\n",
       "    <tr>\n",
       "      <td>0</td>\n",
       "      <td>Hele landet</td>\n",
       "      <td>2009</td>\n",
       "      <td>35734</td>\n",
       "    </tr>\n",
       "    <tr>\n",
       "      <td>1</td>\n",
       "      <td>København</td>\n",
       "      <td>2009</td>\n",
       "      <td>36607</td>\n",
       "    </tr>\n",
       "    <tr>\n",
       "      <td>2</td>\n",
       "      <td>Frederiksberg</td>\n",
       "      <td>2009</td>\n",
       "      <td>41119</td>\n",
       "    </tr>\n",
       "    <tr>\n",
       "      <td>3</td>\n",
       "      <td>Dragør</td>\n",
       "      <td>2009</td>\n",
       "      <td>43215</td>\n",
       "    </tr>\n",
       "    <tr>\n",
       "      <td>4</td>\n",
       "      <td>Tårnby</td>\n",
       "      <td>2009</td>\n",
       "      <td>36147</td>\n",
       "    </tr>\n",
       "  </tbody>\n",
       "</table>\n",
       "</div>"
      ],
      "text/plain": [
       "    municipality  year   wage\n",
       "0    Hele landet  2009  35734\n",
       "1      København  2009  36607\n",
       "2  Frederiksberg  2009  41119\n",
       "3         Dragør  2009  43215\n",
       "4         Tårnby  2009  36147"
      ]
     },
     "execution_count": 5,
     "metadata": {},
     "output_type": "execute_result"
    }
   ],
   "source": [
    "# a. rename year columns\n",
    "mydict = {str(i):f'wage{i}' for i in range(2009,2019)}\n",
    "wage.rename(columns = mydict, inplace=True)\n",
    "\n",
    "# b. convert to long\n",
    "wage_long = pd.wide_to_long(wage, stubnames='wage', i='municipality', j='year').reset_index()\n",
    "\n",
    "# c. show\n",
    "wage_long.head()"
   ]
  },
  {
   "cell_type": "markdown",
   "metadata": {},
   "source": [
    "## Gini"
   ]
  },
  {
   "cell_type": "code",
   "execution_count": 6,
   "metadata": {},
   "outputs": [],
   "source": [
    "# a. load\n",
    "gini = pd.read_excel('IFOR41.xlsx', skiprows=2)\n",
    "\n",
    "# b. drop columns\n",
    "drop_these = ['Unnamed: 0']\n",
    "gini.drop(drop_these, axis=1, inplace=True)\n",
    "\n",
    "# c. rename columns\n",
    "gini.rename(columns = {'Unnamed: 1':'municipality'}, inplace=True)"
   ]
  },
  {
   "cell_type": "code",
   "execution_count": 7,
   "metadata": {},
   "outputs": [
    {
     "data": {
      "text/html": [
       "<div>\n",
       "<style scoped>\n",
       "    .dataframe tbody tr th:only-of-type {\n",
       "        vertical-align: middle;\n",
       "    }\n",
       "\n",
       "    .dataframe tbody tr th {\n",
       "        vertical-align: top;\n",
       "    }\n",
       "\n",
       "    .dataframe thead th {\n",
       "        text-align: right;\n",
       "    }\n",
       "</style>\n",
       "<table border=\"1\" class=\"dataframe\">\n",
       "  <thead>\n",
       "    <tr style=\"text-align: right;\">\n",
       "      <th></th>\n",
       "      <th>municipality</th>\n",
       "      <th>2009</th>\n",
       "      <th>2010</th>\n",
       "      <th>2011</th>\n",
       "      <th>2012</th>\n",
       "      <th>2013</th>\n",
       "      <th>2014</th>\n",
       "      <th>2015</th>\n",
       "      <th>2016</th>\n",
       "      <th>2017</th>\n",
       "      <th>2018</th>\n",
       "    </tr>\n",
       "  </thead>\n",
       "  <tbody>\n",
       "    <tr>\n",
       "      <td>0</td>\n",
       "      <td>Hele landet</td>\n",
       "      <td>26.74</td>\n",
       "      <td>27.47</td>\n",
       "      <td>27.68</td>\n",
       "      <td>27.37</td>\n",
       "      <td>27.88</td>\n",
       "      <td>28.33</td>\n",
       "      <td>28.77</td>\n",
       "      <td>28.97</td>\n",
       "      <td>29.32</td>\n",
       "      <td>29.10</td>\n",
       "    </tr>\n",
       "    <tr>\n",
       "      <td>1</td>\n",
       "      <td>København</td>\n",
       "      <td>29.38</td>\n",
       "      <td>31.44</td>\n",
       "      <td>31.38</td>\n",
       "      <td>31.25</td>\n",
       "      <td>31.86</td>\n",
       "      <td>32.13</td>\n",
       "      <td>32.70</td>\n",
       "      <td>33.24</td>\n",
       "      <td>33.65</td>\n",
       "      <td>33.71</td>\n",
       "    </tr>\n",
       "    <tr>\n",
       "      <td>2</td>\n",
       "      <td>Frederiksberg</td>\n",
       "      <td>30.33</td>\n",
       "      <td>32.93</td>\n",
       "      <td>33.22</td>\n",
       "      <td>33.53</td>\n",
       "      <td>33.92</td>\n",
       "      <td>34.98</td>\n",
       "      <td>34.37</td>\n",
       "      <td>34.85</td>\n",
       "      <td>35.71</td>\n",
       "      <td>35.42</td>\n",
       "    </tr>\n",
       "    <tr>\n",
       "      <td>3</td>\n",
       "      <td>Dragør</td>\n",
       "      <td>26.25</td>\n",
       "      <td>26.93</td>\n",
       "      <td>28.86</td>\n",
       "      <td>25.95</td>\n",
       "      <td>26.75</td>\n",
       "      <td>27.03</td>\n",
       "      <td>27.40</td>\n",
       "      <td>28.08</td>\n",
       "      <td>27.88</td>\n",
       "      <td>27.55</td>\n",
       "    </tr>\n",
       "    <tr>\n",
       "      <td>4</td>\n",
       "      <td>Tårnby</td>\n",
       "      <td>21.40</td>\n",
       "      <td>22.80</td>\n",
       "      <td>23.42</td>\n",
       "      <td>22.77</td>\n",
       "      <td>22.86</td>\n",
       "      <td>22.89</td>\n",
       "      <td>23.32</td>\n",
       "      <td>23.66</td>\n",
       "      <td>23.95</td>\n",
       "      <td>23.95</td>\n",
       "    </tr>\n",
       "  </tbody>\n",
       "</table>\n",
       "</div>"
      ],
      "text/plain": [
       "    municipality   2009   2010   2011   2012   2013   2014   2015   2016  \\\n",
       "0    Hele landet  26.74  27.47  27.68  27.37  27.88  28.33  28.77  28.97   \n",
       "1      København  29.38  31.44  31.38  31.25  31.86  32.13  32.70  33.24   \n",
       "2  Frederiksberg  30.33  32.93  33.22  33.53  33.92  34.98  34.37  34.85   \n",
       "3         Dragør  26.25  26.93  28.86  25.95  26.75  27.03  27.40  28.08   \n",
       "4         Tårnby  21.40  22.80  23.42  22.77  22.86  22.89  23.32  23.66   \n",
       "\n",
       "    2017   2018  \n",
       "0  29.32  29.10  \n",
       "1  33.65  33.71  \n",
       "2  35.71  35.42  \n",
       "3  27.88  27.55  \n",
       "4  23.95  23.95  "
      ]
     },
     "execution_count": 7,
     "metadata": {},
     "output_type": "execute_result"
    }
   ],
   "source": [
    "gini.head()"
   ]
  },
  {
   "cell_type": "code",
   "execution_count": 8,
   "metadata": {},
   "outputs": [
    {
     "data": {
      "text/html": [
       "<div>\n",
       "<style scoped>\n",
       "    .dataframe tbody tr th:only-of-type {\n",
       "        vertical-align: middle;\n",
       "    }\n",
       "\n",
       "    .dataframe tbody tr th {\n",
       "        vertical-align: top;\n",
       "    }\n",
       "\n",
       "    .dataframe thead th {\n",
       "        text-align: right;\n",
       "    }\n",
       "</style>\n",
       "<table border=\"1\" class=\"dataframe\">\n",
       "  <thead>\n",
       "    <tr style=\"text-align: right;\">\n",
       "      <th></th>\n",
       "      <th>municipality</th>\n",
       "      <th>2009</th>\n",
       "      <th>2010</th>\n",
       "      <th>2011</th>\n",
       "      <th>2012</th>\n",
       "      <th>2013</th>\n",
       "      <th>2014</th>\n",
       "      <th>2015</th>\n",
       "      <th>2016</th>\n",
       "      <th>2017</th>\n",
       "      <th>2018</th>\n",
       "    </tr>\n",
       "  </thead>\n",
       "  <tbody>\n",
       "    <tr>\n",
       "      <td>0</td>\n",
       "      <td>Hele landet</td>\n",
       "      <td>26.74</td>\n",
       "      <td>27.47</td>\n",
       "      <td>27.68</td>\n",
       "      <td>27.37</td>\n",
       "      <td>27.88</td>\n",
       "      <td>28.33</td>\n",
       "      <td>28.77</td>\n",
       "      <td>28.97</td>\n",
       "      <td>29.32</td>\n",
       "      <td>29.10</td>\n",
       "    </tr>\n",
       "    <tr>\n",
       "      <td>1</td>\n",
       "      <td>København</td>\n",
       "      <td>29.38</td>\n",
       "      <td>31.44</td>\n",
       "      <td>31.38</td>\n",
       "      <td>31.25</td>\n",
       "      <td>31.86</td>\n",
       "      <td>32.13</td>\n",
       "      <td>32.70</td>\n",
       "      <td>33.24</td>\n",
       "      <td>33.65</td>\n",
       "      <td>33.71</td>\n",
       "    </tr>\n",
       "    <tr>\n",
       "      <td>2</td>\n",
       "      <td>Frederiksberg</td>\n",
       "      <td>30.33</td>\n",
       "      <td>32.93</td>\n",
       "      <td>33.22</td>\n",
       "      <td>33.53</td>\n",
       "      <td>33.92</td>\n",
       "      <td>34.98</td>\n",
       "      <td>34.37</td>\n",
       "      <td>34.85</td>\n",
       "      <td>35.71</td>\n",
       "      <td>35.42</td>\n",
       "    </tr>\n",
       "    <tr>\n",
       "      <td>3</td>\n",
       "      <td>Dragør</td>\n",
       "      <td>26.25</td>\n",
       "      <td>26.93</td>\n",
       "      <td>28.86</td>\n",
       "      <td>25.95</td>\n",
       "      <td>26.75</td>\n",
       "      <td>27.03</td>\n",
       "      <td>27.40</td>\n",
       "      <td>28.08</td>\n",
       "      <td>27.88</td>\n",
       "      <td>27.55</td>\n",
       "    </tr>\n",
       "    <tr>\n",
       "      <td>4</td>\n",
       "      <td>Tårnby</td>\n",
       "      <td>21.40</td>\n",
       "      <td>22.80</td>\n",
       "      <td>23.42</td>\n",
       "      <td>22.77</td>\n",
       "      <td>22.86</td>\n",
       "      <td>22.89</td>\n",
       "      <td>23.32</td>\n",
       "      <td>23.66</td>\n",
       "      <td>23.95</td>\n",
       "      <td>23.95</td>\n",
       "    </tr>\n",
       "  </tbody>\n",
       "</table>\n",
       "</div>"
      ],
      "text/plain": [
       "    municipality   2009   2010   2011   2012   2013   2014   2015   2016  \\\n",
       "0    Hele landet  26.74  27.47  27.68  27.37  27.88  28.33  28.77  28.97   \n",
       "1      København  29.38  31.44  31.38  31.25  31.86  32.13  32.70  33.24   \n",
       "2  Frederiksberg  30.33  32.93  33.22  33.53  33.92  34.98  34.37  34.85   \n",
       "3         Dragør  26.25  26.93  28.86  25.95  26.75  27.03  27.40  28.08   \n",
       "4         Tårnby  21.40  22.80  23.42  22.77  22.86  22.89  23.32  23.66   \n",
       "\n",
       "    2017   2018  \n",
       "0  29.32  29.10  \n",
       "1  33.65  33.71  \n",
       "2  35.71  35.42  \n",
       "3  27.88  27.55  \n",
       "4  23.95  23.95  "
      ]
     },
     "execution_count": 8,
     "metadata": {},
     "output_type": "execute_result"
    }
   ],
   "source": [
    "gini = dataproject.only_keep_municipalities(gini)\n",
    "gini.head()"
   ]
  },
  {
   "cell_type": "markdown",
   "metadata": {},
   "source": [
    "**Convert the dataset to long format**:"
   ]
  },
  {
   "cell_type": "code",
   "execution_count": 9,
   "metadata": {},
   "outputs": [
    {
     "data": {
      "text/html": [
       "<div>\n",
       "<style scoped>\n",
       "    .dataframe tbody tr th:only-of-type {\n",
       "        vertical-align: middle;\n",
       "    }\n",
       "\n",
       "    .dataframe tbody tr th {\n",
       "        vertical-align: top;\n",
       "    }\n",
       "\n",
       "    .dataframe thead th {\n",
       "        text-align: right;\n",
       "    }\n",
       "</style>\n",
       "<table border=\"1\" class=\"dataframe\">\n",
       "  <thead>\n",
       "    <tr style=\"text-align: right;\">\n",
       "      <th></th>\n",
       "      <th>municipality</th>\n",
       "      <th>year</th>\n",
       "      <th>gini</th>\n",
       "    </tr>\n",
       "  </thead>\n",
       "  <tbody>\n",
       "    <tr>\n",
       "      <td>0</td>\n",
       "      <td>Hele landet</td>\n",
       "      <td>2009</td>\n",
       "      <td>26.74</td>\n",
       "    </tr>\n",
       "    <tr>\n",
       "      <td>1</td>\n",
       "      <td>København</td>\n",
       "      <td>2009</td>\n",
       "      <td>29.38</td>\n",
       "    </tr>\n",
       "    <tr>\n",
       "      <td>2</td>\n",
       "      <td>Frederiksberg</td>\n",
       "      <td>2009</td>\n",
       "      <td>30.33</td>\n",
       "    </tr>\n",
       "    <tr>\n",
       "      <td>3</td>\n",
       "      <td>Dragør</td>\n",
       "      <td>2009</td>\n",
       "      <td>26.25</td>\n",
       "    </tr>\n",
       "    <tr>\n",
       "      <td>4</td>\n",
       "      <td>Tårnby</td>\n",
       "      <td>2009</td>\n",
       "      <td>21.40</td>\n",
       "    </tr>\n",
       "  </tbody>\n",
       "</table>\n",
       "</div>"
      ],
      "text/plain": [
       "    municipality  year   gini\n",
       "0    Hele landet  2009  26.74\n",
       "1      København  2009  29.38\n",
       "2  Frederiksberg  2009  30.33\n",
       "3         Dragør  2009  26.25\n",
       "4         Tårnby  2009  21.40"
      ]
     },
     "execution_count": 9,
     "metadata": {},
     "output_type": "execute_result"
    }
   ],
   "source": [
    "# a. rename year columns\n",
    "mydict1 = {str(k):f'gini{k}' for k in range(2009,2020)}\n",
    "gini.rename(columns = mydict1, inplace=True)\n",
    "\n",
    "# b. convert to long\n",
    "gini_long = pd.wide_to_long(gini, stubnames='gini', i='municipality', j='year').reset_index()\n",
    "\n",
    "# c. show\n",
    "gini_long.head()"
   ]
  },
  {
   "cell_type": "markdown",
   "metadata": {},
   "source": [
    "## Explore data set"
   ]
  },
  {
   "cell_type": "markdown",
   "metadata": {},
   "source": [
    "In order to be able to **explore the raw data**, we here provide an **interactive plot** to show, respectively, the employment and income level in each municipality"
   ]
  },
  {
   "cell_type": "markdown",
   "metadata": {},
   "source": [
    "The **static plot** is:"
   ]
  },
  {
   "cell_type": "code",
   "execution_count": 39,
   "metadata": {},
   "outputs": [],
   "source": [
    "def plot_wage_gini(wage,gini,dataset,municipality): \n",
    "    \n",
    "    if dataset == 'wage':\n",
    "        df = wage\n",
    "        y = 'wage'\n",
    "    else:\n",
    "        df = gini\n",
    "        y = 'gini'\n",
    "    \n",
    "    I = df['municipality'] == municipality\n",
    "    ax = df.loc[I,:].plot(x='year', y=y, style='-o')"
   ]
  },
  {
   "cell_type": "markdown",
   "metadata": {},
   "source": [
    "The **interactive plot** is:"
   ]
  },
  {
   "cell_type": "code",
   "execution_count": 40,
   "metadata": {},
   "outputs": [
    {
     "data": {
      "application/vnd.jupyter.widget-view+json": {
       "model_id": "27d6785589d7400f97a16cb196745b77",
       "version_major": 2,
       "version_minor": 0
      },
      "text/plain": [
       "interactive(children=(Dropdown(description='Dataset', options=('wage', 'gini'), value='wage'), Dropdown(descri…"
      ]
     },
     "metadata": {},
     "output_type": "display_data"
    },
    {
     "data": {
      "application/vnd.jupyter.widget-view+json": {
       "model_id": "65a7b22914f04577bf0455ef8a659cb3",
       "version_major": 2,
       "version_minor": 0
      },
      "text/plain": [
       "interactive(children=(Dropdown(description='Dataset', options=('wage', 'gini'), value='wage'), Dropdown(descri…"
      ]
     },
     "metadata": {},
     "output_type": "display_data"
    }
   ],
   "source": [
    "widgets.interact(plot_wage_gini, \n",
    "    \n",
    "    wage = widgets.fixed(wage_long),\n",
    "    gini = widgets.fixed(gini_long),\n",
    "    dataset = widgets.Dropdown(description='Dataset', \n",
    "                               options=['wage','gini']),\n",
    "    municipality = widgets.Dropdown(description='Municipality', \n",
    "                                    options=wage_long.municipality.unique())\n",
    "    \n",
    "                 \n",
    "); \n",
    "widgets.interact(plot_wage_gini, \n",
    "    \n",
    "    wage = widgets.fixed(wage_long),\n",
    "    gini = widgets.fixed(gini_long),\n",
    "    dataset = widgets.Dropdown(description='Dataset', \n",
    "                               options=['wage','gini']),\n",
    "    municipality = widgets.Dropdown(description='Municipality', \n",
    "                                    options=wage_long.municipality.unique())\n",
    "                 \n",
    "); "
   ]
  },
  {
   "cell_type": "markdown",
   "metadata": {},
   "source": [
    "ADD SOMETHING HERE IF THE READER SHOULD KNOW THAT E.G. SOME MUNICIPALITY IS SPECIAL."
   ]
  },
  {
   "cell_type": "markdown",
   "metadata": {},
   "source": [
    "# Merge data sets"
   ]
  },
  {
   "cell_type": "markdown",
   "metadata": {},
   "source": [
    "We now create a data set with **municpalities which are in both of our data sets**. This means removing Christiansø from our datasets, so they represent the same municpalities and all of Denmark."
   ]
  },
  {
   "cell_type": "code",
   "execution_count": 12,
   "metadata": {},
   "outputs": [
    {
     "name": "stdout",
     "output_type": "stream",
     "text": [
      "10\n",
      "10\n",
      "99\n",
      "99\n",
      "Number of municipalities = 99\n",
      "Number of years          = 10\n"
     ]
    }
   ],
   "source": [
    "print(len(gini_long.year.unique()))\n",
    "print(len(wage_long.year.unique()))\n",
    "print(len(gini_long.municipality.unique()))\n",
    "print(len(wage_long.municipality.unique()))\n",
    "\n",
    "#We merge the two datasets:\n",
    "merged = pd.merge(gini_long, wage_long ,how='inner',on=['municipality','year'])\n",
    "\n",
    "print(f'Number of municipalities = {len(merged.municipality.unique())}')\n",
    "print(f'Number of years          = {len(merged.year.unique())}')"
   ]
  },
  {
   "cell_type": "code",
   "execution_count": 13,
   "metadata": {},
   "outputs": [
    {
     "name": "stdout",
     "output_type": "stream",
     "text": [
      "Years in gini: [2009 2010 2011 2012 2013 2014 2015 2016 2017 2018]\n",
      "Municipalities in gini_long = 99\n",
      "Years in wage: [2009 2010 2011 2012 2013 2014 2015 2016 2017 2018]\n",
      "Municipalities in wage = 99\n"
     ]
    }
   ],
   "source": [
    "print(f'Years in gini: {gini_long.year.unique()}')\n",
    "print(f'Municipalities in gini_long = {len(gini_long.municipality.unique())}')\n",
    "print(f'Years in wage: {wage_long.year.unique()}')\n",
    "print(f'Municipalities in wage = {len(wage_long.municipality.unique())}')\n"
   ]
  },
  {
   "cell_type": "code",
   "execution_count": 14,
   "metadata": {},
   "outputs": [
    {
     "data": {
      "text/html": [
       "<div>\n",
       "<style scoped>\n",
       "    .dataframe tbody tr th:only-of-type {\n",
       "        vertical-align: middle;\n",
       "    }\n",
       "\n",
       "    .dataframe tbody tr th {\n",
       "        vertical-align: top;\n",
       "    }\n",
       "\n",
       "    .dataframe thead th {\n",
       "        text-align: right;\n",
       "    }\n",
       "</style>\n",
       "<table border=\"1\" class=\"dataframe\">\n",
       "  <thead>\n",
       "    <tr style=\"text-align: right;\">\n",
       "      <th></th>\n",
       "      <th>municipality</th>\n",
       "      <th>year</th>\n",
       "      <th>gini</th>\n",
       "      <th>wage</th>\n",
       "    </tr>\n",
       "  </thead>\n",
       "  <tbody>\n",
       "    <tr>\n",
       "      <td>0</td>\n",
       "      <td>Hele landet</td>\n",
       "      <td>2009</td>\n",
       "      <td>26.74</td>\n",
       "      <td>35734</td>\n",
       "    </tr>\n",
       "    <tr>\n",
       "      <td>1</td>\n",
       "      <td>København</td>\n",
       "      <td>2009</td>\n",
       "      <td>29.38</td>\n",
       "      <td>36607</td>\n",
       "    </tr>\n",
       "    <tr>\n",
       "      <td>2</td>\n",
       "      <td>Frederiksberg</td>\n",
       "      <td>2009</td>\n",
       "      <td>30.33</td>\n",
       "      <td>41119</td>\n",
       "    </tr>\n",
       "    <tr>\n",
       "      <td>3</td>\n",
       "      <td>Dragør</td>\n",
       "      <td>2009</td>\n",
       "      <td>26.25</td>\n",
       "      <td>43215</td>\n",
       "    </tr>\n",
       "    <tr>\n",
       "      <td>4</td>\n",
       "      <td>Tårnby</td>\n",
       "      <td>2009</td>\n",
       "      <td>21.40</td>\n",
       "      <td>36147</td>\n",
       "    </tr>\n",
       "  </tbody>\n",
       "</table>\n",
       "</div>"
      ],
      "text/plain": [
       "    municipality  year   gini   wage\n",
       "0    Hele landet  2009  26.74  35734\n",
       "1      København  2009  29.38  36607\n",
       "2  Frederiksberg  2009  30.33  41119\n",
       "3         Dragør  2009  26.25  43215\n",
       "4         Tårnby  2009  21.40  36147"
      ]
     },
     "execution_count": 14,
     "metadata": {},
     "output_type": "execute_result"
    }
   ],
   "source": [
    "joinboth = pd.merge(gini_long, wage_long,how='inner',on=['municipality','year'])\n",
    "joinboth.head()"
   ]
  },
  {
   "cell_type": "code",
   "execution_count": 15,
   "metadata": {},
   "outputs": [
    {
     "data": {
      "text/html": [
       "<div>\n",
       "<style scoped>\n",
       "    .dataframe tbody tr th:only-of-type {\n",
       "        vertical-align: middle;\n",
       "    }\n",
       "\n",
       "    .dataframe tbody tr th {\n",
       "        vertical-align: top;\n",
       "    }\n",
       "\n",
       "    .dataframe thead th {\n",
       "        text-align: right;\n",
       "    }\n",
       "</style>\n",
       "<table border=\"1\" class=\"dataframe\">\n",
       "  <thead>\n",
       "    <tr style=\"text-align: right;\">\n",
       "      <th></th>\n",
       "      <th>municipality</th>\n",
       "      <th>year</th>\n",
       "      <th>gini</th>\n",
       "      <th>wage</th>\n",
       "    </tr>\n",
       "  </thead>\n",
       "  <tbody>\n",
       "    <tr>\n",
       "      <td>0</td>\n",
       "      <td>Aabenraa</td>\n",
       "      <td>2009</td>\n",
       "      <td>25.57</td>\n",
       "      <td>33192</td>\n",
       "    </tr>\n",
       "    <tr>\n",
       "      <td>1</td>\n",
       "      <td>Aabenraa</td>\n",
       "      <td>2010</td>\n",
       "      <td>25.09</td>\n",
       "      <td>34119</td>\n",
       "    </tr>\n",
       "    <tr>\n",
       "      <td>2</td>\n",
       "      <td>Aabenraa</td>\n",
       "      <td>2011</td>\n",
       "      <td>25.01</td>\n",
       "      <td>34825</td>\n",
       "    </tr>\n",
       "    <tr>\n",
       "      <td>3</td>\n",
       "      <td>Aabenraa</td>\n",
       "      <td>2012</td>\n",
       "      <td>24.83</td>\n",
       "      <td>35338</td>\n",
       "    </tr>\n",
       "    <tr>\n",
       "      <td>4</td>\n",
       "      <td>Aabenraa</td>\n",
       "      <td>2013</td>\n",
       "      <td>25.36</td>\n",
       "      <td>35615</td>\n",
       "    </tr>\n",
       "  </tbody>\n",
       "</table>\n",
       "</div>"
      ],
      "text/plain": [
       "  municipality  year   gini   wage\n",
       "0     Aabenraa  2009  25.57  33192\n",
       "1     Aabenraa  2010  25.09  34119\n",
       "2     Aabenraa  2011  25.01  34825\n",
       "3     Aabenraa  2012  24.83  35338\n",
       "4     Aabenraa  2013  25.36  35615"
      ]
     },
     "execution_count": 15,
     "metadata": {},
     "output_type": "execute_result"
    }
   ],
   "source": [
    "# Group data by municipality and year\n",
    "joinboth2 = joinboth.groupby(['municipality','year','gini','wage']).sum().reset_index()\n",
    "joinboth2.head()"
   ]
  },
  {
   "cell_type": "code",
   "execution_count": 16,
   "metadata": {},
   "outputs": [
    {
     "name": "stdout",
     "output_type": "stream",
     "text": [
      "     municipality     year   gini      wage\n",
      "max           Ærø  2018.00  47.77  60720.00\n",
      "min      Aabenraa  2009.00  20.40  31438.00\n",
      "mean          NaN  2013.50  25.80  38571.92\n",
      "std           NaN     2.87   3.55   5076.73\n"
     ]
    }
   ],
   "source": [
    "print(joinboth2.agg(['mean','std','max','min']).round(2))"
   ]
  },
  {
   "cell_type": "code",
   "execution_count": 17,
   "metadata": {},
   "outputs": [
    {
     "name": "stdout",
     "output_type": "stream",
     "text": [
      "       gini                          wage                       \n",
      "       mean   std    max    min      mean      std    max    min\n",
      "year                                                            \n",
      "2009  25.28  3.24  42.42  20.40  35588.95  4090.75  50949  31438\n",
      "2010  25.50  3.43  43.42  21.65  36769.74  4517.63  54630  31948\n",
      "2011  25.48  3.27  42.83  20.94  37238.27  4699.84  54940  32292\n",
      "2012  25.11  3.27  42.13  20.71  37945.55  4715.92  55481  32716\n",
      "2013  25.50  3.43  43.39  21.51  38302.07  4833.02  56118  32864\n",
      "2014  25.73  3.65  43.98  21.44  38685.46  4827.14  56279  33198\n",
      "2015  26.04  3.91  47.77  22.03  39309.05  4881.91  57422  33836\n",
      "2016  26.38  3.73  45.02  22.50  39824.34  5023.72  58411  34174\n",
      "2017  26.58  3.74  45.44  21.63  40647.82  5147.41  59791  34563\n",
      "2018  26.40  3.58  44.50  22.88  41407.98  5219.17  60720  35101\n"
     ]
    }
   ],
   "source": [
    "# We construct a table for mean, min & max for each year. IS STD RELEVANT?\n",
    "print(joinboth2.groupby(['year']).agg(['mean','std','max','min']).round(2))"
   ]
  },
  {
   "cell_type": "code",
   "execution_count": 18,
   "metadata": {},
   "outputs": [
    {
     "name": "stdout",
     "output_type": "stream",
     "text": [
      "                   year                     gini                         wage  \\\n",
      "                   mean   std   max   min   mean   std    max    min     mean   \n",
      "municipality                                                                    \n",
      "Aabenraa         2013.5  3.03  2018  2009  25.60  0.76  27.42  24.83  35671.2   \n",
      "Aalborg          2013.5  3.03  2018  2009  27.31  1.02  28.70  25.72  37396.4   \n",
      "Aarhus           2013.5  3.03  2018  2009  31.48  1.36  33.29  28.64  39497.7   \n",
      "Albertslund      2013.5  3.03  2018  2009  25.14  0.46  25.68  23.99  37644.1   \n",
      "Allerød          2013.5  3.03  2018  2009  25.24  0.63  26.34  24.23  49270.7   \n",
      "...                 ...   ...   ...   ...    ...   ...    ...    ...      ...   \n",
      "Vejle            2013.5  3.03  2018  2009  26.21  0.71  27.02  25.19  38435.7   \n",
      "Vesthimmerlands  2013.5  3.03  2018  2009  24.79  1.34  28.33  23.94  33787.4   \n",
      "Viborg           2013.5  3.03  2018  2009  24.74  0.63  25.84  23.81  36559.1   \n",
      "Vordingborg      2013.5  3.03  2018  2009  24.87  0.73  25.82  23.81  36342.1   \n",
      "Ærø              2013.5  3.03  2018  2009  25.61  0.85  27.17  24.44  34300.9   \n",
      "\n",
      "                                        \n",
      "                     std    max    min  \n",
      "municipality                            \n",
      "Aabenraa         1403.96  37806  33192  \n",
      "Aalborg          1933.46  40309  34294  \n",
      "Aarhus           2097.38  42623  35921  \n",
      "Albertslund      1520.02  39882  34895  \n",
      "Allerød          2327.06  52694  45247  \n",
      "...                  ...    ...    ...  \n",
      "Vejle            2027.06  41575  35036  \n",
      "Vesthimmerlands  1592.52  36487  31575  \n",
      "Viborg           1781.68  39431  33661  \n",
      "Vordingborg      1507.84  38744  33777  \n",
      "Ærø              1400.29  36566  31866  \n",
      "\n",
      "[99 rows x 12 columns]\n"
     ]
    }
   ],
   "source": [
    "#In this table we look at mean, min and max for each municipality. \n",
    "print(joinboth2.groupby(['municipality']).agg(['mean','std','max','min']).round(2))"
   ]
  },
  {
   "cell_type": "code",
   "execution_count": 19,
   "metadata": {},
   "outputs": [
    {
     "name": "stdout",
     "output_type": "stream",
     "text": [
      "                    gini                     wage                  \n",
      "                    mean std    max    min   mean std    max    min\n",
      "municipality year                                                  \n",
      "Aabenraa     2009  25.57 NaN  25.57  25.57  33192 NaN  33192  33192\n",
      "             2010  25.09 NaN  25.09  25.09  34119 NaN  34119  34119\n",
      "             2011  25.01 NaN  25.01  25.01  34825 NaN  34825  34825\n",
      "             2012  24.83 NaN  24.83  24.83  35338 NaN  35338  35338\n",
      "             2013  25.36 NaN  25.36  25.36  35615 NaN  35615  35615\n",
      "...                  ...  ..    ...    ...    ...  ..    ...    ...\n",
      "Ærø          2014  25.18 NaN  25.18  25.18  34926 NaN  34926  34926\n",
      "             2015  26.34 NaN  26.34  26.34  35323 NaN  35323  35323\n",
      "             2016  26.35 NaN  26.35  26.35  34371 NaN  34371  34371\n",
      "             2017  25.24 NaN  25.24  25.24  35854 NaN  35854  35854\n",
      "             2018  26.16 NaN  26.16  26.16  36566 NaN  36566  36566\n",
      "\n",
      "[990 rows x 8 columns]\n"
     ]
    }
   ],
   "source": [
    "print(joinboth2.groupby(['municipality','year']).agg(['mean','std','max','min']).round(2))\n",
    "# Helt skidt her, mean max og min er det samme, men måske vi kan finde en anden måde hvis vi vil have kommunen med også\n",
    "# MIN max og mean er det samme fordi den er for 1 kommune for 1 år (dvs. 1 enhed), hvis vi tager den for alle kommuner på tværs af år eller kommunen for alle år kan vi få forskellige. "
   ]
  },
  {
   "cell_type": "markdown",
   "metadata": {},
   "source": [
    "# WAGE GRAFER"
   ]
  },
  {
   "cell_type": "code",
   "execution_count": 20,
   "metadata": {},
   "outputs": [
    {
     "name": "stdout",
     "output_type": "stream",
     "text": [
      "0      35734\n",
      "1      36607\n",
      "2      41119\n",
      "3      43215\n",
      "4      36147\n",
      "       ...  \n",
      "490    33114\n",
      "491    36916\n",
      "492    33990\n",
      "493    33057\n",
      "494    36912\n",
      "Name: wage, Length: 495, dtype: int64\n"
     ]
    }
   ],
   "source": [
    "wage_long['wage'] = wage_long['wage'].astype(int)\n",
    "wage_grouped = wage_long.groupby('municipality')['wage']\n",
    "print(wage_grouped.head(5))"
   ]
  },
  {
   "cell_type": "code",
   "execution_count": 21,
   "metadata": {},
   "outputs": [
    {
     "data": {
      "text/plain": [
       "Text(0,0.5,'wage')"
      ]
     },
     "execution_count": 21,
     "metadata": {},
     "output_type": "execute_result"
    },
    {
     "data": {
      "image/png": "[encoded data removed]",
      "text/plain": [
       "<Figure size 432x288 with 1 Axes>"
      ]
     },
     "metadata": {
      "needs_background": "light"
     },
     "output_type": "display_data"
    }
   ],
   "source": [
    "wage_mean = wage_grouped.mean() # mean wage\n",
    "wage_mean.name = 'wage_mean' \n",
    "wage_test = wage_long.set_index('municipality').join(wage_mean, how='left')\n",
    "wage_test['diff'] = wage_test.wage - wage_test.wage_mean\n",
    "wage_test.xs('Gentofte')\n",
    "municipalities2 = ['København','Roskilde','Ishøj']\n",
    "\n",
    "fig = plt.figure()\n",
    "ax = fig.add_subplot(1,1,1)\n",
    "\n",
    "for m in municipalities2:\n",
    "    wage_test.xs(m).plot(x='year',y='wage',ax=ax,label=m + ' wage')\n",
    "    #gini_test.xs(m).set_ylabel('wage')\n",
    "\n",
    "ax.legend(frameon=True)\n",
    "ax.set_ylabel('wage')"
   ]
  },
  {
   "cell_type": "code",
   "execution_count": 22,
   "metadata": {},
   "outputs": [
    {
     "name": "stdout",
     "output_type": "stream",
     "text": [
      "<class 'pandas.core.frame.DataFrame'>\n",
      "Index: 990 entries, Aabenraa to Ærø\n",
      "Data columns (total 4 columns):\n",
      "year         990 non-null int64\n",
      "wage         990 non-null int64\n",
      "wage_mean    990 non-null float64\n",
      "diff         990 non-null float64\n",
      "dtypes: float64(2), int64(2)\n",
      "memory usage: 58.7+ KB\n"
     ]
    }
   ],
   "source": [
    "wage_test.info()"
   ]
  },
  {
   "cell_type": "code",
   "execution_count": 23,
   "metadata": {},
   "outputs": [
    {
     "name": "stdout",
     "output_type": "stream",
     "text": [
      "<class 'pandas.core.frame.DataFrame'>\n",
      "RangeIndex: 990 entries, 0 to 989\n",
      "Data columns (total 3 columns):\n",
      "municipality    990 non-null object\n",
      "year            990 non-null int64\n",
      "wage            990 non-null int64\n",
      "dtypes: int64(2), object(1)\n",
      "memory usage: 23.3+ KB\n"
     ]
    }
   ],
   "source": [
    "wage_long.info()"
   ]
  },
  {
   "cell_type": "code",
   "execution_count": 24,
   "metadata": {},
   "outputs": [
    {
     "name": "stdout",
     "output_type": "stream",
     "text": [
      "    municipality  year   wage\n",
      "0    Hele landet  2009  35734\n",
      "99   Hele landet  2010  36941\n",
      "198  Hele landet  2011  37527\n",
      "297  Hele landet  2012  38290\n",
      "396  Hele landet  2013  38708\n",
      "495  Hele landet  2014  39111\n",
      "594  Hele landet  2015  39763\n",
      "693  Hele landet  2016  40291\n",
      "792  Hele landet  2017  41144\n",
      "891  Hele landet  2018  41931\n",
      "    municipality  year   wage\n",
      "14         Ishøj  2009  33619\n",
      "113        Ishøj  2010  34389\n",
      "212        Ishøj  2011  34680\n",
      "311        Ishøj  2012  35264\n",
      "410        Ishøj  2013  35299\n",
      "509        Ishøj  2014  35797\n",
      "608        Ishøj  2015  36164\n",
      "707        Ishøj  2016  36409\n",
      "806        Ishøj  2017  37201\n",
      "905        Ishøj  2018  37748\n",
      "    municipality  year   wage\n",
      "8       Gentofte  2009  50186\n",
      "107     Gentofte  2010  53319\n",
      "206     Gentofte  2011  54208\n",
      "305     Gentofte  2012  55035\n",
      "404     Gentofte  2013  55614\n",
      "503     Gentofte  2014  56249\n",
      "602     Gentofte  2015  57422\n",
      "701     Gentofte  2016  58411\n",
      "800     Gentofte  2017  59791\n",
      "899     Gentofte  2018  60720\n"
     ]
    }
   ],
   "source": [
    "wage_hele_landet = wage_long.loc[wage_long['municipality'] == 'Hele landet', :]\n",
    "wage_Ishøj = wage_long.loc[wage_long['municipality'] == 'Ishøj', :]\n",
    "wage_Gentofte = wage_long.loc[wage_long['municipality'] == 'Gentofte', :]\n",
    "print(wage_hele_landet.head(10))\n",
    "print(wage_Ishøj.head(10))\n",
    "print(wage_Gentofte.head(10))"
   ]
  },
  {
   "cell_type": "code",
   "execution_count": 25,
   "metadata": {},
   "outputs": [
    {
     "data": {
      "text/html": [
       "<div>\n",
       "<style scoped>\n",
       "    .dataframe tbody tr th:only-of-type {\n",
       "        vertical-align: middle;\n",
       "    }\n",
       "\n",
       "    .dataframe tbody tr th {\n",
       "        vertical-align: top;\n",
       "    }\n",
       "\n",
       "    .dataframe thead th {\n",
       "        text-align: right;\n",
       "    }\n",
       "</style>\n",
       "<table border=\"1\" class=\"dataframe\">\n",
       "  <thead>\n",
       "    <tr style=\"text-align: right;\">\n",
       "      <th></th>\n",
       "      <th>year</th>\n",
       "      <th>wage</th>\n",
       "      <th>wage_mean</th>\n",
       "      <th>diff</th>\n",
       "    </tr>\n",
       "    <tr>\n",
       "      <th>municipality</th>\n",
       "      <th></th>\n",
       "      <th></th>\n",
       "      <th></th>\n",
       "      <th></th>\n",
       "    </tr>\n",
       "  </thead>\n",
       "  <tbody>\n",
       "    <tr>\n",
       "      <td>Hele landet</td>\n",
       "      <td>2009</td>\n",
       "      <td>35734</td>\n",
       "      <td>38944.0</td>\n",
       "      <td>-3210.0</td>\n",
       "    </tr>\n",
       "    <tr>\n",
       "      <td>Hele landet</td>\n",
       "      <td>2010</td>\n",
       "      <td>36941</td>\n",
       "      <td>38944.0</td>\n",
       "      <td>-2003.0</td>\n",
       "    </tr>\n",
       "    <tr>\n",
       "      <td>Hele landet</td>\n",
       "      <td>2011</td>\n",
       "      <td>37527</td>\n",
       "      <td>38944.0</td>\n",
       "      <td>-1417.0</td>\n",
       "    </tr>\n",
       "    <tr>\n",
       "      <td>Hele landet</td>\n",
       "      <td>2012</td>\n",
       "      <td>38290</td>\n",
       "      <td>38944.0</td>\n",
       "      <td>-654.0</td>\n",
       "    </tr>\n",
       "    <tr>\n",
       "      <td>Hele landet</td>\n",
       "      <td>2013</td>\n",
       "      <td>38708</td>\n",
       "      <td>38944.0</td>\n",
       "      <td>-236.0</td>\n",
       "    </tr>\n",
       "    <tr>\n",
       "      <td>Hele landet</td>\n",
       "      <td>2014</td>\n",
       "      <td>39111</td>\n",
       "      <td>38944.0</td>\n",
       "      <td>167.0</td>\n",
       "    </tr>\n",
       "    <tr>\n",
       "      <td>Hele landet</td>\n",
       "      <td>2015</td>\n",
       "      <td>39763</td>\n",
       "      <td>38944.0</td>\n",
       "      <td>819.0</td>\n",
       "    </tr>\n",
       "    <tr>\n",
       "      <td>Hele landet</td>\n",
       "      <td>2016</td>\n",
       "      <td>40291</td>\n",
       "      <td>38944.0</td>\n",
       "      <td>1347.0</td>\n",
       "    </tr>\n",
       "    <tr>\n",
       "      <td>Hele landet</td>\n",
       "      <td>2017</td>\n",
       "      <td>41144</td>\n",
       "      <td>38944.0</td>\n",
       "      <td>2200.0</td>\n",
       "    </tr>\n",
       "    <tr>\n",
       "      <td>Hele landet</td>\n",
       "      <td>2018</td>\n",
       "      <td>41931</td>\n",
       "      <td>38944.0</td>\n",
       "      <td>2987.0</td>\n",
       "    </tr>\n",
       "  </tbody>\n",
       "</table>\n",
       "</div>"
      ],
      "text/plain": [
       "              year   wage  wage_mean    diff\n",
       "municipality                                \n",
       "Hele landet   2009  35734    38944.0 -3210.0\n",
       "Hele landet   2010  36941    38944.0 -2003.0\n",
       "Hele landet   2011  37527    38944.0 -1417.0\n",
       "Hele landet   2012  38290    38944.0  -654.0\n",
       "Hele landet   2013  38708    38944.0  -236.0\n",
       "Hele landet   2014  39111    38944.0   167.0\n",
       "Hele landet   2015  39763    38944.0   819.0\n",
       "Hele landet   2016  40291    38944.0  1347.0\n",
       "Hele landet   2017  41144    38944.0  2200.0\n",
       "Hele landet   2018  41931    38944.0  2987.0"
      ]
     },
     "execution_count": 25,
     "metadata": {},
     "output_type": "execute_result"
    }
   ],
   "source": [
    "#her er den med mean og 'diff'\n",
    "wage_hele_landets = wage_test.loc['Hele landet']\n",
    "wage_Ishøjs = wage_test.loc['Ishøj']\n",
    "wage_Gentoftes = wage_test.loc['Gentofte']\n",
    "(wage_hele_landets.head(10))\n",
    "#print(wage_Ishøjs.head(10))\n",
    "#print(wage_Gentoftes.head(10))"
   ]
  },
  {
   "cell_type": "code",
   "execution_count": 26,
   "metadata": {},
   "outputs": [
    {
     "data": {
      "text/html": [
       "<div>\n",
       "<style scoped>\n",
       "    .dataframe tbody tr th:only-of-type {\n",
       "        vertical-align: middle;\n",
       "    }\n",
       "\n",
       "    .dataframe tbody tr th {\n",
       "        vertical-align: top;\n",
       "    }\n",
       "\n",
       "    .dataframe thead th {\n",
       "        text-align: right;\n",
       "    }\n",
       "</style>\n",
       "<table border=\"1\" class=\"dataframe\">\n",
       "  <thead>\n",
       "    <tr style=\"text-align: right;\">\n",
       "      <th></th>\n",
       "      <th>year</th>\n",
       "      <th>wage</th>\n",
       "      <th>wage_mean</th>\n",
       "      <th>diff</th>\n",
       "    </tr>\n",
       "    <tr>\n",
       "      <th>municipality</th>\n",
       "      <th></th>\n",
       "      <th></th>\n",
       "      <th></th>\n",
       "      <th></th>\n",
       "    </tr>\n",
       "  </thead>\n",
       "  <tbody>\n",
       "    <tr>\n",
       "      <td>Furesø</td>\n",
       "      <td>2018</td>\n",
       "      <td>53424</td>\n",
       "      <td>50131.5</td>\n",
       "      <td>3292.5</td>\n",
       "    </tr>\n",
       "    <tr>\n",
       "      <td>Gentofte</td>\n",
       "      <td>2018</td>\n",
       "      <td>60720</td>\n",
       "      <td>56095.5</td>\n",
       "      <td>4624.5</td>\n",
       "    </tr>\n",
       "    <tr>\n",
       "      <td>Hørsholm</td>\n",
       "      <td>2018</td>\n",
       "      <td>59484</td>\n",
       "      <td>56092.5</td>\n",
       "      <td>3391.5</td>\n",
       "    </tr>\n",
       "    <tr>\n",
       "      <td>Lyngby-Taarbæk</td>\n",
       "      <td>2018</td>\n",
       "      <td>54920</td>\n",
       "      <td>50716.1</td>\n",
       "      <td>4203.9</td>\n",
       "    </tr>\n",
       "    <tr>\n",
       "      <td>Rudersdal</td>\n",
       "      <td>2018</td>\n",
       "      <td>60019</td>\n",
       "      <td>55806.4</td>\n",
       "      <td>4212.6</td>\n",
       "    </tr>\n",
       "  </tbody>\n",
       "</table>\n",
       "</div>"
      ],
      "text/plain": [
       "                year   wage  wage_mean    diff\n",
       "municipality                                  \n",
       "Furesø          2018  53424    50131.5  3292.5\n",
       "Gentofte        2018  60720    56095.5  4624.5\n",
       "Hørsholm        2018  59484    56092.5  3391.5\n",
       "Lyngby-Taarbæk  2018  54920    50716.1  4203.9\n",
       "Rudersdal       2018  60019    55806.4  4212.6"
      ]
     },
     "execution_count": 26,
     "metadata": {},
     "output_type": "execute_result"
    }
   ],
   "source": [
    "#Her printes kun de rigeste (over 50.000 i gennemsnitlig løn for perioden. Her printes deres tal for 2018)\n",
    "wage_rich = wage_test.loc[(wage_test['wage_mean'] > 50000), :]\n",
    "wage_rich2018 = wage_rich.loc[(wage_rich['year'] == 2018), :]\n",
    "wage_rich2018.head(40)"
   ]
  },
  {
   "cell_type": "code",
   "execution_count": 27,
   "metadata": {},
   "outputs": [
    {
     "data": {
      "text/plain": [
       "<matplotlib.legend.Legend at 0x101ee171d0>"
      ]
     },
     "execution_count": 27,
     "metadata": {},
     "output_type": "execute_result"
    },
    {
     "data": {
      "image/png": "[encoded data removed]",
      "text/plain": [
       "<Figure size 432x288 with 1 Axes>"
      ]
     },
     "metadata": {
      "needs_background": "light"
     },
     "output_type": "display_data"
    }
   ],
   "source": [
    "wage_hele_landet = wage_long.loc[wage_long['municipality'] == 'Hele landet', :]\n",
    "wage_Ishøj = wage_long.loc[wage_long['municipality'] == 'Ishøj', :]\n",
    "wage_Gentofte = wage_long.loc[wage_long['municipality'] == 'Gentofte', :]\n",
    "wage_hele_landet.head(10)\n",
    "\n",
    "fig = plt.figure()\n",
    "ax = fig.add_subplot(1,1,1)\n",
    "wage_hele_landet.plot(x='year',y='wage',ax=ax,label='Hele Landet')\n",
    "wage_Ishøj.plot(x='year',y='wage',ax=ax,label='Ishøj')\n",
    "wage_Gentofte.plot(x='year',y='wage',ax=ax,label='Gentofte')\n",
    "\n",
    "ax.grid(True)\n",
    "ax.legend(frameon=True)\n",
    "ax.legend(frameon=True)"
   ]
  },
  {
   "cell_type": "code",
   "execution_count": 28,
   "metadata": {},
   "outputs": [
    {
     "name": "stdout",
     "output_type": "stream",
     "text": [
      "0      26.74\n",
      "1      29.38\n",
      "2      30.33\n",
      "3      26.25\n",
      "4      21.40\n",
      "       ...  \n",
      "985    24.96\n",
      "986    24.58\n",
      "987    24.78\n",
      "988    24.84\n",
      "989    28.70\n",
      "Name: gini, Length: 990, dtype: float64\n"
     ]
    }
   ],
   "source": [
    "gini_grouped = gini_long.groupby('municipality')['gini']\n",
    "print(gini_grouped.head(10))"
   ]
  },
  {
   "cell_type": "code",
   "execution_count": 29,
   "metadata": {},
   "outputs": [
    {
     "data": {
      "text/plain": [
       "municipality\n",
       "Aabenraa       25.601\n",
       "Aalborg        27.314\n",
       "Aarhus         31.482\n",
       "Albertslund    25.139\n",
       "Allerød        25.245\n",
       "Assens         23.237\n",
       "Ballerup       25.141\n",
       "Billund        25.153\n",
       "Bornholm       22.928\n",
       "Brøndby        24.781\n",
       "Name: gini, dtype: float64"
      ]
     },
     "execution_count": 29,
     "metadata": {},
     "output_type": "execute_result"
    }
   ],
   "source": [
    "gini_mean = gini_grouped.mean() # mean gini\n",
    "gini_mean.head(10)"
   ]
  },
  {
   "cell_type": "code",
   "execution_count": 30,
   "metadata": {},
   "outputs": [
    {
     "data": {
      "text/html": [
       "<div>\n",
       "<style scoped>\n",
       "    .dataframe tbody tr th:only-of-type {\n",
       "        vertical-align: middle;\n",
       "    }\n",
       "\n",
       "    .dataframe tbody tr th {\n",
       "        vertical-align: top;\n",
       "    }\n",
       "\n",
       "    .dataframe thead th {\n",
       "        text-align: right;\n",
       "    }\n",
       "</style>\n",
       "<table border=\"1\" class=\"dataframe\">\n",
       "  <thead>\n",
       "    <tr style=\"text-align: right;\">\n",
       "      <th></th>\n",
       "      <th>year</th>\n",
       "      <th>gini</th>\n",
       "      <th>gini_mean</th>\n",
       "      <th>diff</th>\n",
       "    </tr>\n",
       "    <tr>\n",
       "      <th>municipality</th>\n",
       "      <th></th>\n",
       "      <th></th>\n",
       "      <th></th>\n",
       "      <th></th>\n",
       "    </tr>\n",
       "  </thead>\n",
       "  <tbody>\n",
       "    <tr>\n",
       "      <td>Gentofte</td>\n",
       "      <td>2009</td>\n",
       "      <td>42.42</td>\n",
       "      <td>44.09</td>\n",
       "      <td>-1.67</td>\n",
       "    </tr>\n",
       "    <tr>\n",
       "      <td>Gentofte</td>\n",
       "      <td>2010</td>\n",
       "      <td>43.42</td>\n",
       "      <td>44.09</td>\n",
       "      <td>-0.67</td>\n",
       "    </tr>\n",
       "    <tr>\n",
       "      <td>Gentofte</td>\n",
       "      <td>2011</td>\n",
       "      <td>42.83</td>\n",
       "      <td>44.09</td>\n",
       "      <td>-1.26</td>\n",
       "    </tr>\n",
       "    <tr>\n",
       "      <td>Gentofte</td>\n",
       "      <td>2012</td>\n",
       "      <td>42.13</td>\n",
       "      <td>44.09</td>\n",
       "      <td>-1.96</td>\n",
       "    </tr>\n",
       "    <tr>\n",
       "      <td>Gentofte</td>\n",
       "      <td>2013</td>\n",
       "      <td>43.39</td>\n",
       "      <td>44.09</td>\n",
       "      <td>-0.70</td>\n",
       "    </tr>\n",
       "    <tr>\n",
       "      <td>Gentofte</td>\n",
       "      <td>2014</td>\n",
       "      <td>43.98</td>\n",
       "      <td>44.09</td>\n",
       "      <td>-0.11</td>\n",
       "    </tr>\n",
       "    <tr>\n",
       "      <td>Gentofte</td>\n",
       "      <td>2015</td>\n",
       "      <td>47.77</td>\n",
       "      <td>44.09</td>\n",
       "      <td>3.68</td>\n",
       "    </tr>\n",
       "    <tr>\n",
       "      <td>Gentofte</td>\n",
       "      <td>2016</td>\n",
       "      <td>45.02</td>\n",
       "      <td>44.09</td>\n",
       "      <td>0.93</td>\n",
       "    </tr>\n",
       "    <tr>\n",
       "      <td>Gentofte</td>\n",
       "      <td>2017</td>\n",
       "      <td>45.44</td>\n",
       "      <td>44.09</td>\n",
       "      <td>1.35</td>\n",
       "    </tr>\n",
       "    <tr>\n",
       "      <td>Gentofte</td>\n",
       "      <td>2018</td>\n",
       "      <td>44.50</td>\n",
       "      <td>44.09</td>\n",
       "      <td>0.41</td>\n",
       "    </tr>\n",
       "  </tbody>\n",
       "</table>\n",
       "</div>"
      ],
      "text/plain": [
       "              year   gini  gini_mean  diff\n",
       "municipality                              \n",
       "Gentofte      2009  42.42      44.09 -1.67\n",
       "Gentofte      2010  43.42      44.09 -0.67\n",
       "Gentofte      2011  42.83      44.09 -1.26\n",
       "Gentofte      2012  42.13      44.09 -1.96\n",
       "Gentofte      2013  43.39      44.09 -0.70\n",
       "Gentofte      2014  43.98      44.09 -0.11\n",
       "Gentofte      2015  47.77      44.09  3.68\n",
       "Gentofte      2016  45.02      44.09  0.93\n",
       "Gentofte      2017  45.44      44.09  1.35\n",
       "Gentofte      2018  44.50      44.09  0.41"
      ]
     },
     "execution_count": 30,
     "metadata": {},
     "output_type": "execute_result"
    }
   ],
   "source": [
    "gini_mean.name = 'gini_mean'\n",
    "gini_test = gini_long.set_index('municipality').join(gini_mean, how='left')\n",
    "gini_test['diff'] = gini_test.gini - gini_mean\n",
    "#Måske er diff ikke relevant men noget andet hellere\n",
    "gini_test.xs('Gentofte')"
   ]
  },
  {
   "cell_type": "code",
   "execution_count": 31,
   "metadata": {},
   "outputs": [
    {
     "data": {
      "text/plain": [
       "<matplotlib.legend.Legend at 0x101ee49890>"
      ]
     },
     "execution_count": 31,
     "metadata": {},
     "output_type": "execute_result"
    },
    {
     "data": {
      "image/png": "[encoded data removed]",
      "text/plain": [
       "<Figure size 432x288 with 1 Axes>"
      ]
     },
     "metadata": {
      "needs_background": "light"
     },
     "output_type": "display_data"
    }
   ],
   "source": [
    "municipalities2 = ['København','Roskilde','Ishøj']\n",
    "\n",
    "fig = plt.figure()\n",
    "ax = fig.add_subplot(1,1,1)\n",
    "\n",
    "for m in municipalities2:\n",
    "    gini_test.xs(m).plot(x='year',y='gini_mean',ax=ax,label=m + ' Mean Gini')\n",
    "\n",
    "for m in municipalities2:\n",
    "    gini_test.xs(m).plot(x='year',y='gini',ax=ax,label=m + 'Gini')\n",
    "\n",
    "ax.legend(frameon=True)\n",
    "ax.set_ylabel('Gini')\n",
    "\n",
    "plt.legend(bbox_to_anchor=(1.05, 1), loc='upper left', borderaxespad=0.)"
   ]
  },
  {
   "cell_type": "markdown",
   "metadata": {},
   "source": [
    "# Analysis"
   ]
  },
  {
   "cell_type": "markdown",
   "metadata": {},
   "source": [
    "To get a quick overview of the data, we show some **summary statistics by year**:"
   ]
  },
  {
   "cell_type": "code",
   "execution_count": 32,
   "metadata": {},
   "outputs": [
    {
     "name": "stdout",
     "output_type": "stream",
     "text": [
      "       gini                    \n",
      "       mean   std    max    min\n",
      "year                           \n",
      "2009  25.28  3.24  42.42  20.40\n",
      "2010  25.50  3.43  43.42  21.65\n",
      "2011  25.48  3.27  42.83  20.94\n",
      "2012  25.11  3.27  42.13  20.71\n",
      "2013  25.50  3.43  43.39  21.51\n",
      "2014  25.73  3.65  43.98  21.44\n",
      "2015  26.04  3.91  47.77  22.03\n",
      "2016  26.38  3.73  45.02  22.50\n",
      "2017  26.58  3.74  45.44  21.63\n",
      "2018  26.40  3.58  44.50  22.88\n",
      "       gini                    \n",
      "       mean   std    max    min\n",
      "year                           \n",
      "2009  25.28  3.24  42.42  20.40\n",
      "2010  25.50  3.43  43.42  21.65\n",
      "2011  25.48  3.27  42.83  20.94\n",
      "2012  25.11  3.27  42.13  20.71\n",
      "2013  25.50  3.43  43.39  21.51\n",
      "2014  25.73  3.65  43.98  21.44\n",
      "2015  26.04  3.91  47.77  22.03\n",
      "2016  26.38  3.73  45.02  22.50\n",
      "2017  26.58  3.74  45.44  21.63\n",
      "2018  26.40  3.58  44.50  22.88\n",
      "        municipality  year   gini\n",
      "0        Hele landet  2009  26.74\n",
      "1          København  2009  29.38\n",
      "2      Frederiksberg  2009  30.33\n",
      "3             Dragør  2009  26.25\n",
      "4             Tårnby  2009  21.40\n",
      "..               ...   ...    ...\n",
      "985            Morsø  2018  24.96\n",
      "986           Rebild  2018  24.58\n",
      "987          Thisted  2018  24.78\n",
      "988  Vesthimmerlands  2018  24.84\n",
      "989          Aalborg  2018  28.70\n",
      "\n",
      "[990 rows x 3 columns]\n",
      "        municipality  year   wage\n",
      "0        Hele landet  2009  35734\n",
      "1          København  2009  36607\n",
      "2      Frederiksberg  2009  41119\n",
      "3             Dragør  2009  43215\n",
      "4             Tårnby  2009  36147\n",
      "..               ...   ...    ...\n",
      "985            Morsø  2018  35917\n",
      "986           Rebild  2018  40638\n",
      "987          Thisted  2018  36323\n",
      "988  Vesthimmerlands  2018  36487\n",
      "989          Aalborg  2018  40309\n",
      "\n",
      "[990 rows x 3 columns]\n",
      "           gini\n",
      "           mean\n",
      "year           \n",
      "2009  25.284040\n",
      "2010  25.501010\n",
      "2011  25.483838\n",
      "2012  25.105152\n",
      "2013  25.496970\n",
      "2014  25.732929\n",
      "2015  26.037475\n",
      "2016  26.383434\n",
      "2017  26.582020\n",
      "2018  26.398081\n"
     ]
    }
   ],
   "source": [
    "print(merged.groupby('year').agg(['mean','std','max','min']).round(2))\n",
    "print(gini_long.groupby('year').agg(['mean','std','max','min']).round(2))\n",
    "print(gini_long)\n",
    "print(wage_long)\n",
    "print(merged.groupby('year').agg(['mean']))"
   ]
  },
  {
   "cell_type": "code",
   "execution_count": 33,
   "metadata": {},
   "outputs": [
    {
     "name": "stdout",
     "output_type": "stream",
     "text": [
      "       gini                    \n",
      "       mean   std    max    min\n",
      "year                           \n",
      "2009  25.28  3.24  42.42  20.40\n",
      "2010  25.50  3.43  43.42  21.65\n",
      "2011  25.48  3.27  42.83  20.94\n",
      "2012  25.11  3.27  42.13  20.71\n",
      "2013  25.50  3.43  43.39  21.51\n",
      "2014  25.73  3.65  43.98  21.44\n",
      "2015  26.04  3.91  47.77  22.03\n",
      "2016  26.38  3.73  45.02  22.50\n",
      "2017  26.58  3.74  45.44  21.63\n",
      "2018  26.40  3.58  44.50  22.88\n"
     ]
    }
   ],
   "source": [
    "print(merged.groupby('year').agg(['mean','std','max','min']).round(2))\n"
   ]
  },
  {
   "cell_type": "code",
   "execution_count": null,
   "metadata": {},
   "outputs": [],
   "source": []
  },
  {
   "cell_type": "markdown",
   "metadata": {},
   "source": [
    "ADD FURTHER ANALYSIS. EXPLAIN THE CODE BRIEFLY AND SUMMARIZE THE RESULTS."
   ]
  },
  {
   "cell_type": "markdown",
   "metadata": {},
   "source": [
    "# Conclusion"
   ]
  },
  {
   "cell_type": "markdown",
   "metadata": {},
   "source": [
    "ADD CONCISE CONLUSION."
   ]
  }
 ],
 "metadata": {
  "kernelspec": {
   "display_name": "Python 3",
   "language": "python",
   "name": "python3"
  },
  "language_info": {
   "codemirror_mode": {
    "name": "ipython",
    "version": 3
   },
   "file_extension": ".py",
   "mimetype": "text/x-python",
   "name": "python",
   "nbconvert_exporter": "python",
   "pygments_lexer": "ipython3",
   "version": "3.7.4"
  },
  "toc-autonumbering": true
 },
 "nbformat": 4,
 "nbformat_minor": 4
}
