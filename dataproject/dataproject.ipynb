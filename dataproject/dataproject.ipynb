{
 "cells": [
  {
   "cell_type": "markdown",
   "metadata": {},
   "source": [
    "# YOUR PROJECT TITLE"
   ]
  },
  {
   "cell_type": "markdown",
   "metadata": {},
   "source": [
    "> **Note the following:** \n",
    "> 1. This is *not* meant to be an example of an actual **data analysis project**, just an example of how to structure such a project.\n",
    "> 1. Remember the general advice on structuring and commenting your code from [lecture 5](https://numeconcopenhagen.netlify.com/lectures/Workflow_and_debugging).\n",
    "> 1. Remember this [guide](https://www.markdownguide.org/basic-syntax/) on markdown and (a bit of) latex.\n",
    "> 1. Turn on automatic numbering by clicking on the small icon on top of the table of contents in the left sidebar.\n",
    "> 1. The `dataproject.py` file includes a function which will be used multiple times in this notebook."
   ]
  },
  {
   "cell_type": "markdown",
   "metadata": {},
   "source": [
    "Imports and set magics:"
   ]
  },
  {
   "cell_type": "code",
   "execution_count": 85,
   "metadata": {},
   "outputs": [
    {
     "output_type": "stream",
     "name": "stdout",
     "text": "The autoreload extension is already loaded. To reload it, use:\n  %reload_ext autoreload\n"
    }
   ],
   "source": [
    "import pandas as pd\n",
    "import matplotlib.pyplot as plt\n",
    "import ipywidgets as widgets\n",
    "from matplotlib_venn import venn2 # install with pip install matplotlib-venn\n",
    "\n",
    "# autoreload modules when code is run\n",
    "%load_ext autoreload\n",
    "%autoreload 2\n",
    "\n",
    "# local modules\n",
    "import dataproject"
   ]
  },
  {
   "cell_type": "markdown",
   "metadata": {},
   "source": []
  },
  {
   "cell_type": "markdown",
   "metadata": {
    "toc-hr-collapsed": true
   },
   "source": [
    "# Read and clean data"
   ]
  },
  {
   "cell_type": "markdown",
   "metadata": {},
   "source": [
    "## Wage"
   ]
  },
  {
   "cell_type": "markdown",
   "metadata": {},
   "source": [
    "**Read the Lonniveau data** in ``LIGELB1.xlsx`` and **clean it** removing and renaming columns:"
   ]
  },
  {
   "cell_type": "code",
   "execution_count": 102,
   "metadata": {},
   "outputs": [],
   "source": [
    "# a. load\n",
    "wage = pd.read_excel('LIGELB1.xlsx', skiprows=2)\n",
    "\n",
    "# b. drop columns\n",
    "drop_these = ['Unnamed: 0', 'Unnamed: 1', 'Unnamed: 2', 'Unnamed: 3']\n",
    "wage.drop(drop_these, axis=1, inplace=True)\n",
    "\n",
    "# c. rename columns\n",
    "wage.rename(columns = {'Unnamed: 4':'municipality'}, inplace=True)"
   ]
  },
  {
   "cell_type": "markdown",
   "metadata": {},
   "source": [
    "The dataset now looks like this:"
   ]
  },
  {
   "cell_type": "code",
   "execution_count": 103,
   "metadata": {},
   "outputs": [
    {
     "output_type": "execute_result",
     "data": {
      "text/plain": "    municipality   2009   2010   2011   2012   2013   2014   2015   2016  \\\n0    Hele landet  35734  36941  37527  38290  38708  39111  39763  40291   \n1      København  36607  37836  38595  39302  39863  40339  41190  41740   \n2  Frederiksberg  41119  42816  43450  44220  44873  45424  46297  47182   \n3         Dragør  43215  44832  46357  47181  47302  47961  49333  50410   \n4         Tårnby  36147  36811  38133  38332  38815  39284  39946  40575   \n\n    2017   2018  \n0  41144  41931  \n1  42894  43953  \n2  48321  49563  \n3  51451  52807  \n4  41559  42664  ",
      "text/html": "<div>\n<style scoped>\n    .dataframe tbody tr th:only-of-type {\n        vertical-align: middle;\n    }\n\n    .dataframe tbody tr th {\n        vertical-align: top;\n    }\n\n    .dataframe thead th {\n        text-align: right;\n    }\n</style>\n<table border=\"1\" class=\"dataframe\">\n  <thead>\n    <tr style=\"text-align: right;\">\n      <th></th>\n      <th>municipality</th>\n      <th>2009</th>\n      <th>2010</th>\n      <th>2011</th>\n      <th>2012</th>\n      <th>2013</th>\n      <th>2014</th>\n      <th>2015</th>\n      <th>2016</th>\n      <th>2017</th>\n      <th>2018</th>\n    </tr>\n  </thead>\n  <tbody>\n    <tr>\n      <td>0</td>\n      <td>Hele landet</td>\n      <td>35734</td>\n      <td>36941</td>\n      <td>37527</td>\n      <td>38290</td>\n      <td>38708</td>\n      <td>39111</td>\n      <td>39763</td>\n      <td>40291</td>\n      <td>41144</td>\n      <td>41931</td>\n    </tr>\n    <tr>\n      <td>1</td>\n      <td>København</td>\n      <td>36607</td>\n      <td>37836</td>\n      <td>38595</td>\n      <td>39302</td>\n      <td>39863</td>\n      <td>40339</td>\n      <td>41190</td>\n      <td>41740</td>\n      <td>42894</td>\n      <td>43953</td>\n    </tr>\n    <tr>\n      <td>2</td>\n      <td>Frederiksberg</td>\n      <td>41119</td>\n      <td>42816</td>\n      <td>43450</td>\n      <td>44220</td>\n      <td>44873</td>\n      <td>45424</td>\n      <td>46297</td>\n      <td>47182</td>\n      <td>48321</td>\n      <td>49563</td>\n    </tr>\n    <tr>\n      <td>3</td>\n      <td>Dragør</td>\n      <td>43215</td>\n      <td>44832</td>\n      <td>46357</td>\n      <td>47181</td>\n      <td>47302</td>\n      <td>47961</td>\n      <td>49333</td>\n      <td>50410</td>\n      <td>51451</td>\n      <td>52807</td>\n    </tr>\n    <tr>\n      <td>4</td>\n      <td>Tårnby</td>\n      <td>36147</td>\n      <td>36811</td>\n      <td>38133</td>\n      <td>38332</td>\n      <td>38815</td>\n      <td>39284</td>\n      <td>39946</td>\n      <td>40575</td>\n      <td>41559</td>\n      <td>42664</td>\n    </tr>\n  </tbody>\n</table>\n</div>"
     },
     "metadata": {},
     "execution_count": 103
    }
   ],
   "source": [
    "wage.head()"
   ]
  },
  {
   "cell_type": "markdown",
   "metadata": {},
   "source": [
    "**Remove all rows which are not municipalities**:"
   ]
  },
  {
   "cell_type": "code",
   "execution_count": 104,
   "metadata": {},
   "outputs": [
    {
     "output_type": "execute_result",
     "data": {
      "text/plain": "    municipality   2009   2010   2011   2012   2013   2014   2015   2016  \\\n0    Hele landet  35734  36941  37527  38290  38708  39111  39763  40291   \n1      København  36607  37836  38595  39302  39863  40339  41190  41740   \n2  Frederiksberg  41119  42816  43450  44220  44873  45424  46297  47182   \n3         Dragør  43215  44832  46357  47181  47302  47961  49333  50410   \n4         Tårnby  36147  36811  38133  38332  38815  39284  39946  40575   \n\n    2017   2018  \n0  41144  41931  \n1  42894  43953  \n2  48321  49563  \n3  51451  52807  \n4  41559  42664  ",
      "text/html": "<div>\n<style scoped>\n    .dataframe tbody tr th:only-of-type {\n        vertical-align: middle;\n    }\n\n    .dataframe tbody tr th {\n        vertical-align: top;\n    }\n\n    .dataframe thead th {\n        text-align: right;\n    }\n</style>\n<table border=\"1\" class=\"dataframe\">\n  <thead>\n    <tr style=\"text-align: right;\">\n      <th></th>\n      <th>municipality</th>\n      <th>2009</th>\n      <th>2010</th>\n      <th>2011</th>\n      <th>2012</th>\n      <th>2013</th>\n      <th>2014</th>\n      <th>2015</th>\n      <th>2016</th>\n      <th>2017</th>\n      <th>2018</th>\n    </tr>\n  </thead>\n  <tbody>\n    <tr>\n      <td>0</td>\n      <td>Hele landet</td>\n      <td>35734</td>\n      <td>36941</td>\n      <td>37527</td>\n      <td>38290</td>\n      <td>38708</td>\n      <td>39111</td>\n      <td>39763</td>\n      <td>40291</td>\n      <td>41144</td>\n      <td>41931</td>\n    </tr>\n    <tr>\n      <td>1</td>\n      <td>København</td>\n      <td>36607</td>\n      <td>37836</td>\n      <td>38595</td>\n      <td>39302</td>\n      <td>39863</td>\n      <td>40339</td>\n      <td>41190</td>\n      <td>41740</td>\n      <td>42894</td>\n      <td>43953</td>\n    </tr>\n    <tr>\n      <td>2</td>\n      <td>Frederiksberg</td>\n      <td>41119</td>\n      <td>42816</td>\n      <td>43450</td>\n      <td>44220</td>\n      <td>44873</td>\n      <td>45424</td>\n      <td>46297</td>\n      <td>47182</td>\n      <td>48321</td>\n      <td>49563</td>\n    </tr>\n    <tr>\n      <td>3</td>\n      <td>Dragør</td>\n      <td>43215</td>\n      <td>44832</td>\n      <td>46357</td>\n      <td>47181</td>\n      <td>47302</td>\n      <td>47961</td>\n      <td>49333</td>\n      <td>50410</td>\n      <td>51451</td>\n      <td>52807</td>\n    </tr>\n    <tr>\n      <td>4</td>\n      <td>Tårnby</td>\n      <td>36147</td>\n      <td>36811</td>\n      <td>38133</td>\n      <td>38332</td>\n      <td>38815</td>\n      <td>39284</td>\n      <td>39946</td>\n      <td>40575</td>\n      <td>41559</td>\n      <td>42664</td>\n    </tr>\n  </tbody>\n</table>\n</div>"
     },
     "metadata": {},
     "execution_count": 104
    }
   ],
   "source": [
    "wage = dataproject.only_keep_municipalities(wage)\n",
    "wage.head()"
   ]
  },
  {
   "cell_type": "markdown",
   "metadata": {},
   "source": [
    "**Convert the dataset to long format**:"
   ]
  },
  {
   "cell_type": "code",
   "execution_count": 105,
   "metadata": {},
   "outputs": [
    {
     "output_type": "execute_result",
     "data": {
      "text/plain": "    municipality  year   wage\n0    Hele landet  2009  35734\n1      København  2009  36607\n2  Frederiksberg  2009  41119\n3         Dragør  2009  43215\n4         Tårnby  2009  36147",
      "text/html": "<div>\n<style scoped>\n    .dataframe tbody tr th:only-of-type {\n        vertical-align: middle;\n    }\n\n    .dataframe tbody tr th {\n        vertical-align: top;\n    }\n\n    .dataframe thead th {\n        text-align: right;\n    }\n</style>\n<table border=\"1\" class=\"dataframe\">\n  <thead>\n    <tr style=\"text-align: right;\">\n      <th></th>\n      <th>municipality</th>\n      <th>year</th>\n      <th>wage</th>\n    </tr>\n  </thead>\n  <tbody>\n    <tr>\n      <td>0</td>\n      <td>Hele landet</td>\n      <td>2009</td>\n      <td>35734</td>\n    </tr>\n    <tr>\n      <td>1</td>\n      <td>København</td>\n      <td>2009</td>\n      <td>36607</td>\n    </tr>\n    <tr>\n      <td>2</td>\n      <td>Frederiksberg</td>\n      <td>2009</td>\n      <td>41119</td>\n    </tr>\n    <tr>\n      <td>3</td>\n      <td>Dragør</td>\n      <td>2009</td>\n      <td>43215</td>\n    </tr>\n    <tr>\n      <td>4</td>\n      <td>Tårnby</td>\n      <td>2009</td>\n      <td>36147</td>\n    </tr>\n  </tbody>\n</table>\n</div>"
     },
     "metadata": {},
     "execution_count": 105
    }
   ],
   "source": [
    "# a. rename year columns\n",
    "mydict = {str(i):f'wage{i}' for i in range(2009,2019)}\n",
    "wage.rename(columns = mydict, inplace=True)\n",
    "\n",
    "# b. convert to long\n",
    "wage_long = pd.wide_to_long(wage, stubnames='wage', i='municipality', j='year').reset_index()\n",
    "\n",
    "# c. show\n",
    "wage_long.head()"
   ]
  },
  {
   "cell_type": "code",
   "execution_count": null,
   "metadata": {},
   "outputs": [],
   "source": []
  },
  {
   "cell_type": "markdown",
   "metadata": {},
   "source": [
    "## Gini"
   ]
  },
  {
   "cell_type": "code",
   "execution_count": 106,
   "metadata": {},
   "outputs": [],
   "source": [
    "# a. load\n",
    "gini = pd.read_excel('IFOR41.xlsx', skiprows=2)\n",
    "\n",
    "# b. drop columns\n",
    "drop_these = ['Unnamed: 0']\n",
    "gini.drop(drop_these, axis=1, inplace=True)\n",
    "\n",
    "# c. rename columns\n",
    "gini.rename(columns = {'Unnamed: 1':'municipality'}, inplace=True)"
   ]
  },
  {
   "cell_type": "code",
   "execution_count": 91,
   "metadata": {},
   "outputs": [
    {
     "output_type": "execute_result",
     "data": {
      "text/plain": "    municipality   2009   2010   2011   2012   2013   2014   2015   2016  \\\n0    Hele landet  26.74  27.47  27.68  27.37  27.88  28.33  28.77  28.97   \n1      København  29.38  31.44  31.38  31.25  31.86  32.13  32.70  33.24   \n2  Frederiksberg  30.33  32.93  33.22  33.53  33.92  34.98  34.37  34.85   \n3         Dragør  26.25  26.93  28.86  25.95  26.75  27.03  27.40  28.08   \n4         Tårnby  21.40  22.80  23.42  22.77  22.86  22.89  23.32  23.66   \n\n    2017   2018  \n0  29.32  29.10  \n1  33.65  33.71  \n2  35.71  35.42  \n3  27.88  27.55  \n4  23.95  23.95  ",
      "text/html": "<div>\n<style scoped>\n    .dataframe tbody tr th:only-of-type {\n        vertical-align: middle;\n    }\n\n    .dataframe tbody tr th {\n        vertical-align: top;\n    }\n\n    .dataframe thead th {\n        text-align: right;\n    }\n</style>\n<table border=\"1\" class=\"dataframe\">\n  <thead>\n    <tr style=\"text-align: right;\">\n      <th></th>\n      <th>municipality</th>\n      <th>2009</th>\n      <th>2010</th>\n      <th>2011</th>\n      <th>2012</th>\n      <th>2013</th>\n      <th>2014</th>\n      <th>2015</th>\n      <th>2016</th>\n      <th>2017</th>\n      <th>2018</th>\n    </tr>\n  </thead>\n  <tbody>\n    <tr>\n      <td>0</td>\n      <td>Hele landet</td>\n      <td>26.74</td>\n      <td>27.47</td>\n      <td>27.68</td>\n      <td>27.37</td>\n      <td>27.88</td>\n      <td>28.33</td>\n      <td>28.77</td>\n      <td>28.97</td>\n      <td>29.32</td>\n      <td>29.10</td>\n    </tr>\n    <tr>\n      <td>1</td>\n      <td>København</td>\n      <td>29.38</td>\n      <td>31.44</td>\n      <td>31.38</td>\n      <td>31.25</td>\n      <td>31.86</td>\n      <td>32.13</td>\n      <td>32.70</td>\n      <td>33.24</td>\n      <td>33.65</td>\n      <td>33.71</td>\n    </tr>\n    <tr>\n      <td>2</td>\n      <td>Frederiksberg</td>\n      <td>30.33</td>\n      <td>32.93</td>\n      <td>33.22</td>\n      <td>33.53</td>\n      <td>33.92</td>\n      <td>34.98</td>\n      <td>34.37</td>\n      <td>34.85</td>\n      <td>35.71</td>\n      <td>35.42</td>\n    </tr>\n    <tr>\n      <td>3</td>\n      <td>Dragør</td>\n      <td>26.25</td>\n      <td>26.93</td>\n      <td>28.86</td>\n      <td>25.95</td>\n      <td>26.75</td>\n      <td>27.03</td>\n      <td>27.40</td>\n      <td>28.08</td>\n      <td>27.88</td>\n      <td>27.55</td>\n    </tr>\n    <tr>\n      <td>4</td>\n      <td>Tårnby</td>\n      <td>21.40</td>\n      <td>22.80</td>\n      <td>23.42</td>\n      <td>22.77</td>\n      <td>22.86</td>\n      <td>22.89</td>\n      <td>23.32</td>\n      <td>23.66</td>\n      <td>23.95</td>\n      <td>23.95</td>\n    </tr>\n  </tbody>\n</table>\n</div>"
     },
     "metadata": {},
     "execution_count": 91
    }
   ],
   "source": [
    "gini.head()"
   ]
  },
  {
   "cell_type": "code",
   "execution_count": 107,
   "metadata": {},
   "outputs": [
    {
     "output_type": "execute_result",
     "data": {
      "text/plain": "    municipality   2009   2010   2011   2012   2013   2014   2015   2016  \\\n0    Hele landet  26.74  27.47  27.68  27.37  27.88  28.33  28.77  28.97   \n1      København  29.38  31.44  31.38  31.25  31.86  32.13  32.70  33.24   \n2  Frederiksberg  30.33  32.93  33.22  33.53  33.92  34.98  34.37  34.85   \n3         Dragør  26.25  26.93  28.86  25.95  26.75  27.03  27.40  28.08   \n4         Tårnby  21.40  22.80  23.42  22.77  22.86  22.89  23.32  23.66   \n\n    2017   2018  \n0  29.32  29.10  \n1  33.65  33.71  \n2  35.71  35.42  \n3  27.88  27.55  \n4  23.95  23.95  ",
      "text/html": "<div>\n<style scoped>\n    .dataframe tbody tr th:only-of-type {\n        vertical-align: middle;\n    }\n\n    .dataframe tbody tr th {\n        vertical-align: top;\n    }\n\n    .dataframe thead th {\n        text-align: right;\n    }\n</style>\n<table border=\"1\" class=\"dataframe\">\n  <thead>\n    <tr style=\"text-align: right;\">\n      <th></th>\n      <th>municipality</th>\n      <th>2009</th>\n      <th>2010</th>\n      <th>2011</th>\n      <th>2012</th>\n      <th>2013</th>\n      <th>2014</th>\n      <th>2015</th>\n      <th>2016</th>\n      <th>2017</th>\n      <th>2018</th>\n    </tr>\n  </thead>\n  <tbody>\n    <tr>\n      <td>0</td>\n      <td>Hele landet</td>\n      <td>26.74</td>\n      <td>27.47</td>\n      <td>27.68</td>\n      <td>27.37</td>\n      <td>27.88</td>\n      <td>28.33</td>\n      <td>28.77</td>\n      <td>28.97</td>\n      <td>29.32</td>\n      <td>29.10</td>\n    </tr>\n    <tr>\n      <td>1</td>\n      <td>København</td>\n      <td>29.38</td>\n      <td>31.44</td>\n      <td>31.38</td>\n      <td>31.25</td>\n      <td>31.86</td>\n      <td>32.13</td>\n      <td>32.70</td>\n      <td>33.24</td>\n      <td>33.65</td>\n      <td>33.71</td>\n    </tr>\n    <tr>\n      <td>2</td>\n      <td>Frederiksberg</td>\n      <td>30.33</td>\n      <td>32.93</td>\n      <td>33.22</td>\n      <td>33.53</td>\n      <td>33.92</td>\n      <td>34.98</td>\n      <td>34.37</td>\n      <td>34.85</td>\n      <td>35.71</td>\n      <td>35.42</td>\n    </tr>\n    <tr>\n      <td>3</td>\n      <td>Dragør</td>\n      <td>26.25</td>\n      <td>26.93</td>\n      <td>28.86</td>\n      <td>25.95</td>\n      <td>26.75</td>\n      <td>27.03</td>\n      <td>27.40</td>\n      <td>28.08</td>\n      <td>27.88</td>\n      <td>27.55</td>\n    </tr>\n    <tr>\n      <td>4</td>\n      <td>Tårnby</td>\n      <td>21.40</td>\n      <td>22.80</td>\n      <td>23.42</td>\n      <td>22.77</td>\n      <td>22.86</td>\n      <td>22.89</td>\n      <td>23.32</td>\n      <td>23.66</td>\n      <td>23.95</td>\n      <td>23.95</td>\n    </tr>\n  </tbody>\n</table>\n</div>"
     },
     "metadata": {},
     "execution_count": 107
    }
   ],
   "source": [
    "gini = dataproject.only_keep_municipalities(gini)\n",
    "gini.head()"
   ]
  },
  {
   "cell_type": "markdown",
   "metadata": {},
   "source": [
    "**Convert the dataset to long format**:"
   ]
  },
  {
   "cell_type": "code",
   "execution_count": 110,
   "metadata": {},
   "outputs": [
    {
     "output_type": "execute_result",
     "data": {
      "text/plain": "    municipality  year   gini\n0    Hele landet  2009  26.74\n1      København  2009  29.38\n2  Frederiksberg  2009  30.33\n3         Dragør  2009  26.25\n4         Tårnby  2009  21.40",
      "text/html": "<div>\n<style scoped>\n    .dataframe tbody tr th:only-of-type {\n        vertical-align: middle;\n    }\n\n    .dataframe tbody tr th {\n        vertical-align: top;\n    }\n\n    .dataframe thead th {\n        text-align: right;\n    }\n</style>\n<table border=\"1\" class=\"dataframe\">\n  <thead>\n    <tr style=\"text-align: right;\">\n      <th></th>\n      <th>municipality</th>\n      <th>year</th>\n      <th>gini</th>\n    </tr>\n  </thead>\n  <tbody>\n    <tr>\n      <td>0</td>\n      <td>Hele landet</td>\n      <td>2009</td>\n      <td>26.74</td>\n    </tr>\n    <tr>\n      <td>1</td>\n      <td>København</td>\n      <td>2009</td>\n      <td>29.38</td>\n    </tr>\n    <tr>\n      <td>2</td>\n      <td>Frederiksberg</td>\n      <td>2009</td>\n      <td>30.33</td>\n    </tr>\n    <tr>\n      <td>3</td>\n      <td>Dragør</td>\n      <td>2009</td>\n      <td>26.25</td>\n    </tr>\n    <tr>\n      <td>4</td>\n      <td>Tårnby</td>\n      <td>2009</td>\n      <td>21.40</td>\n    </tr>\n  </tbody>\n</table>\n</div>"
     },
     "metadata": {},
     "execution_count": 110
    }
   ],
   "source": [
    "# a. rename year columns\n",
    "mydict1 = {str(k):f'gini{k}' for k in range(2009,2020)}\n",
    "gini.rename(columns = mydict1, inplace=True)\n",
    "\n",
    "# b. convert to long\n",
    "gini_long = pd.wide_to_long(gini, stubnames='gini', i='municipality', j='year').reset_index()\n",
    "\n",
    "# c. show\n",
    "gini_long.head()"
   ]
  },
  {
   "cell_type": "markdown",
   "metadata": {},
   "source": [
    "## Explore data set"
   ]
  },
  {
   "cell_type": "markdown",
   "metadata": {},
   "source": [
    "In order to be able to **explore the raw data**, we here provide an **interactive plot** to show, respectively, the employment and income level in each municipality"
   ]
  },
  {
   "cell_type": "markdown",
   "metadata": {},
   "source": [
    "The **static plot** is:"
   ]
  },
  {
   "cell_type": "code",
   "execution_count": 111,
   "metadata": {},
   "outputs": [],
   "source": [
    "def plot_wage_gini(wage,gini,dataset,municipality): \n",
    "    \n",
    "    if dataset == 'wage':\n",
    "        df = wage\n",
    "        y = 'wage'\n",
    "    else:\n",
    "        df = gini\n",
    "        y = 'gini'\n",
    "    \n",
    "    I = df['municipality'] == municipality\n",
    "    ax = df.loc[I,:].plot(x='year', y=y, style='-o')"
   ]
  },
  {
   "cell_type": "markdown",
   "metadata": {},
   "source": [
    "The **interactive plot** is:"
   ]
  },
  {
   "cell_type": "code",
   "execution_count": 112,
   "metadata": {},
   "outputs": [
    {
     "output_type": "display_data",
     "data": {
      "text/plain": "<Figure size 432x288 with 1 Axes>",
      "image/svg+xml": "<?xml version=\"1.0\" encoding=\"utf-8\" standalone=\"no\"?>\n<!DOCTYPE svg PUBLIC \"-//W3C//DTD SVG 1.1//EN\"\n  \"http://www.w3.org/Graphics/SVG/1.1/DTD/svg11.dtd\">\n<!-- Created with matplotlib (http://matplotlib.org/) -->\n<svg height=\"265.69625pt\" version=\"1.1\" viewBox=\"0 0 400.7375 265.69625\" width=\"400.7375pt\" xmlns=\"http://www.w3.org/2000/svg\" xmlns:xlink=\"http://www.w3.org/1999/xlink\">\n <defs>\n  <style type=\"text/css\">\n*{stroke-linecap:butt;stroke-linejoin:round;}\n  </style>\n </defs>\n <g id=\"figure_1\">\n  <g id=\"patch_1\">\n   <path d=\"M 0 265.69625 \nL 400.7375 265.69625 \nL 400.7375 0 \nL 0 0 \nz\n\" style=\"fill:none;\"/>\n  </g>\n  <g id=\"axes_1\">\n   <g id=\"patch_2\">\n    <path d=\"M 46.0125 228.14 \nL 380.8125 228.14 \nL 380.8125 10.7 \nL 46.0125 10.7 \nz\n\" style=\"fill:#ffffff;\"/>\n   </g>\n   <g id=\"matplotlib.axis_1\">\n    <g id=\"xtick_1\">\n     <g id=\"line2d_1\">\n      <defs>\n       <path d=\"M 0 0 \nL 0 3.5 \n\" id=\"m5c3eb8415a\" style=\"stroke:#000000;stroke-width:0.8;\"/>\n      </defs>\n      <g>\n       <use style=\"stroke:#000000;stroke-width:0.8;\" x=\"46.0125\" xlink:href=\"#m5c3eb8415a\" y=\"228.14\"/>\n      </g>\n     </g>\n     <g id=\"text_1\">\n      <!-- 2009 -->\n      <defs>\n       <path d=\"M 19.1875 8.296875 \nL 53.609375 8.296875 \nL 53.609375 0 \nL 7.328125 0 \nL 7.328125 8.296875 \nQ 12.9375 14.109375 22.625 23.890625 \nQ 32.328125 33.6875 34.8125 36.53125 \nQ 39.546875 41.84375 41.421875 45.53125 \nQ 43.3125 49.21875 43.3125 52.78125 \nQ 43.3125 58.59375 39.234375 62.25 \nQ 35.15625 65.921875 28.609375 65.921875 \nQ 23.96875 65.921875 18.8125 64.3125 \nQ 13.671875 62.703125 7.8125 59.421875 \nL 7.8125 69.390625 \nQ 13.765625 71.78125 18.9375 73 \nQ 24.125 74.21875 28.421875 74.21875 \nQ 39.75 74.21875 46.484375 68.546875 \nQ 53.21875 62.890625 53.21875 53.421875 \nQ 53.21875 48.921875 51.53125 44.890625 \nQ 49.859375 40.875 45.40625 35.40625 \nQ 44.1875 33.984375 37.640625 27.21875 \nQ 31.109375 20.453125 19.1875 8.296875 \nz\n\" id=\"DejaVuSans-32\"/>\n       <path d=\"M 31.78125 66.40625 \nQ 24.171875 66.40625 20.328125 58.90625 \nQ 16.5 51.421875 16.5 36.375 \nQ 16.5 21.390625 20.328125 13.890625 \nQ 24.171875 6.390625 31.78125 6.390625 \nQ 39.453125 6.390625 43.28125 13.890625 \nQ 47.125 21.390625 47.125 36.375 \nQ 47.125 51.421875 43.28125 58.90625 \nQ 39.453125 66.40625 31.78125 66.40625 \nz\nM 31.78125 74.21875 \nQ 44.046875 74.21875 50.515625 64.515625 \nQ 56.984375 54.828125 56.984375 36.375 \nQ 56.984375 17.96875 50.515625 8.265625 \nQ 44.046875 -1.421875 31.78125 -1.421875 \nQ 19.53125 -1.421875 13.0625 8.265625 \nQ 6.59375 17.96875 6.59375 36.375 \nQ 6.59375 54.828125 13.0625 64.515625 \nQ 19.53125 74.21875 31.78125 74.21875 \nz\n\" id=\"DejaVuSans-30\"/>\n       <path d=\"M 10.984375 1.515625 \nL 10.984375 10.5 \nQ 14.703125 8.734375 18.5 7.8125 \nQ 22.3125 6.890625 25.984375 6.890625 \nQ 35.75 6.890625 40.890625 13.453125 \nQ 46.046875 20.015625 46.78125 33.40625 \nQ 43.953125 29.203125 39.59375 26.953125 \nQ 35.25 24.703125 29.984375 24.703125 \nQ 19.046875 24.703125 12.671875 31.3125 \nQ 6.296875 37.9375 6.296875 49.421875 \nQ 6.296875 60.640625 12.9375 67.421875 \nQ 19.578125 74.21875 30.609375 74.21875 \nQ 43.265625 74.21875 49.921875 64.515625 \nQ 56.59375 54.828125 56.59375 36.375 \nQ 56.59375 19.140625 48.40625 8.859375 \nQ 40.234375 -1.421875 26.421875 -1.421875 \nQ 22.703125 -1.421875 18.890625 -0.6875 \nQ 15.09375 0.046875 10.984375 1.515625 \nz\nM 30.609375 32.421875 \nQ 37.25 32.421875 41.125 36.953125 \nQ 45.015625 41.5 45.015625 49.421875 \nQ 45.015625 57.28125 41.125 61.84375 \nQ 37.25 66.40625 30.609375 66.40625 \nQ 23.96875 66.40625 20.09375 61.84375 \nQ 16.21875 57.28125 16.21875 49.421875 \nQ 16.21875 41.5 20.09375 36.953125 \nQ 23.96875 32.421875 30.609375 32.421875 \nz\n\" id=\"DejaVuSans-39\"/>\n      </defs>\n      <g transform=\"translate(33.2875 242.738437)scale(0.1 -0.1)\">\n       <use xlink:href=\"#DejaVuSans-32\"/>\n       <use x=\"63.623047\" xlink:href=\"#DejaVuSans-30\"/>\n       <use x=\"127.246094\" xlink:href=\"#DejaVuSans-30\"/>\n       <use x=\"190.869141\" xlink:href=\"#DejaVuSans-39\"/>\n      </g>\n     </g>\n    </g>\n    <g id=\"xtick_2\">\n     <g id=\"line2d_2\">\n      <g>\n       <use style=\"stroke:#000000;stroke-width:0.8;\" x=\"83.2125\" xlink:href=\"#m5c3eb8415a\" y=\"228.14\"/>\n      </g>\n     </g>\n     <g id=\"text_2\">\n      <!-- 2010 -->\n      <defs>\n       <path d=\"M 12.40625 8.296875 \nL 28.515625 8.296875 \nL 28.515625 63.921875 \nL 10.984375 60.40625 \nL 10.984375 69.390625 \nL 28.421875 72.90625 \nL 38.28125 72.90625 \nL 38.28125 8.296875 \nL 54.390625 8.296875 \nL 54.390625 0 \nL 12.40625 0 \nz\n\" id=\"DejaVuSans-31\"/>\n      </defs>\n      <g transform=\"translate(70.4875 242.738437)scale(0.1 -0.1)\">\n       <use xlink:href=\"#DejaVuSans-32\"/>\n       <use x=\"63.623047\" xlink:href=\"#DejaVuSans-30\"/>\n       <use x=\"127.246094\" xlink:href=\"#DejaVuSans-31\"/>\n       <use x=\"190.869141\" xlink:href=\"#DejaVuSans-30\"/>\n      </g>\n     </g>\n    </g>\n    <g id=\"xtick_3\">\n     <g id=\"line2d_3\">\n      <g>\n       <use style=\"stroke:#000000;stroke-width:0.8;\" x=\"120.4125\" xlink:href=\"#m5c3eb8415a\" y=\"228.14\"/>\n      </g>\n     </g>\n     <g id=\"text_3\">\n      <!-- 2011 -->\n      <g transform=\"translate(107.6875 242.738437)scale(0.1 -0.1)\">\n       <use xlink:href=\"#DejaVuSans-32\"/>\n       <use x=\"63.623047\" xlink:href=\"#DejaVuSans-30\"/>\n       <use x=\"127.246094\" xlink:href=\"#DejaVuSans-31\"/>\n       <use x=\"190.869141\" xlink:href=\"#DejaVuSans-31\"/>\n      </g>\n     </g>\n    </g>\n    <g id=\"xtick_4\">\n     <g id=\"line2d_4\">\n      <g>\n       <use style=\"stroke:#000000;stroke-width:0.8;\" x=\"157.6125\" xlink:href=\"#m5c3eb8415a\" y=\"228.14\"/>\n      </g>\n     </g>\n     <g id=\"text_4\">\n      <!-- 2012 -->\n      <g transform=\"translate(144.8875 242.738437)scale(0.1 -0.1)\">\n       <use xlink:href=\"#DejaVuSans-32\"/>\n       <use x=\"63.623047\" xlink:href=\"#DejaVuSans-30\"/>\n       <use x=\"127.246094\" xlink:href=\"#DejaVuSans-31\"/>\n       <use x=\"190.869141\" xlink:href=\"#DejaVuSans-32\"/>\n      </g>\n     </g>\n    </g>\n    <g id=\"xtick_5\">\n     <g id=\"line2d_5\">\n      <g>\n       <use style=\"stroke:#000000;stroke-width:0.8;\" x=\"194.8125\" xlink:href=\"#m5c3eb8415a\" y=\"228.14\"/>\n      </g>\n     </g>\n     <g id=\"text_5\">\n      <!-- 2013 -->\n      <defs>\n       <path d=\"M 40.578125 39.3125 \nQ 47.65625 37.796875 51.625 33 \nQ 55.609375 28.21875 55.609375 21.1875 \nQ 55.609375 10.40625 48.1875 4.484375 \nQ 40.765625 -1.421875 27.09375 -1.421875 \nQ 22.515625 -1.421875 17.65625 -0.515625 \nQ 12.796875 0.390625 7.625 2.203125 \nL 7.625 11.71875 \nQ 11.71875 9.328125 16.59375 8.109375 \nQ 21.484375 6.890625 26.8125 6.890625 \nQ 36.078125 6.890625 40.9375 10.546875 \nQ 45.796875 14.203125 45.796875 21.1875 \nQ 45.796875 27.640625 41.28125 31.265625 \nQ 36.765625 34.90625 28.71875 34.90625 \nL 20.21875 34.90625 \nL 20.21875 43.015625 \nL 29.109375 43.015625 \nQ 36.375 43.015625 40.234375 45.921875 \nQ 44.09375 48.828125 44.09375 54.296875 \nQ 44.09375 59.90625 40.109375 62.90625 \nQ 36.140625 65.921875 28.71875 65.921875 \nQ 24.65625 65.921875 20.015625 65.03125 \nQ 15.375 64.15625 9.8125 62.3125 \nL 9.8125 71.09375 \nQ 15.4375 72.65625 20.34375 73.4375 \nQ 25.25 74.21875 29.59375 74.21875 \nQ 40.828125 74.21875 47.359375 69.109375 \nQ 53.90625 64.015625 53.90625 55.328125 \nQ 53.90625 49.265625 50.4375 45.09375 \nQ 46.96875 40.921875 40.578125 39.3125 \nz\n\" id=\"DejaVuSans-33\"/>\n      </defs>\n      <g transform=\"translate(182.0875 242.738437)scale(0.1 -0.1)\">\n       <use xlink:href=\"#DejaVuSans-32\"/>\n       <use x=\"63.623047\" xlink:href=\"#DejaVuSans-30\"/>\n       <use x=\"127.246094\" xlink:href=\"#DejaVuSans-31\"/>\n       <use x=\"190.869141\" xlink:href=\"#DejaVuSans-33\"/>\n      </g>\n     </g>\n    </g>\n    <g id=\"xtick_6\">\n     <g id=\"line2d_6\">\n      <g>\n       <use style=\"stroke:#000000;stroke-width:0.8;\" x=\"232.0125\" xlink:href=\"#m5c3eb8415a\" y=\"228.14\"/>\n      </g>\n     </g>\n     <g id=\"text_6\">\n      <!-- 2014 -->\n      <defs>\n       <path d=\"M 37.796875 64.3125 \nL 12.890625 25.390625 \nL 37.796875 25.390625 \nz\nM 35.203125 72.90625 \nL 47.609375 72.90625 \nL 47.609375 25.390625 \nL 58.015625 25.390625 \nL 58.015625 17.1875 \nL 47.609375 17.1875 \nL 47.609375 0 \nL 37.796875 0 \nL 37.796875 17.1875 \nL 4.890625 17.1875 \nL 4.890625 26.703125 \nz\n\" id=\"DejaVuSans-34\"/>\n      </defs>\n      <g transform=\"translate(219.2875 242.738437)scale(0.1 -0.1)\">\n       <use xlink:href=\"#DejaVuSans-32\"/>\n       <use x=\"63.623047\" xlink:href=\"#DejaVuSans-30\"/>\n       <use x=\"127.246094\" xlink:href=\"#DejaVuSans-31\"/>\n       <use x=\"190.869141\" xlink:href=\"#DejaVuSans-34\"/>\n      </g>\n     </g>\n    </g>\n    <g id=\"xtick_7\">\n     <g id=\"line2d_7\">\n      <g>\n       <use style=\"stroke:#000000;stroke-width:0.8;\" x=\"269.2125\" xlink:href=\"#m5c3eb8415a\" y=\"228.14\"/>\n      </g>\n     </g>\n     <g id=\"text_7\">\n      <!-- 2015 -->\n      <defs>\n       <path d=\"M 10.796875 72.90625 \nL 49.515625 72.90625 \nL 49.515625 64.59375 \nL 19.828125 64.59375 \nL 19.828125 46.734375 \nQ 21.96875 47.46875 24.109375 47.828125 \nQ 26.265625 48.1875 28.421875 48.1875 \nQ 40.625 48.1875 47.75 41.5 \nQ 54.890625 34.8125 54.890625 23.390625 \nQ 54.890625 11.625 47.5625 5.09375 \nQ 40.234375 -1.421875 26.90625 -1.421875 \nQ 22.3125 -1.421875 17.546875 -0.640625 \nQ 12.796875 0.140625 7.71875 1.703125 \nL 7.71875 11.625 \nQ 12.109375 9.234375 16.796875 8.0625 \nQ 21.484375 6.890625 26.703125 6.890625 \nQ 35.15625 6.890625 40.078125 11.328125 \nQ 45.015625 15.765625 45.015625 23.390625 \nQ 45.015625 31 40.078125 35.4375 \nQ 35.15625 39.890625 26.703125 39.890625 \nQ 22.75 39.890625 18.8125 39.015625 \nQ 14.890625 38.140625 10.796875 36.28125 \nz\n\" id=\"DejaVuSans-35\"/>\n      </defs>\n      <g transform=\"translate(256.4875 242.738437)scale(0.1 -0.1)\">\n       <use xlink:href=\"#DejaVuSans-32\"/>\n       <use x=\"63.623047\" xlink:href=\"#DejaVuSans-30\"/>\n       <use x=\"127.246094\" xlink:href=\"#DejaVuSans-31\"/>\n       <use x=\"190.869141\" xlink:href=\"#DejaVuSans-35\"/>\n      </g>\n     </g>\n    </g>\n    <g id=\"xtick_8\">\n     <g id=\"line2d_8\">\n      <g>\n       <use style=\"stroke:#000000;stroke-width:0.8;\" x=\"306.4125\" xlink:href=\"#m5c3eb8415a\" y=\"228.14\"/>\n      </g>\n     </g>\n     <g id=\"text_8\">\n      <!-- 2016 -->\n      <defs>\n       <path d=\"M 33.015625 40.375 \nQ 26.375 40.375 22.484375 35.828125 \nQ 18.609375 31.296875 18.609375 23.390625 \nQ 18.609375 15.53125 22.484375 10.953125 \nQ 26.375 6.390625 33.015625 6.390625 \nQ 39.65625 6.390625 43.53125 10.953125 \nQ 47.40625 15.53125 47.40625 23.390625 \nQ 47.40625 31.296875 43.53125 35.828125 \nQ 39.65625 40.375 33.015625 40.375 \nz\nM 52.59375 71.296875 \nL 52.59375 62.3125 \nQ 48.875 64.0625 45.09375 64.984375 \nQ 41.3125 65.921875 37.59375 65.921875 \nQ 27.828125 65.921875 22.671875 59.328125 \nQ 17.53125 52.734375 16.796875 39.40625 \nQ 19.671875 43.65625 24.015625 45.921875 \nQ 28.375 48.1875 33.59375 48.1875 \nQ 44.578125 48.1875 50.953125 41.515625 \nQ 57.328125 34.859375 57.328125 23.390625 \nQ 57.328125 12.15625 50.6875 5.359375 \nQ 44.046875 -1.421875 33.015625 -1.421875 \nQ 20.359375 -1.421875 13.671875 8.265625 \nQ 6.984375 17.96875 6.984375 36.375 \nQ 6.984375 53.65625 15.1875 63.9375 \nQ 23.390625 74.21875 37.203125 74.21875 \nQ 40.921875 74.21875 44.703125 73.484375 \nQ 48.484375 72.75 52.59375 71.296875 \nz\n\" id=\"DejaVuSans-36\"/>\n      </defs>\n      <g transform=\"translate(293.6875 242.738437)scale(0.1 -0.1)\">\n       <use xlink:href=\"#DejaVuSans-32\"/>\n       <use x=\"63.623047\" xlink:href=\"#DejaVuSans-30\"/>\n       <use x=\"127.246094\" xlink:href=\"#DejaVuSans-31\"/>\n       <use x=\"190.869141\" xlink:href=\"#DejaVuSans-36\"/>\n      </g>\n     </g>\n    </g>\n    <g id=\"xtick_9\">\n     <g id=\"line2d_9\">\n      <g>\n       <use style=\"stroke:#000000;stroke-width:0.8;\" x=\"343.6125\" xlink:href=\"#m5c3eb8415a\" y=\"228.14\"/>\n      </g>\n     </g>\n     <g id=\"text_9\">\n      <!-- 2017 -->\n      <defs>\n       <path d=\"M 8.203125 72.90625 \nL 55.078125 72.90625 \nL 55.078125 68.703125 \nL 28.609375 0 \nL 18.3125 0 \nL 43.21875 64.59375 \nL 8.203125 64.59375 \nz\n\" id=\"DejaVuSans-37\"/>\n      </defs>\n      <g transform=\"translate(330.8875 242.738437)scale(0.1 -0.1)\">\n       <use xlink:href=\"#DejaVuSans-32\"/>\n       <use x=\"63.623047\" xlink:href=\"#DejaVuSans-30\"/>\n       <use x=\"127.246094\" xlink:href=\"#DejaVuSans-31\"/>\n       <use x=\"190.869141\" xlink:href=\"#DejaVuSans-37\"/>\n      </g>\n     </g>\n    </g>\n    <g id=\"xtick_10\">\n     <g id=\"line2d_10\">\n      <g>\n       <use style=\"stroke:#000000;stroke-width:0.8;\" x=\"380.8125\" xlink:href=\"#m5c3eb8415a\" y=\"228.14\"/>\n      </g>\n     </g>\n     <g id=\"text_10\">\n      <!-- 2018 -->\n      <defs>\n       <path d=\"M 31.78125 34.625 \nQ 24.75 34.625 20.71875 30.859375 \nQ 16.703125 27.09375 16.703125 20.515625 \nQ 16.703125 13.921875 20.71875 10.15625 \nQ 24.75 6.390625 31.78125 6.390625 \nQ 38.8125 6.390625 42.859375 10.171875 \nQ 46.921875 13.96875 46.921875 20.515625 \nQ 46.921875 27.09375 42.890625 30.859375 \nQ 38.875 34.625 31.78125 34.625 \nz\nM 21.921875 38.8125 \nQ 15.578125 40.375 12.03125 44.71875 \nQ 8.5 49.078125 8.5 55.328125 \nQ 8.5 64.0625 14.71875 69.140625 \nQ 20.953125 74.21875 31.78125 74.21875 \nQ 42.671875 74.21875 48.875 69.140625 \nQ 55.078125 64.0625 55.078125 55.328125 \nQ 55.078125 49.078125 51.53125 44.71875 \nQ 48 40.375 41.703125 38.8125 \nQ 48.828125 37.15625 52.796875 32.3125 \nQ 56.78125 27.484375 56.78125 20.515625 \nQ 56.78125 9.90625 50.3125 4.234375 \nQ 43.84375 -1.421875 31.78125 -1.421875 \nQ 19.734375 -1.421875 13.25 4.234375 \nQ 6.78125 9.90625 6.78125 20.515625 \nQ 6.78125 27.484375 10.78125 32.3125 \nQ 14.796875 37.15625 21.921875 38.8125 \nz\nM 18.3125 54.390625 \nQ 18.3125 48.734375 21.84375 45.5625 \nQ 25.390625 42.390625 31.78125 42.390625 \nQ 38.140625 42.390625 41.71875 45.5625 \nQ 45.3125 48.734375 45.3125 54.390625 \nQ 45.3125 60.0625 41.71875 63.234375 \nQ 38.140625 66.40625 31.78125 66.40625 \nQ 25.390625 66.40625 21.84375 63.234375 \nQ 18.3125 60.0625 18.3125 54.390625 \nz\n\" id=\"DejaVuSans-38\"/>\n      </defs>\n      <g transform=\"translate(368.0875 242.738437)scale(0.1 -0.1)\">\n       <use xlink:href=\"#DejaVuSans-32\"/>\n       <use x=\"63.623047\" xlink:href=\"#DejaVuSans-30\"/>\n       <use x=\"127.246094\" xlink:href=\"#DejaVuSans-31\"/>\n       <use x=\"190.869141\" xlink:href=\"#DejaVuSans-38\"/>\n      </g>\n     </g>\n    </g>\n    <g id=\"text_11\">\n     <!-- year -->\n     <defs>\n      <path d=\"M 32.171875 -5.078125 \nQ 28.375 -14.84375 24.75 -17.8125 \nQ 21.140625 -20.796875 15.09375 -20.796875 \nL 7.90625 -20.796875 \nL 7.90625 -13.28125 \nL 13.1875 -13.28125 \nQ 16.890625 -13.28125 18.9375 -11.515625 \nQ 21 -9.765625 23.484375 -3.21875 \nL 25.09375 0.875 \nL 2.984375 54.6875 \nL 12.5 54.6875 \nL 29.59375 11.921875 \nL 46.6875 54.6875 \nL 56.203125 54.6875 \nz\n\" id=\"DejaVuSans-79\"/>\n      <path d=\"M 56.203125 29.59375 \nL 56.203125 25.203125 \nL 14.890625 25.203125 \nQ 15.484375 15.921875 20.484375 11.0625 \nQ 25.484375 6.203125 34.421875 6.203125 \nQ 39.59375 6.203125 44.453125 7.46875 \nQ 49.3125 8.734375 54.109375 11.28125 \nL 54.109375 2.78125 \nQ 49.265625 0.734375 44.1875 -0.34375 \nQ 39.109375 -1.421875 33.890625 -1.421875 \nQ 20.796875 -1.421875 13.15625 6.1875 \nQ 5.515625 13.8125 5.515625 26.8125 \nQ 5.515625 40.234375 12.765625 48.109375 \nQ 20.015625 56 32.328125 56 \nQ 43.359375 56 49.78125 48.890625 \nQ 56.203125 41.796875 56.203125 29.59375 \nz\nM 47.21875 32.234375 \nQ 47.125 39.59375 43.09375 43.984375 \nQ 39.0625 48.390625 32.421875 48.390625 \nQ 24.90625 48.390625 20.390625 44.140625 \nQ 15.875 39.890625 15.1875 32.171875 \nz\n\" id=\"DejaVuSans-65\"/>\n      <path d=\"M 34.28125 27.484375 \nQ 23.390625 27.484375 19.1875 25 \nQ 14.984375 22.515625 14.984375 16.5 \nQ 14.984375 11.71875 18.140625 8.90625 \nQ 21.296875 6.109375 26.703125 6.109375 \nQ 34.1875 6.109375 38.703125 11.40625 \nQ 43.21875 16.703125 43.21875 25.484375 \nL 43.21875 27.484375 \nz\nM 52.203125 31.203125 \nL 52.203125 0 \nL 43.21875 0 \nL 43.21875 8.296875 \nQ 40.140625 3.328125 35.546875 0.953125 \nQ 30.953125 -1.421875 24.3125 -1.421875 \nQ 15.921875 -1.421875 10.953125 3.296875 \nQ 6 8.015625 6 15.921875 \nQ 6 25.140625 12.171875 29.828125 \nQ 18.359375 34.515625 30.609375 34.515625 \nL 43.21875 34.515625 \nL 43.21875 35.40625 \nQ 43.21875 41.609375 39.140625 45 \nQ 35.0625 48.390625 27.6875 48.390625 \nQ 23 48.390625 18.546875 47.265625 \nQ 14.109375 46.140625 10.015625 43.890625 \nL 10.015625 52.203125 \nQ 14.9375 54.109375 19.578125 55.046875 \nQ 24.21875 56 28.609375 56 \nQ 40.484375 56 46.34375 49.84375 \nQ 52.203125 43.703125 52.203125 31.203125 \nz\n\" id=\"DejaVuSans-61\"/>\n      <path d=\"M 41.109375 46.296875 \nQ 39.59375 47.171875 37.8125 47.578125 \nQ 36.03125 48 33.890625 48 \nQ 26.265625 48 22.1875 43.046875 \nQ 18.109375 38.09375 18.109375 28.8125 \nL 18.109375 0 \nL 9.078125 0 \nL 9.078125 54.6875 \nL 18.109375 54.6875 \nL 18.109375 46.1875 \nQ 20.953125 51.171875 25.484375 53.578125 \nQ 30.03125 56 36.53125 56 \nQ 37.453125 56 38.578125 55.875 \nQ 39.703125 55.765625 41.0625 55.515625 \nz\n\" id=\"DejaVuSans-72\"/>\n     </defs>\n     <g transform=\"translate(202.257031 256.416562)scale(0.1 -0.1)\">\n      <use xlink:href=\"#DejaVuSans-79\"/>\n      <use x=\"59.179688\" xlink:href=\"#DejaVuSans-65\"/>\n      <use x=\"120.703125\" xlink:href=\"#DejaVuSans-61\"/>\n      <use x=\"181.982422\" xlink:href=\"#DejaVuSans-72\"/>\n     </g>\n    </g>\n   </g>\n   <g id=\"matplotlib.axis_2\">\n    <g id=\"ytick_1\">\n     <g id=\"line2d_11\">\n      <defs>\n       <path d=\"M 0 0 \nL -3.5 0 \n\" id=\"mff6707e96f\" style=\"stroke:#000000;stroke-width:0.8;\"/>\n      </defs>\n      <g>\n       <use style=\"stroke:#000000;stroke-width:0.8;\" x=\"46.0125\" xlink:href=\"#mff6707e96f\" y=\"209.77146\"/>\n      </g>\n     </g>\n     <g id=\"text_12\">\n      <!-- 36000 -->\n      <g transform=\"translate(7.2 213.570679)scale(0.1 -0.1)\">\n       <use xlink:href=\"#DejaVuSans-33\"/>\n       <use x=\"63.623047\" xlink:href=\"#DejaVuSans-36\"/>\n       <use x=\"127.246094\" xlink:href=\"#DejaVuSans-30\"/>\n       <use x=\"190.869141\" xlink:href=\"#DejaVuSans-30\"/>\n       <use x=\"254.492188\" xlink:href=\"#DejaVuSans-30\"/>\n      </g>\n     </g>\n    </g>\n    <g id=\"ytick_2\">\n     <g id=\"line2d_12\">\n      <g>\n       <use style=\"stroke:#000000;stroke-width:0.8;\" x=\"46.0125\" xlink:href=\"#mff6707e96f\" y=\"177.873328\"/>\n      </g>\n     </g>\n     <g id=\"text_13\">\n      <!-- 37000 -->\n      <g transform=\"translate(7.2 181.672547)scale(0.1 -0.1)\">\n       <use xlink:href=\"#DejaVuSans-33\"/>\n       <use x=\"63.623047\" xlink:href=\"#DejaVuSans-37\"/>\n       <use x=\"127.246094\" xlink:href=\"#DejaVuSans-30\"/>\n       <use x=\"190.869141\" xlink:href=\"#DejaVuSans-30\"/>\n       <use x=\"254.492188\" xlink:href=\"#DejaVuSans-30\"/>\n      </g>\n     </g>\n    </g>\n    <g id=\"ytick_3\">\n     <g id=\"line2d_13\">\n      <g>\n       <use style=\"stroke:#000000;stroke-width:0.8;\" x=\"46.0125\" xlink:href=\"#mff6707e96f\" y=\"145.975195\"/>\n      </g>\n     </g>\n     <g id=\"text_14\">\n      <!-- 38000 -->\n      <g transform=\"translate(7.2 149.774414)scale(0.1 -0.1)\">\n       <use xlink:href=\"#DejaVuSans-33\"/>\n       <use x=\"63.623047\" xlink:href=\"#DejaVuSans-38\"/>\n       <use x=\"127.246094\" xlink:href=\"#DejaVuSans-30\"/>\n       <use x=\"190.869141\" xlink:href=\"#DejaVuSans-30\"/>\n       <use x=\"254.492188\" xlink:href=\"#DejaVuSans-30\"/>\n      </g>\n     </g>\n    </g>\n    <g id=\"ytick_4\">\n     <g id=\"line2d_14\">\n      <g>\n       <use style=\"stroke:#000000;stroke-width:0.8;\" x=\"46.0125\" xlink:href=\"#mff6707e96f\" y=\"114.077063\"/>\n      </g>\n     </g>\n     <g id=\"text_15\">\n      <!-- 39000 -->\n      <g transform=\"translate(7.2 117.876282)scale(0.1 -0.1)\">\n       <use xlink:href=\"#DejaVuSans-33\"/>\n       <use x=\"63.623047\" xlink:href=\"#DejaVuSans-39\"/>\n       <use x=\"127.246094\" xlink:href=\"#DejaVuSans-30\"/>\n       <use x=\"190.869141\" xlink:href=\"#DejaVuSans-30\"/>\n       <use x=\"254.492188\" xlink:href=\"#DejaVuSans-30\"/>\n      </g>\n     </g>\n    </g>\n    <g id=\"ytick_5\">\n     <g id=\"line2d_15\">\n      <g>\n       <use style=\"stroke:#000000;stroke-width:0.8;\" x=\"46.0125\" xlink:href=\"#mff6707e96f\" y=\"82.17893\"/>\n      </g>\n     </g>\n     <g id=\"text_16\">\n      <!-- 40000 -->\n      <g transform=\"translate(7.2 85.978149)scale(0.1 -0.1)\">\n       <use xlink:href=\"#DejaVuSans-34\"/>\n       <use x=\"63.623047\" xlink:href=\"#DejaVuSans-30\"/>\n       <use x=\"127.246094\" xlink:href=\"#DejaVuSans-30\"/>\n       <use x=\"190.869141\" xlink:href=\"#DejaVuSans-30\"/>\n       <use x=\"254.492188\" xlink:href=\"#DejaVuSans-30\"/>\n      </g>\n     </g>\n    </g>\n    <g id=\"ytick_6\">\n     <g id=\"line2d_16\">\n      <g>\n       <use style=\"stroke:#000000;stroke-width:0.8;\" x=\"46.0125\" xlink:href=\"#mff6707e96f\" y=\"50.280798\"/>\n      </g>\n     </g>\n     <g id=\"text_17\">\n      <!-- 41000 -->\n      <g transform=\"translate(7.2 54.080016)scale(0.1 -0.1)\">\n       <use xlink:href=\"#DejaVuSans-34\"/>\n       <use x=\"63.623047\" xlink:href=\"#DejaVuSans-31\"/>\n       <use x=\"127.246094\" xlink:href=\"#DejaVuSans-30\"/>\n       <use x=\"190.869141\" xlink:href=\"#DejaVuSans-30\"/>\n       <use x=\"254.492188\" xlink:href=\"#DejaVuSans-30\"/>\n      </g>\n     </g>\n    </g>\n    <g id=\"ytick_7\">\n     <g id=\"line2d_17\">\n      <g>\n       <use style=\"stroke:#000000;stroke-width:0.8;\" x=\"46.0125\" xlink:href=\"#mff6707e96f\" y=\"18.382665\"/>\n      </g>\n     </g>\n     <g id=\"text_18\">\n      <!-- 42000 -->\n      <g transform=\"translate(7.2 22.181884)scale(0.1 -0.1)\">\n       <use xlink:href=\"#DejaVuSans-34\"/>\n       <use x=\"63.623047\" xlink:href=\"#DejaVuSans-32\"/>\n       <use x=\"127.246094\" xlink:href=\"#DejaVuSans-30\"/>\n       <use x=\"190.869141\" xlink:href=\"#DejaVuSans-30\"/>\n       <use x=\"254.492188\" xlink:href=\"#DejaVuSans-30\"/>\n      </g>\n     </g>\n    </g>\n   </g>\n   <g id=\"line2d_18\">\n    <path clip-path=\"url(#pb96230212c)\" d=\"M 46.0125 218.256364 \nL 83.2125 179.755318 \nL 120.4125 161.063012 \nL 157.6125 136.724737 \nL 194.8125 123.391317 \nL 232.0125 110.53637 \nL 269.2125 89.738788 \nL 306.4125 72.896574 \nL 343.6125 45.687467 \nL 380.8125 20.583636 \n\" style=\"fill:none;stroke:#1f77b4;stroke-linecap:square;stroke-width:1.5;\"/>\n    <defs>\n     <path d=\"M 0 3 \nC 0.795609 3 1.55874 2.683901 2.12132 2.12132 \nC 2.683901 1.55874 3 0.795609 3 0 \nC 3 -0.795609 2.683901 -1.55874 2.12132 -2.12132 \nC 1.55874 -2.683901 0.795609 -3 0 -3 \nC -0.795609 -3 -1.55874 -2.683901 -2.12132 -2.12132 \nC -2.683901 -1.55874 -3 -0.795609 -3 0 \nC -3 0.795609 -2.683901 1.55874 -2.12132 2.12132 \nC -1.55874 2.683901 -0.795609 3 0 3 \nz\n\" id=\"me040103f51\" style=\"stroke:#1f77b4;\"/>\n    </defs>\n    <g clip-path=\"url(#pb96230212c)\">\n     <use style=\"fill:#1f77b4;stroke:#1f77b4;\" x=\"46.0125\" xlink:href=\"#me040103f51\" y=\"218.256364\"/>\n     <use style=\"fill:#1f77b4;stroke:#1f77b4;\" x=\"83.2125\" xlink:href=\"#me040103f51\" y=\"179.755318\"/>\n     <use style=\"fill:#1f77b4;stroke:#1f77b4;\" x=\"120.4125\" xlink:href=\"#me040103f51\" y=\"161.063012\"/>\n     <use style=\"fill:#1f77b4;stroke:#1f77b4;\" x=\"157.6125\" xlink:href=\"#me040103f51\" y=\"136.724737\"/>\n     <use style=\"fill:#1f77b4;stroke:#1f77b4;\" x=\"194.8125\" xlink:href=\"#me040103f51\" y=\"123.391317\"/>\n     <use style=\"fill:#1f77b4;stroke:#1f77b4;\" x=\"232.0125\" xlink:href=\"#me040103f51\" y=\"110.53637\"/>\n     <use style=\"fill:#1f77b4;stroke:#1f77b4;\" x=\"269.2125\" xlink:href=\"#me040103f51\" y=\"89.738788\"/>\n     <use style=\"fill:#1f77b4;stroke:#1f77b4;\" x=\"306.4125\" xlink:href=\"#me040103f51\" y=\"72.896574\"/>\n     <use style=\"fill:#1f77b4;stroke:#1f77b4;\" x=\"343.6125\" xlink:href=\"#me040103f51\" y=\"45.687467\"/>\n     <use style=\"fill:#1f77b4;stroke:#1f77b4;\" x=\"380.8125\" xlink:href=\"#me040103f51\" y=\"20.583636\"/>\n    </g>\n   </g>\n   <g id=\"patch_3\">\n    <path d=\"M 46.0125 228.14 \nL 46.0125 10.7 \n\" style=\"fill:none;stroke:#000000;stroke-linecap:square;stroke-linejoin:miter;stroke-width:0.8;\"/>\n   </g>\n   <g id=\"patch_4\">\n    <path d=\"M 380.8125 228.14 \nL 380.8125 10.7 \n\" style=\"fill:none;stroke:#000000;stroke-linecap:square;stroke-linejoin:miter;stroke-width:0.8;\"/>\n   </g>\n   <g id=\"patch_5\">\n    <path d=\"M 46.0125 228.14 \nL 380.8125 228.14 \n\" style=\"fill:none;stroke:#000000;stroke-linecap:square;stroke-linejoin:miter;stroke-width:0.8;\"/>\n   </g>\n   <g id=\"patch_6\">\n    <path d=\"M 46.0125 10.7 \nL 380.8125 10.7 \n\" style=\"fill:none;stroke:#000000;stroke-linecap:square;stroke-linejoin:miter;stroke-width:0.8;\"/>\n   </g>\n   <g id=\"legend_1\">\n    <g id=\"patch_7\">\n     <path d=\"M 53.0125 33.378125 \nL 111.820312 33.378125 \nQ 113.820312 33.378125 113.820312 31.378125 \nL 113.820312 17.7 \nQ 113.820312 15.7 111.820312 15.7 \nL 53.0125 15.7 \nQ 51.0125 15.7 51.0125 17.7 \nL 51.0125 31.378125 \nQ 51.0125 33.378125 53.0125 33.378125 \nz\n\" style=\"fill:#ffffff;opacity:0.8;stroke:#cccccc;stroke-linejoin:miter;\"/>\n    </g>\n    <g id=\"line2d_19\">\n     <path d=\"M 55.0125 23.798437 \nL 75.0125 23.798437 \n\" style=\"fill:none;stroke:#1f77b4;stroke-linecap:square;stroke-width:1.5;\"/>\n    </g>\n    <g id=\"line2d_20\">\n     <g>\n      <use style=\"fill:#1f77b4;stroke:#1f77b4;\" x=\"65.0125\" xlink:href=\"#me040103f51\" y=\"23.798437\"/>\n     </g>\n    </g>\n    <g id=\"text_19\">\n     <!-- wage -->\n     <defs>\n      <path d=\"M 4.203125 54.6875 \nL 13.1875 54.6875 \nL 24.421875 12.015625 \nL 35.59375 54.6875 \nL 46.1875 54.6875 \nL 57.421875 12.015625 \nL 68.609375 54.6875 \nL 77.59375 54.6875 \nL 63.28125 0 \nL 52.6875 0 \nL 40.921875 44.828125 \nL 29.109375 0 \nL 18.5 0 \nz\n\" id=\"DejaVuSans-77\"/>\n      <path d=\"M 45.40625 27.984375 \nQ 45.40625 37.75 41.375 43.109375 \nQ 37.359375 48.484375 30.078125 48.484375 \nQ 22.859375 48.484375 18.828125 43.109375 \nQ 14.796875 37.75 14.796875 27.984375 \nQ 14.796875 18.265625 18.828125 12.890625 \nQ 22.859375 7.515625 30.078125 7.515625 \nQ 37.359375 7.515625 41.375 12.890625 \nQ 45.40625 18.265625 45.40625 27.984375 \nz\nM 54.390625 6.78125 \nQ 54.390625 -7.171875 48.1875 -13.984375 \nQ 42 -20.796875 29.203125 -20.796875 \nQ 24.46875 -20.796875 20.265625 -20.09375 \nQ 16.0625 -19.390625 12.109375 -17.921875 \nL 12.109375 -9.1875 \nQ 16.0625 -11.328125 19.921875 -12.34375 \nQ 23.78125 -13.375 27.78125 -13.375 \nQ 36.625 -13.375 41.015625 -8.765625 \nQ 45.40625 -4.15625 45.40625 5.171875 \nL 45.40625 9.625 \nQ 42.625 4.78125 38.28125 2.390625 \nQ 33.9375 0 27.875 0 \nQ 17.828125 0 11.671875 7.65625 \nQ 5.515625 15.328125 5.515625 27.984375 \nQ 5.515625 40.671875 11.671875 48.328125 \nQ 17.828125 56 27.875 56 \nQ 33.9375 56 38.28125 53.609375 \nQ 42.625 51.21875 45.40625 46.390625 \nL 45.40625 54.6875 \nL 54.390625 54.6875 \nz\n\" id=\"DejaVuSans-67\"/>\n     </defs>\n     <g transform=\"translate(83.0125 27.298437)scale(0.1 -0.1)\">\n      <use xlink:href=\"#DejaVuSans-77\"/>\n      <use x=\"81.787109\" xlink:href=\"#DejaVuSans-61\"/>\n      <use x=\"143.066406\" xlink:href=\"#DejaVuSans-67\"/>\n      <use x=\"206.542969\" xlink:href=\"#DejaVuSans-65\"/>\n     </g>\n    </g>\n   </g>\n  </g>\n </g>\n <defs>\n  <clipPath id=\"pb96230212c\">\n   <rect height=\"217.44\" width=\"334.8\" x=\"46.0125\" y=\"10.7\"/>\n  </clipPath>\n </defs>\n</svg>\n",
      "image/png": "[encoded data removed]"
     },
     "metadata": {
      "needs_background": "light"
     }
    }
   ],
   "source": [
    "widgets.interact(plot_wage_gini, \n",
    "    \n",
    "    wage = widgets.fixed(wage_long),\n",
    "    gini = widgets.fixed(gini_long),\n",
    "    dataset = widgets.Dropdown(description='Dataset', \n",
    "                               options=['wage','gini']),\n",
    "    municipality = widgets.Dropdown(description='Municipality', \n",
    "                                    options=wage_long.municipality.unique())\n",
    "                 \n",
    "); \n",
    "widgets.interact(plot_wage_gini, \n",
    "    \n",
    "    wage = widgets.fixed(wage_long),\n",
    "    gini = widgets.fixed(gini_long),\n",
    "    dataset = widgets.Dropdown(description='Dataset', \n",
    "                               options=['wage','gini']),\n",
    "    municipality = widgets.Dropdown(description='Municipality', \n",
    "                                    options=wage_long.municipality.unique())\n",
    "                 \n",
    "); "
   ]
  },
  {
   "cell_type": "markdown",
   "metadata": {},
   "source": [
    "ADD SOMETHING HERE IF THE READER SHOULD KNOW THAT E.G. SOME MUNICIPALITY IS SPECIAL."
   ]
  },
  {
   "cell_type": "markdown",
   "metadata": {},
   "source": [
    "# Merge data sets"
   ]
  },
  {
   "cell_type": "markdown",
   "metadata": {},
   "source": [
    "We now create a data set with **municpalities which are in both of our data sets**. This means removing Christiansø from our datasets, so they represent the same municpalities and all of Denmark."
   ]
  },
  {
   "cell_type": "code",
   "execution_count": 113,
   "metadata": {},
   "outputs": [
    {
     "output_type": "stream",
     "name": "stdout",
     "text": "10\n10\n99\n99\nNumber of municipalities = 99\nNumber of years          = 10\n"
    }
   ],
   "source": [
    "print(len(gini_long.year.unique()))\n",
    "print(len(wage_long.year.unique()))\n",
    "print(len(gini_long.municipality.unique()))\n",
    "print(len(wage_long.municipality.unique()))\n",
    "\n",
    "#We merge the two datasets:\n",
    "merged = pd.merge(gini_long, wage_long ,how='inner',on=['municipality','year'])\n",
    "\n",
    "print(f'Number of municipalities = {len(merged2.municipality.unique())}')\n",
    "print(f'Number of years          = {len(merged2.year.unique())}')"
   ]
  },
  {
   "cell_type": "markdown",
   "metadata": {},
   "source": [
    "# Analysis"
   ]
  },
  {
   "cell_type": "markdown",
   "metadata": {},
   "source": [
    "To get a quick overview of the data, we show some **summary statistics by year**:"
   ]
  },
  {
   "cell_type": "code",
   "execution_count": 124,
   "metadata": {},
   "outputs": [
    {
     "output_type": "stream",
     "name": "stdout",
     "text": "gini                    \n       mean   std    max    min\nyear                           \n2009  25.28  3.24  42.42  20.40\n2010  25.50  3.43  43.42  21.65\n2011  25.48  3.27  42.83  20.94\n2012  25.11  3.27  42.13  20.71\n2013  25.50  3.43  43.39  21.51\n2014  25.73  3.65  43.98  21.44\n2015  26.04  3.91  47.77  22.03\n2016  26.38  3.73  45.02  22.50\n2017  26.58  3.74  45.44  21.63\n2018  26.40  3.58  44.50  22.88\n       gini                    \n       mean   std    max    min\nyear                           \n2009  25.28  3.24  42.42  20.40\n2010  25.50  3.43  43.42  21.65\n2011  25.48  3.27  42.83  20.94\n2012  25.11  3.27  42.13  20.71\n2013  25.50  3.43  43.39  21.51\n2014  25.73  3.65  43.98  21.44\n2015  26.04  3.91  47.77  22.03\n2016  26.38  3.73  45.02  22.50\n2017  26.58  3.74  45.44  21.63\n2018  26.40  3.58  44.50  22.88\n        municipality  year   gini\n0        Hele landet  2009  26.74\n1          København  2009  29.38\n2      Frederiksberg  2009  30.33\n3             Dragør  2009  26.25\n4             Tårnby  2009  21.40\n..               ...   ...    ...\n985            Morsø  2018  24.96\n986           Rebild  2018  24.58\n987          Thisted  2018  24.78\n988  Vesthimmerlands  2018  24.84\n989          Aalborg  2018  28.70\n\n[990 rows x 3 columns]\n        municipality  year   wage\n0        Hele landet  2009  35734\n1          København  2009  36607\n2      Frederiksberg  2009  41119\n3             Dragør  2009  43215\n4             Tårnby  2009  36147\n..               ...   ...    ...\n985            Morsø  2018  35917\n986           Rebild  2018  40638\n987          Thisted  2018  36323\n988  Vesthimmerlands  2018  36487\n989          Aalborg  2018  40309\n\n[990 rows x 3 columns]\n           gini\n           mean\nyear           \n2009  25.284040\n2010  25.501010\n2011  25.483838\n2012  25.105152\n2013  25.496970\n2014  25.732929\n2015  26.037475\n2016  26.383434\n2017  26.582020\n2018  26.398081\n"
    }
   ],
   "source": [
    "print(merged.groupby('year').agg(['mean','std','max','min']).round(2))\n",
    "print(gini_long.groupby('year').agg(['mean','std','max','min']).round(2))\n",
    "print(gini_long)\n",
    "print(wage_long)\n",
    "print(merged.groupby('year').agg(['mean']))"
   ]
  },
  {
   "cell_type": "code",
   "execution_count": null,
   "metadata": {},
   "outputs": [],
   "source": []
  },
  {
   "cell_type": "markdown",
   "metadata": {},
   "source": [
    "ADD FURTHER ANALYSIS. EXPLAIN THE CODE BRIEFLY AND SUMMARIZE THE RESULTS."
   ]
  },
  {
   "cell_type": "markdown",
   "metadata": {},
   "source": [
    "# Conclusion"
   ]
  },
  {
   "cell_type": "markdown",
   "metadata": {},
   "source": [
    "ADD CONCISE CONLUSION."
   ]
  }
 ],
 "metadata": {
  "kernelspec": {
   "display_name": "Python 3",
   "language": "python",
   "name": "python3"
  },
  "language_info": {
   "codemirror_mode": {
    "name": "ipython",
    "version": 3
   },
   "file_extension": ".py",
   "mimetype": "text/x-python",
   "name": "python",
   "nbconvert_exporter": "python",
   "pygments_lexer": "ipython3",
   "version": "3.7.3-final"
  },
  "toc-autonumbering": true
 },
 "nbformat": 4,
 "nbformat_minor": 4
}