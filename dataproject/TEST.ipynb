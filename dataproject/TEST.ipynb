{
 "cells": [
  {
   "cell_type": "markdown",
   "metadata": {},
   "source": [
    "# YOUR PROJECT TITLE"
   ]
  },
  {
   "cell_type": "markdown",
   "metadata": {},
   "source": [
    "> **Note the following:** \n",
    "> 1. This is *not* meant to be an example of an actual **data analysis project**, just an example of how to structure such a project.\n",
    "> 1. Remember the general advice on structuring and commenting your code from [lecture 5](https://numeconcopenhagen.netlify.com/lectures/Workflow_and_debugging).\n",
    "> 1. Remember this [guide](https://www.markdownguide.org/basic-syntax/) on markdown and (a bit of) latex.\n",
    "> 1. Turn on automatic numbering by clicking on the small icon on top of the table of contents in the left sidebar.\n",
    "> 1. The `dataproject.py` file includes a function which will be used multiple times in this notebook."
   ]
  },
  {
   "cell_type": "markdown",
   "metadata": {},
   "source": [
    "Imports and set magics:"
   ]
  },
  {
   "cell_type": "code",
   "execution_count": 1,
   "metadata": {},
   "outputs": [],
   "source": [
    "import pandas as pd\n",
    "import matplotlib.pyplot as plt\n",
    "import ipywidgets as widgets\n",
    "from matplotlib_venn import venn2 # install with pip install matplotlib-venn\n",
    "\n",
    "# autoreload modules when code is run\n",
    "%load_ext autoreload\n",
    "%autoreload 2\n",
    "\n",
    "# local modules\n",
    "import dataproject"
   ]
  },
  {
   "cell_type": "markdown",
   "metadata": {},
   "source": []
  },
  {
   "cell_type": "markdown",
   "metadata": {
    "toc-hr-collapsed": true
   },
   "source": [
    "# Read and clean data"
   ]
  },
  {
   "cell_type": "markdown",
   "metadata": {},
   "source": [
    "## Wage"
   ]
  },
  {
   "cell_type": "markdown",
   "metadata": {},
   "source": [
    "**Read the Lonniveau data** in ``LIGELB1.xlsx`` and **clean it** removing and renaming columns:"
   ]
  },
  {
   "cell_type": "code",
   "execution_count": 2,
   "metadata": {},
   "outputs": [],
   "source": [
    "# a. load\n",
    "wage = pd.read_excel('LIGELB1.xlsx', skiprows=2)\n",
    "\n",
    "# b. drop columns\n",
    "drop_these = ['Unnamed: 0', 'Unnamed: 1', 'Unnamed: 2', 'Unnamed: 3']\n",
    "wage.drop(drop_these, axis=1, inplace=True)\n",
    "\n",
    "# c. rename columns\n",
    "wage.rename(columns = {'Unnamed: 4':'municipality'}, inplace=True)"
   ]
  },
  {
   "cell_type": "markdown",
   "metadata": {},
   "source": [
    "The dataset now looks like this:"
   ]
  },
  {
   "cell_type": "code",
   "execution_count": 3,
   "metadata": {},
   "outputs": [
    {
     "data": {
      "text/html": [
       "<div>\n",
       "<style scoped>\n",
       "    .dataframe tbody tr th:only-of-type {\n",
       "        vertical-align: middle;\n",
       "    }\n",
       "\n",
       "    .dataframe tbody tr th {\n",
       "        vertical-align: top;\n",
       "    }\n",
       "\n",
       "    .dataframe thead th {\n",
       "        text-align: right;\n",
       "    }\n",
       "</style>\n",
       "<table border=\"1\" class=\"dataframe\">\n",
       "  <thead>\n",
       "    <tr style=\"text-align: right;\">\n",
       "      <th></th>\n",
       "      <th>municipality</th>\n",
       "      <th>2009</th>\n",
       "      <th>2010</th>\n",
       "      <th>2011</th>\n",
       "      <th>2012</th>\n",
       "      <th>2013</th>\n",
       "      <th>2014</th>\n",
       "      <th>2015</th>\n",
       "      <th>2016</th>\n",
       "      <th>2017</th>\n",
       "      <th>2018</th>\n",
       "    </tr>\n",
       "  </thead>\n",
       "  <tbody>\n",
       "    <tr>\n",
       "      <td>0</td>\n",
       "      <td>Hele landet</td>\n",
       "      <td>35734</td>\n",
       "      <td>36941</td>\n",
       "      <td>37527</td>\n",
       "      <td>38290</td>\n",
       "      <td>38708</td>\n",
       "      <td>39111</td>\n",
       "      <td>39763</td>\n",
       "      <td>40291</td>\n",
       "      <td>41144</td>\n",
       "      <td>41931</td>\n",
       "    </tr>\n",
       "    <tr>\n",
       "      <td>1</td>\n",
       "      <td>København</td>\n",
       "      <td>36607</td>\n",
       "      <td>37836</td>\n",
       "      <td>38595</td>\n",
       "      <td>39302</td>\n",
       "      <td>39863</td>\n",
       "      <td>40339</td>\n",
       "      <td>41190</td>\n",
       "      <td>41740</td>\n",
       "      <td>42894</td>\n",
       "      <td>43953</td>\n",
       "    </tr>\n",
       "    <tr>\n",
       "      <td>2</td>\n",
       "      <td>Frederiksberg</td>\n",
       "      <td>41119</td>\n",
       "      <td>42816</td>\n",
       "      <td>43450</td>\n",
       "      <td>44220</td>\n",
       "      <td>44873</td>\n",
       "      <td>45424</td>\n",
       "      <td>46297</td>\n",
       "      <td>47182</td>\n",
       "      <td>48321</td>\n",
       "      <td>49563</td>\n",
       "    </tr>\n",
       "    <tr>\n",
       "      <td>3</td>\n",
       "      <td>Dragør</td>\n",
       "      <td>43215</td>\n",
       "      <td>44832</td>\n",
       "      <td>46357</td>\n",
       "      <td>47181</td>\n",
       "      <td>47302</td>\n",
       "      <td>47961</td>\n",
       "      <td>49333</td>\n",
       "      <td>50410</td>\n",
       "      <td>51451</td>\n",
       "      <td>52807</td>\n",
       "    </tr>\n",
       "    <tr>\n",
       "      <td>4</td>\n",
       "      <td>Tårnby</td>\n",
       "      <td>36147</td>\n",
       "      <td>36811</td>\n",
       "      <td>38133</td>\n",
       "      <td>38332</td>\n",
       "      <td>38815</td>\n",
       "      <td>39284</td>\n",
       "      <td>39946</td>\n",
       "      <td>40575</td>\n",
       "      <td>41559</td>\n",
       "      <td>42664</td>\n",
       "    </tr>\n",
       "  </tbody>\n",
       "</table>\n",
       "</div>"
      ],
      "text/plain": [
       "    municipality   2009   2010   2011   2012   2013   2014   2015   2016  \\\n",
       "0    Hele landet  35734  36941  37527  38290  38708  39111  39763  40291   \n",
       "1      København  36607  37836  38595  39302  39863  40339  41190  41740   \n",
       "2  Frederiksberg  41119  42816  43450  44220  44873  45424  46297  47182   \n",
       "3         Dragør  43215  44832  46357  47181  47302  47961  49333  50410   \n",
       "4         Tårnby  36147  36811  38133  38332  38815  39284  39946  40575   \n",
       "\n",
       "    2017   2018  \n",
       "0  41144  41931  \n",
       "1  42894  43953  \n",
       "2  48321  49563  \n",
       "3  51451  52807  \n",
       "4  41559  42664  "
      ]
     },
     "execution_count": 3,
     "metadata": {},
     "output_type": "execute_result"
    }
   ],
   "source": [
    "wage.head()"
   ]
  },
  {
   "cell_type": "markdown",
   "metadata": {},
   "source": [
    "**Convert the dataset to long format**:"
   ]
  },
  {
   "cell_type": "code",
   "execution_count": 4,
   "metadata": {},
   "outputs": [],
   "source": [
    "#LÆngere nede"
   ]
  },
  {
   "cell_type": "markdown",
   "metadata": {},
   "source": [
    "## Gini"
   ]
  },
  {
   "cell_type": "code",
   "execution_count": 5,
   "metadata": {},
   "outputs": [],
   "source": [
    "# a. load\n",
    "gini = pd.read_excel('IFOR41.xlsx', skiprows=2)\n",
    "\n",
    "# b. drop columns\n",
    "drop_these = ['Unnamed: 0']\n",
    "gini.drop(drop_these, axis=1, inplace=True)\n",
    "\n",
    "# c. rename columns\n",
    "gini.rename(columns = {'Unnamed: 1':'municipality'}, inplace=True)"
   ]
  },
  {
   "cell_type": "code",
   "execution_count": 6,
   "metadata": {},
   "outputs": [
    {
     "data": {
      "text/html": [
       "<div>\n",
       "<style scoped>\n",
       "    .dataframe tbody tr th:only-of-type {\n",
       "        vertical-align: middle;\n",
       "    }\n",
       "\n",
       "    .dataframe tbody tr th {\n",
       "        vertical-align: top;\n",
       "    }\n",
       "\n",
       "    .dataframe thead th {\n",
       "        text-align: right;\n",
       "    }\n",
       "</style>\n",
       "<table border=\"1\" class=\"dataframe\">\n",
       "  <thead>\n",
       "    <tr style=\"text-align: right;\">\n",
       "      <th></th>\n",
       "      <th>municipality</th>\n",
       "      <th>2009</th>\n",
       "      <th>2010</th>\n",
       "      <th>2011</th>\n",
       "      <th>2012</th>\n",
       "      <th>2013</th>\n",
       "      <th>2014</th>\n",
       "      <th>2015</th>\n",
       "      <th>2016</th>\n",
       "      <th>2017</th>\n",
       "      <th>2018</th>\n",
       "    </tr>\n",
       "  </thead>\n",
       "  <tbody>\n",
       "    <tr>\n",
       "      <td>0</td>\n",
       "      <td>Hele landet</td>\n",
       "      <td>26.74</td>\n",
       "      <td>27.47</td>\n",
       "      <td>27.68</td>\n",
       "      <td>27.37</td>\n",
       "      <td>27.88</td>\n",
       "      <td>28.33</td>\n",
       "      <td>28.77</td>\n",
       "      <td>28.97</td>\n",
       "      <td>29.32</td>\n",
       "      <td>29.10</td>\n",
       "    </tr>\n",
       "    <tr>\n",
       "      <td>1</td>\n",
       "      <td>København</td>\n",
       "      <td>29.38</td>\n",
       "      <td>31.44</td>\n",
       "      <td>31.38</td>\n",
       "      <td>31.25</td>\n",
       "      <td>31.86</td>\n",
       "      <td>32.13</td>\n",
       "      <td>32.70</td>\n",
       "      <td>33.24</td>\n",
       "      <td>33.65</td>\n",
       "      <td>33.71</td>\n",
       "    </tr>\n",
       "    <tr>\n",
       "      <td>2</td>\n",
       "      <td>Frederiksberg</td>\n",
       "      <td>30.33</td>\n",
       "      <td>32.93</td>\n",
       "      <td>33.22</td>\n",
       "      <td>33.53</td>\n",
       "      <td>33.92</td>\n",
       "      <td>34.98</td>\n",
       "      <td>34.37</td>\n",
       "      <td>34.85</td>\n",
       "      <td>35.71</td>\n",
       "      <td>35.42</td>\n",
       "    </tr>\n",
       "    <tr>\n",
       "      <td>3</td>\n",
       "      <td>Dragør</td>\n",
       "      <td>26.25</td>\n",
       "      <td>26.93</td>\n",
       "      <td>28.86</td>\n",
       "      <td>25.95</td>\n",
       "      <td>26.75</td>\n",
       "      <td>27.03</td>\n",
       "      <td>27.40</td>\n",
       "      <td>28.08</td>\n",
       "      <td>27.88</td>\n",
       "      <td>27.55</td>\n",
       "    </tr>\n",
       "    <tr>\n",
       "      <td>4</td>\n",
       "      <td>Tårnby</td>\n",
       "      <td>21.40</td>\n",
       "      <td>22.80</td>\n",
       "      <td>23.42</td>\n",
       "      <td>22.77</td>\n",
       "      <td>22.86</td>\n",
       "      <td>22.89</td>\n",
       "      <td>23.32</td>\n",
       "      <td>23.66</td>\n",
       "      <td>23.95</td>\n",
       "      <td>23.95</td>\n",
       "    </tr>\n",
       "  </tbody>\n",
       "</table>\n",
       "</div>"
      ],
      "text/plain": [
       "    municipality   2009   2010   2011   2012   2013   2014   2015   2016  \\\n",
       "0    Hele landet  26.74  27.47  27.68  27.37  27.88  28.33  28.77  28.97   \n",
       "1      København  29.38  31.44  31.38  31.25  31.86  32.13  32.70  33.24   \n",
       "2  Frederiksberg  30.33  32.93  33.22  33.53  33.92  34.98  34.37  34.85   \n",
       "3         Dragør  26.25  26.93  28.86  25.95  26.75  27.03  27.40  28.08   \n",
       "4         Tårnby  21.40  22.80  23.42  22.77  22.86  22.89  23.32  23.66   \n",
       "\n",
       "    2017   2018  \n",
       "0  29.32  29.10  \n",
       "1  33.65  33.71  \n",
       "2  35.71  35.42  \n",
       "3  27.88  27.55  \n",
       "4  23.95  23.95  "
      ]
     },
     "execution_count": 6,
     "metadata": {},
     "output_type": "execute_result"
    }
   ],
   "source": [
    "gini.head()"
   ]
  },
  {
   "cell_type": "code",
   "execution_count": 7,
   "metadata": {},
   "outputs": [
    {
     "name": "stdout",
     "output_type": "stream",
     "text": [
      "municipalities in wage data, but not in gini data: ['Christiansø', nan]\n"
     ]
    }
   ],
   "source": [
    "diff_m = [m for m in wage.municipality.unique() if m not in gini.municipality.unique()] \n",
    "print(f'municipalities in wage data, but not in gini data: {diff_m}')"
   ]
  },
  {
   "cell_type": "markdown",
   "metadata": {},
   "source": [
    "We Therefore remove 'Christiansø' from our wage dataset using the 'function'"
   ]
  },
  {
   "cell_type": "code",
   "execution_count": 8,
   "metadata": {},
   "outputs": [
    {
     "data": {
      "text/html": [
       "<div>\n",
       "<style scoped>\n",
       "    .dataframe tbody tr th:only-of-type {\n",
       "        vertical-align: middle;\n",
       "    }\n",
       "\n",
       "    .dataframe tbody tr th {\n",
       "        vertical-align: top;\n",
       "    }\n",
       "\n",
       "    .dataframe thead th {\n",
       "        text-align: right;\n",
       "    }\n",
       "</style>\n",
       "<table border=\"1\" class=\"dataframe\">\n",
       "  <thead>\n",
       "    <tr style=\"text-align: right;\">\n",
       "      <th></th>\n",
       "      <th>municipality</th>\n",
       "      <th>2009</th>\n",
       "      <th>2010</th>\n",
       "      <th>2011</th>\n",
       "      <th>2012</th>\n",
       "      <th>2013</th>\n",
       "      <th>2014</th>\n",
       "      <th>2015</th>\n",
       "      <th>2016</th>\n",
       "      <th>2017</th>\n",
       "      <th>2018</th>\n",
       "    </tr>\n",
       "  </thead>\n",
       "  <tbody>\n",
       "    <tr>\n",
       "      <td>0</td>\n",
       "      <td>Hele landet</td>\n",
       "      <td>35734</td>\n",
       "      <td>36941</td>\n",
       "      <td>37527</td>\n",
       "      <td>38290</td>\n",
       "      <td>38708</td>\n",
       "      <td>39111</td>\n",
       "      <td>39763</td>\n",
       "      <td>40291</td>\n",
       "      <td>41144</td>\n",
       "      <td>41931</td>\n",
       "    </tr>\n",
       "    <tr>\n",
       "      <td>1</td>\n",
       "      <td>København</td>\n",
       "      <td>36607</td>\n",
       "      <td>37836</td>\n",
       "      <td>38595</td>\n",
       "      <td>39302</td>\n",
       "      <td>39863</td>\n",
       "      <td>40339</td>\n",
       "      <td>41190</td>\n",
       "      <td>41740</td>\n",
       "      <td>42894</td>\n",
       "      <td>43953</td>\n",
       "    </tr>\n",
       "    <tr>\n",
       "      <td>2</td>\n",
       "      <td>Frederiksberg</td>\n",
       "      <td>41119</td>\n",
       "      <td>42816</td>\n",
       "      <td>43450</td>\n",
       "      <td>44220</td>\n",
       "      <td>44873</td>\n",
       "      <td>45424</td>\n",
       "      <td>46297</td>\n",
       "      <td>47182</td>\n",
       "      <td>48321</td>\n",
       "      <td>49563</td>\n",
       "    </tr>\n",
       "    <tr>\n",
       "      <td>3</td>\n",
       "      <td>Dragør</td>\n",
       "      <td>43215</td>\n",
       "      <td>44832</td>\n",
       "      <td>46357</td>\n",
       "      <td>47181</td>\n",
       "      <td>47302</td>\n",
       "      <td>47961</td>\n",
       "      <td>49333</td>\n",
       "      <td>50410</td>\n",
       "      <td>51451</td>\n",
       "      <td>52807</td>\n",
       "    </tr>\n",
       "    <tr>\n",
       "      <td>4</td>\n",
       "      <td>Tårnby</td>\n",
       "      <td>36147</td>\n",
       "      <td>36811</td>\n",
       "      <td>38133</td>\n",
       "      <td>38332</td>\n",
       "      <td>38815</td>\n",
       "      <td>39284</td>\n",
       "      <td>39946</td>\n",
       "      <td>40575</td>\n",
       "      <td>41559</td>\n",
       "      <td>42664</td>\n",
       "    </tr>\n",
       "  </tbody>\n",
       "</table>\n",
       "</div>"
      ],
      "text/plain": [
       "    municipality   2009   2010   2011   2012   2013   2014   2015   2016  \\\n",
       "0    Hele landet  35734  36941  37527  38290  38708  39111  39763  40291   \n",
       "1      København  36607  37836  38595  39302  39863  40339  41190  41740   \n",
       "2  Frederiksberg  41119  42816  43450  44220  44873  45424  46297  47182   \n",
       "3         Dragør  43215  44832  46357  47181  47302  47961  49333  50410   \n",
       "4         Tårnby  36147  36811  38133  38332  38815  39284  39946  40575   \n",
       "\n",
       "    2017   2018  \n",
       "0  41144  41931  \n",
       "1  42894  43953  \n",
       "2  48321  49563  \n",
       "3  51451  52807  \n",
       "4  41559  42664  "
      ]
     },
     "execution_count": 8,
     "metadata": {},
     "output_type": "execute_result"
    }
   ],
   "source": [
    "wage = dataproject.only_keep_municipalities(wage)\n",
    "wage.head()"
   ]
  },
  {
   "cell_type": "code",
   "execution_count": 9,
   "metadata": {},
   "outputs": [
    {
     "data": {
      "text/html": [
       "<div>\n",
       "<style scoped>\n",
       "    .dataframe tbody tr th:only-of-type {\n",
       "        vertical-align: middle;\n",
       "    }\n",
       "\n",
       "    .dataframe tbody tr th {\n",
       "        vertical-align: top;\n",
       "    }\n",
       "\n",
       "    .dataframe thead th {\n",
       "        text-align: right;\n",
       "    }\n",
       "</style>\n",
       "<table border=\"1\" class=\"dataframe\">\n",
       "  <thead>\n",
       "    <tr style=\"text-align: right;\">\n",
       "      <th></th>\n",
       "      <th>municipality</th>\n",
       "      <th>2009</th>\n",
       "      <th>2010</th>\n",
       "      <th>2011</th>\n",
       "      <th>2012</th>\n",
       "      <th>2013</th>\n",
       "      <th>2014</th>\n",
       "      <th>2015</th>\n",
       "      <th>2016</th>\n",
       "      <th>2017</th>\n",
       "      <th>2018</th>\n",
       "    </tr>\n",
       "  </thead>\n",
       "  <tbody>\n",
       "    <tr>\n",
       "      <td>0</td>\n",
       "      <td>Hele landet</td>\n",
       "      <td>26.74</td>\n",
       "      <td>27.47</td>\n",
       "      <td>27.68</td>\n",
       "      <td>27.37</td>\n",
       "      <td>27.88</td>\n",
       "      <td>28.33</td>\n",
       "      <td>28.77</td>\n",
       "      <td>28.97</td>\n",
       "      <td>29.32</td>\n",
       "      <td>29.10</td>\n",
       "    </tr>\n",
       "    <tr>\n",
       "      <td>1</td>\n",
       "      <td>København</td>\n",
       "      <td>29.38</td>\n",
       "      <td>31.44</td>\n",
       "      <td>31.38</td>\n",
       "      <td>31.25</td>\n",
       "      <td>31.86</td>\n",
       "      <td>32.13</td>\n",
       "      <td>32.70</td>\n",
       "      <td>33.24</td>\n",
       "      <td>33.65</td>\n",
       "      <td>33.71</td>\n",
       "    </tr>\n",
       "    <tr>\n",
       "      <td>2</td>\n",
       "      <td>Frederiksberg</td>\n",
       "      <td>30.33</td>\n",
       "      <td>32.93</td>\n",
       "      <td>33.22</td>\n",
       "      <td>33.53</td>\n",
       "      <td>33.92</td>\n",
       "      <td>34.98</td>\n",
       "      <td>34.37</td>\n",
       "      <td>34.85</td>\n",
       "      <td>35.71</td>\n",
       "      <td>35.42</td>\n",
       "    </tr>\n",
       "    <tr>\n",
       "      <td>3</td>\n",
       "      <td>Dragør</td>\n",
       "      <td>26.25</td>\n",
       "      <td>26.93</td>\n",
       "      <td>28.86</td>\n",
       "      <td>25.95</td>\n",
       "      <td>26.75</td>\n",
       "      <td>27.03</td>\n",
       "      <td>27.40</td>\n",
       "      <td>28.08</td>\n",
       "      <td>27.88</td>\n",
       "      <td>27.55</td>\n",
       "    </tr>\n",
       "    <tr>\n",
       "      <td>4</td>\n",
       "      <td>Tårnby</td>\n",
       "      <td>21.40</td>\n",
       "      <td>22.80</td>\n",
       "      <td>23.42</td>\n",
       "      <td>22.77</td>\n",
       "      <td>22.86</td>\n",
       "      <td>22.89</td>\n",
       "      <td>23.32</td>\n",
       "      <td>23.66</td>\n",
       "      <td>23.95</td>\n",
       "      <td>23.95</td>\n",
       "    </tr>\n",
       "  </tbody>\n",
       "</table>\n",
       "</div>"
      ],
      "text/plain": [
       "    municipality   2009   2010   2011   2012   2013   2014   2015   2016  \\\n",
       "0    Hele landet  26.74  27.47  27.68  27.37  27.88  28.33  28.77  28.97   \n",
       "1      København  29.38  31.44  31.38  31.25  31.86  32.13  32.70  33.24   \n",
       "2  Frederiksberg  30.33  32.93  33.22  33.53  33.92  34.98  34.37  34.85   \n",
       "3         Dragør  26.25  26.93  28.86  25.95  26.75  27.03  27.40  28.08   \n",
       "4         Tårnby  21.40  22.80  23.42  22.77  22.86  22.89  23.32  23.66   \n",
       "\n",
       "    2017   2018  \n",
       "0  29.32  29.10  \n",
       "1  33.65  33.71  \n",
       "2  35.71  35.42  \n",
       "3  27.88  27.55  \n",
       "4  23.95  23.95  "
      ]
     },
     "execution_count": 9,
     "metadata": {},
     "output_type": "execute_result"
    }
   ],
   "source": [
    "gini = dataproject.only_keep_municipalities(gini)\n",
    "gini.head()"
   ]
  },
  {
   "cell_type": "markdown",
   "metadata": {},
   "source": [
    "**Convert the dataset to long format**:"
   ]
  },
  {
   "cell_type": "code",
   "execution_count": 10,
   "metadata": {},
   "outputs": [
    {
     "data": {
      "text/html": [
       "<div>\n",
       "<style scoped>\n",
       "    .dataframe tbody tr th:only-of-type {\n",
       "        vertical-align: middle;\n",
       "    }\n",
       "\n",
       "    .dataframe tbody tr th {\n",
       "        vertical-align: top;\n",
       "    }\n",
       "\n",
       "    .dataframe thead th {\n",
       "        text-align: right;\n",
       "    }\n",
       "</style>\n",
       "<table border=\"1\" class=\"dataframe\">\n",
       "  <thead>\n",
       "    <tr style=\"text-align: right;\">\n",
       "      <th></th>\n",
       "      <th>municipality</th>\n",
       "      <th>year</th>\n",
       "      <th>2016</th>\n",
       "      <th>2017</th>\n",
       "      <th>2014</th>\n",
       "      <th>2012</th>\n",
       "      <th>2013</th>\n",
       "      <th>2010</th>\n",
       "      <th>2015</th>\n",
       "      <th>2011</th>\n",
       "      <th>2018</th>\n",
       "      <th>2009</th>\n",
       "      <th>gini</th>\n",
       "    </tr>\n",
       "  </thead>\n",
       "  <tbody>\n",
       "  </tbody>\n",
       "</table>\n",
       "</div>"
      ],
      "text/plain": [
       "Empty DataFrame\n",
       "Columns: [municipality, year, 2016, 2017, 2014, 2012, 2013, 2010, 2015, 2011, 2018, 2009, gini]\n",
       "Index: []"
      ]
     },
     "execution_count": 10,
     "metadata": {},
     "output_type": "execute_result"
    }
   ],
   "source": [
    "# a. rename year columns\n",
    "mydict1 = {str(k):f'gini{k}' for k in range(2009,201)}\n",
    "gini.rename(columns = mydict1, inplace=True)\n",
    "\n",
    "# b. convert to long\n",
    "gini_long = pd.wide_to_long(gini, stubnames='gini', i='municipality', j='year').reset_index()\n",
    "\n",
    "# c. show\n",
    "gini_long.head()"
   ]
  },
  {
   "cell_type": "code",
   "execution_count": 11,
   "metadata": {},
   "outputs": [
    {
     "data": {
      "text/html": [
       "<div>\n",
       "<style scoped>\n",
       "    .dataframe tbody tr th:only-of-type {\n",
       "        vertical-align: middle;\n",
       "    }\n",
       "\n",
       "    .dataframe tbody tr th {\n",
       "        vertical-align: top;\n",
       "    }\n",
       "\n",
       "    .dataframe thead th {\n",
       "        text-align: right;\n",
       "    }\n",
       "</style>\n",
       "<table border=\"1\" class=\"dataframe\">\n",
       "  <thead>\n",
       "    <tr style=\"text-align: right;\">\n",
       "      <th></th>\n",
       "      <th>municipality</th>\n",
       "      <th>year</th>\n",
       "      <th>2017</th>\n",
       "      <th>2018</th>\n",
       "      <th>wage</th>\n",
       "    </tr>\n",
       "  </thead>\n",
       "  <tbody>\n",
       "    <tr>\n",
       "      <td>0</td>\n",
       "      <td>Hele landet</td>\n",
       "      <td>2009</td>\n",
       "      <td>41144</td>\n",
       "      <td>41931</td>\n",
       "      <td>35734</td>\n",
       "    </tr>\n",
       "    <tr>\n",
       "      <td>1</td>\n",
       "      <td>København</td>\n",
       "      <td>2009</td>\n",
       "      <td>42894</td>\n",
       "      <td>43953</td>\n",
       "      <td>36607</td>\n",
       "    </tr>\n",
       "    <tr>\n",
       "      <td>2</td>\n",
       "      <td>Frederiksberg</td>\n",
       "      <td>2009</td>\n",
       "      <td>48321</td>\n",
       "      <td>49563</td>\n",
       "      <td>41119</td>\n",
       "    </tr>\n",
       "    <tr>\n",
       "      <td>3</td>\n",
       "      <td>Dragør</td>\n",
       "      <td>2009</td>\n",
       "      <td>51451</td>\n",
       "      <td>52807</td>\n",
       "      <td>43215</td>\n",
       "    </tr>\n",
       "    <tr>\n",
       "      <td>4</td>\n",
       "      <td>Tårnby</td>\n",
       "      <td>2009</td>\n",
       "      <td>41559</td>\n",
       "      <td>42664</td>\n",
       "      <td>36147</td>\n",
       "    </tr>\n",
       "  </tbody>\n",
       "</table>\n",
       "</div>"
      ],
      "text/plain": [
       "    municipality  year   2017   2018   wage\n",
       "0    Hele landet  2009  41144  41931  35734\n",
       "1      København  2009  42894  43953  36607\n",
       "2  Frederiksberg  2009  48321  49563  41119\n",
       "3         Dragør  2009  51451  52807  43215\n",
       "4         Tårnby  2009  41559  42664  36147"
      ]
     },
     "execution_count": 11,
     "metadata": {},
     "output_type": "execute_result"
    }
   ],
   "source": [
    "# a. rename year columns\n",
    "mydict = {str(i):f'wage{i}' for i in range(2009,2017)}\n",
    "wage.rename(columns = mydict, inplace=True)\n",
    "\n",
    "# b. convert to long\n",
    "wage_long = pd.wide_to_long(wage, stubnames='wage', i='municipality', j='year').reset_index()\n",
    "\n",
    "# c. show\n",
    "wage_long.head()"
   ]
  },
  {
   "cell_type": "markdown",
   "metadata": {},
   "source": [
    "## Explore data set"
   ]
  },
  {
   "cell_type": "markdown",
   "metadata": {},
   "source": [
    "In order to be able to **explore the raw data**, we here provide an **interactive plot** to show, respectively, the employment and income level in each municipality"
   ]
  },
  {
   "cell_type": "markdown",
   "metadata": {},
   "source": [
    "The **static plot** is:"
   ]
  },
  {
   "cell_type": "code",
   "execution_count": 12,
   "metadata": {},
   "outputs": [],
   "source": [
    "def plot_wage_gini(wage,gini,dataset,municipality): \n",
    "    \n",
    "    if dataset == 'wage':\n",
    "        df = wage\n",
    "        y = 'wage'\n",
    "    else:\n",
    "        df = gini\n",
    "        y = 'gini'\n",
    "    \n",
    "    I = df['municipality'] == municipality\n",
    "    ax = df.loc[I,:].plot(x='year', y=y, style='-o')"
   ]
  },
  {
   "cell_type": "markdown",
   "metadata": {},
   "source": [
    "The **interactive plot** is:"
   ]
  },
  {
   "cell_type": "code",
   "execution_count": 13,
   "metadata": {},
   "outputs": [
    {
     "data": {
      "application/vnd.jupyter.widget-view+json": {
       "model_id": "5d5e222ce0a94f6689b9c5a8dd3209f2",
       "version_major": 2,
       "version_minor": 0
      },
      "text/plain": [
       "interactive(children=(Dropdown(description='Dataset', options=('wage', 'gini'), value='wage'), Dropdown(descri…"
      ]
     },
     "metadata": {},
     "output_type": "display_data"
    },
    {
     "data": {
      "application/vnd.jupyter.widget-view+json": {
       "model_id": "ae6f738e9da74a93b59f1eaedee20168",
       "version_major": 2,
       "version_minor": 0
      },
      "text/plain": [
       "interactive(children=(Dropdown(description='Dataset', options=('wage', 'gini'), value='wage'), Dropdown(descri…"
      ]
     },
     "metadata": {},
     "output_type": "display_data"
    }
   ],
   "source": [
    "widgets.interact(plot_wage_gini, \n",
    "    \n",
    "    wage = widgets.fixed(wage_long),\n",
    "    gini = widgets.fixed(gini_long),\n",
    "    dataset = widgets.Dropdown(description='Dataset', \n",
    "                               options=['wage','gini']),\n",
    "    municipality = widgets.Dropdown(description='Municipality', \n",
    "                                    options=wage_long.municipality.unique())\n",
    "               \n",
    "); \n",
    "widgets.interact(plot_wage_gini, \n",
    "    \n",
    "    wage = widgets.fixed(wage_long),\n",
    "    gini = widgets.fixed(gini_long),\n",
    "    dataset = widgets.Dropdown(description='Dataset', \n",
    "                               options=['wage','gini']),\n",
    "    municipality = widgets.Dropdown(description='Municipality', \n",
    "                                    options=wage_long.municipality.unique())\n",
    "                 \n",
    "); "
   ]
  },
  {
   "cell_type": "markdown",
   "metadata": {},
   "source": [
    "# NEW GRAPH"
   ]
  },
  {
   "cell_type": "code",
   "execution_count": 14,
   "metadata": {},
   "outputs": [],
   "source": [
    "#We select the municipalities we wish to illustrate"
   ]
  },
  {
   "cell_type": "code",
   "execution_count": 15,
   "metadata": {},
   "outputs": [
    {
     "data": {
      "text/plain": [
       "<matplotlib.legend.Legend at 0x1025790f90>"
      ]
     },
     "execution_count": 15,
     "metadata": {},
     "output_type": "execute_result"
    },
    {
     "data": {
      "image/png": "[encoded data removed]",
      "text/plain": [
       "<Figure size 432x288 with 1 Axes>"
      ]
     },
     "metadata": {
      "needs_background": "light"
     },
     "output_type": "display_data"
    }
   ],
   "source": [
    "municipalities2 = ['Hele Landet','Købehhavn','Gentofte','Ishøj']\n",
    "\n",
    "fig = plt.figure()\n",
    "ax = fig.add_subplot(1,1,1)\n",
    "\n",
    "for m in municipalities2:\n",
    "    wage_long.plot(x='year',y='wage',ax=ax,label=m)\n",
    "\n",
    "ax.legend(frameon=True)"
   ]
  },
  {
   "cell_type": "code",
   "execution_count": 16,
   "metadata": {},
   "outputs": [
    {
     "data": {
      "text/plain": [
       "<matplotlib.axes._subplots.AxesSubplot at 0x10257a1610>"
      ]
     },
     "execution_count": 16,
     "metadata": {},
     "output_type": "execute_result"
    },
    {
     "data": {
      "image/png": "[encoded data removed]",
      "text/plain": [
       "<Figure size 432x288 with 1 Axes>"
      ]
     },
     "metadata": {
      "needs_background": "light"
     },
     "output_type": "display_data"
    }
   ],
   "source": [
    "fig = plt.figure()\n",
    "ax = fig.add_subplot(1,1,1)\n",
    "\n",
    "wage_long.plot(ax=ax)\n",
    "wage_long.plot(ax=ax)"
   ]
  },
  {
   "cell_type": "markdown",
   "metadata": {},
   "source": [
    "ADD SOMETHING HERE IF THE READER SHOULD KNOW THAT E.G. SOME MUNICIPALITY IS SPECIAL."
   ]
  },
  {
   "cell_type": "markdown",
   "metadata": {},
   "source": [
    "# Merge data sets"
   ]
  },
  {
   "cell_type": "markdown",
   "metadata": {},
   "source": [
    "We now create a data set with **municpalities which are in both of our data sets**. This means removing Christiansø from our datasets, so they represent the same municpalities and all of Denmark."
   ]
  },
  {
   "cell_type": "code",
   "execution_count": 17,
   "metadata": {},
   "outputs": [
    {
     "name": "stdout",
     "output_type": "stream",
     "text": [
      "0\n",
      "8\n",
      "0\n",
      "99\n",
      "Number of municipalities = 0\n",
      "Number of years          = 0\n"
     ]
    }
   ],
   "source": [
    "print(len(gini_long.year.unique()))\n",
    "print(len(wage_long.year.unique()))\n",
    "print(len(gini_long.municipality.unique()))\n",
    "print(len(wage_long.municipality.unique()))\n",
    "\n",
    "#We merge the two datasets:\n",
    "merged = pd.merge(gini_long, wage_long ,how='inner',on=['municipality','year'])\n",
    "\n",
    "print(f'Number of municipalities = {len(merged.municipality.unique())}')\n",
    "print(f'Number of years          = {len(merged.year.unique())}')"
   ]
  },
  {
   "cell_type": "markdown",
   "metadata": {},
   "source": [
    "# Analysis"
   ]
  },
  {
   "cell_type": "markdown",
   "metadata": {},
   "source": [
    "To get a quick overview of the data, we show some **summary statistics by year**:"
   ]
  },
  {
   "cell_type": "code",
   "execution_count": 18,
   "metadata": {},
   "outputs": [
    {
     "name": "stdout",
     "output_type": "stream",
     "text": [
      "Empty DataFrame\n",
      "Columns: [(2016, mean), (2016, std), (2016, max), (2016, min), (2017_x, mean), (2017_x, std), (2017_x, max), (2017_x, min), (2014, mean), (2014, std), (2014, max), (2014, min), (2012, mean), (2012, std), (2012, max), (2012, min), (2013, mean), (2013, std), (2013, max), (2013, min), (2010, mean), (2010, std), (2010, max), (2010, min), (2015, mean), (2015, std), (2015, max), (2015, min), (2011, mean), (2011, std), (2011, max), (2011, min), (2018_x, mean), (2018_x, std), (2018_x, max), (2018_x, min), (2009, mean), (2009, std), (2009, max), (2009, min), (gini, mean), (gini, std), (gini, max), (gini, min)]\n",
      "Index: []\n",
      "\n",
      "[0 rows x 44 columns]\n",
      "Empty DataFrame\n",
      "Columns: [(municipality, mean), (municipality, std), (municipality, max), (municipality, min), (2016, mean), (2016, std), (2016, max), (2016, min), (2017, mean), (2017, std), (2017, max), (2017, min), (2014, mean), (2014, std), (2014, max), (2014, min), (2012, mean), (2012, std), (2012, max), (2012, min), (2013, mean), (2013, std), (2013, max), (2013, min), (2010, mean), (2010, std), (2010, max), (2010, min), (2015, mean), (2015, std), (2015, max), (2015, min), (2011, mean), (2011, std), (2011, max), (2011, min), (2018, mean), (2018, std), (2018, max), (2018, min), (2009, mean), (2009, std), (2009, max), (2009, min), (gini, mean), (gini, std), (gini, max), (gini, min)]\n",
      "Index: []\n",
      "\n",
      "[0 rows x 48 columns]\n",
      "Empty DataFrame\n",
      "Columns: [municipality, year, 2016, 2017, 2014, 2012, 2013, 2010, 2015, 2011, 2018, 2009, gini]\n",
      "Index: []\n",
      "        municipality  year   2017   2018   wage\n",
      "0        Hele landet  2009  41144  41931  35734\n",
      "1          København  2009  42894  43953  36607\n",
      "2      Frederiksberg  2009  48321  49563  41119\n",
      "3             Dragør  2009  51451  52807  43215\n",
      "4             Tårnby  2009  41559  42664  36147\n",
      "..               ...   ...    ...    ...    ...\n",
      "787            Morsø  2016  35325  35917  34475\n",
      "788           Rebild  2016  39844  40638  38923\n",
      "789          Thisted  2016  35849  36323  35091\n",
      "790  Vesthimmerlands  2016  35611  36487  35198\n",
      "791          Aalborg  2016  39649  40309  38880\n",
      "\n",
      "[792 rows x 5 columns]\n",
      "Empty DataFrame\n",
      "Columns: [(2016, mean), (2017_x, mean), (2014, mean), (2012, mean), (2013, mean), (2010, mean), (2015, mean), (2011, mean), (2018_x, mean), (2009, mean), (gini, mean)]\n",
      "Index: []\n"
     ]
    }
   ],
   "source": [
    "print(merged.groupby('year').agg(['mean','std','max','min']).round(2))\n",
    "print(gini_long.groupby('year').agg(['mean','std','max','min']).round(2))\n",
    "print(gini_long)\n",
    "print(wage_long)\n",
    "print(merged.groupby('year').agg(['mean']))"
   ]
  },
  {
   "cell_type": "code",
   "execution_count": null,
   "metadata": {},
   "outputs": [],
   "source": []
  },
  {
   "cell_type": "markdown",
   "metadata": {},
   "source": [
    "ADD FURTHER ANALYSIS. EXPLAIN THE CODE BRIEFLY AND SUMMARIZE THE RESULTS."
   ]
  },
  {
   "cell_type": "markdown",
   "metadata": {},
   "source": [
    "# Conclusion"
   ]
  },
  {
   "cell_type": "markdown",
   "metadata": {},
   "source": [
    "ADD CONCISE CONLUSION."
   ]
  }
 ],
 "metadata": {
  "kernelspec": {
   "display_name": "Python 3",
   "language": "python",
   "name": "python3"
  },
  "language_info": {
   "codemirror_mode": {
    "name": "ipython",
    "version": 3
   },
   "file_extension": ".py",
   "mimetype": "text/x-python",
   "name": "python",
   "nbconvert_exporter": "python",
   "pygments_lexer": "ipython3",
   "version": "3.7.4"
  },
  "toc-autonumbering": true
 },
 "nbformat": 4,
 "nbformat_minor": 4
}
