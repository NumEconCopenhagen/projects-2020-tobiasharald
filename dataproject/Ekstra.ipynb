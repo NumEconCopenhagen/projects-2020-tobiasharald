{
 "nbformat": 4,
 "nbformat_minor": 2,
 "metadata": {
  "language_info": {
   "name": "python",
   "codemirror_mode": {
    "name": "ipython",
    "version": 3
   }
  },
  "orig_nbformat": 2,
  "file_extension": ".py",
  "mimetype": "text/x-python",
  "name": "python",
  "npconvert_exporter": "python",
  "pygments_lexer": "ipython3",
  "version": 3
 },
 "cells": [
  {
   "cell_type": "code",
   "execution_count": null,
   "metadata": {},
   "outputs": [],
   "source": [
    "diff_m = [m for m in wage.municipality.unique() if m not in gini.municipality.unique()] \n",
    "print(f'municipalities in wage data, but not in gini data: {diff_m}')"
   ]
  }
 ]
}